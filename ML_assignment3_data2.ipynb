{
 "cells": [
  {
   "cell_type": "code",
   "execution_count": 1,
   "metadata": {},
   "outputs": [
    {
     "name": "stdout",
     "output_type": "stream",
     "text": [
      "   age         workclass  fnlwgt  education  education-num  \\\n",
      "0   39         State-gov   77516  Bachelors             13   \n",
      "1   50  Self-emp-not-inc   83311  Bachelors             13   \n",
      "2   38           Private  215646    HS-grad              9   \n",
      "3   53           Private  234721       11th              7   \n",
      "4   28           Private  338409  Bachelors             13   \n",
      "\n",
      "       marital-status         occupation   relationship   race     sex  \\\n",
      "0       Never-married       Adm-clerical  Not-in-family  White    Male   \n",
      "1  Married-civ-spouse    Exec-managerial        Husband  White    Male   \n",
      "2            Divorced  Handlers-cleaners  Not-in-family  White    Male   \n",
      "3  Married-civ-spouse  Handlers-cleaners        Husband  Black    Male   \n",
      "4  Married-civ-spouse     Prof-specialty           Wife  Black  Female   \n",
      "\n",
      "   capital-gain  capital-loss  hours-per-week native-country Income level  \n",
      "0          2174             0              40  United-States        <=50K  \n",
      "1             0             0              13  United-States        <=50K  \n",
      "2             0             0              40  United-States        <=50K  \n",
      "3             0             0              40  United-States        <=50K  \n",
      "4             0             0              40           Cuba        <=50K  \n"
     ]
    }
   ],
   "source": [
    "# importing diabeties data\n",
    "import pandas as pd\n",
    "data = pd.read_csv('D:/MSBA/10 Applied Machine Learning/assignment/2/adult_income.csv')\n",
    "print(data.head())"
   ]
  },
  {
   "cell_type": "code",
   "execution_count": 2,
   "metadata": {},
   "outputs": [
    {
     "data": {
      "text/plain": [
       "(32561, 15)"
      ]
     },
     "execution_count": 2,
     "metadata": {},
     "output_type": "execute_result"
    }
   ],
   "source": [
    "data.shape"
   ]
  },
  {
   "cell_type": "code",
   "execution_count": 3,
   "metadata": {},
   "outputs": [
    {
     "data": {
      "text/plain": [
       "Index(['age', 'fnlwgt', 'education-num', 'capital-gain', 'capital-loss',\n",
       "       'hours-per-week'],\n",
       "      dtype='object')"
      ]
     },
     "execution_count": 3,
     "metadata": {},
     "output_type": "execute_result"
    }
   ],
   "source": [
    "data.select_dtypes('int64').columns"
   ]
  },
  {
   "cell_type": "code",
   "execution_count": 4,
   "metadata": {},
   "outputs": [
    {
     "name": "stdout",
     "output_type": "stream",
     "text": [
      "(32561, 101)\n"
     ]
    }
   ],
   "source": [
    "new_data = pd.get_dummies(data)\n",
    "new_data = new_data.drop(columns = ['workclass_?','education_10th','marital-status_Divorced','occupation_?','relationship_Husband','race_Amer-Indian-Eskimo','sex_Female','native-country_?','Income level_ <=50K'])\n",
    "print(new_data.shape)"
   ]
  },
  {
   "cell_type": "code",
   "execution_count": 5,
   "metadata": {},
   "outputs": [
    {
     "name": "stdout",
     "output_type": "stream",
     "text": [
      "(32561, 100) (32561,)\n"
     ]
    }
   ],
   "source": [
    "# deviding data into features and outcome\n",
    "X = new_data.iloc[:,:-1]\n",
    "y = new_data.iloc[:,-1]\n",
    "print(X.shape, y.shape)"
   ]
  },
  {
   "cell_type": "code",
   "execution_count": 17,
   "metadata": {},
   "outputs": [
    {
     "name": "stdout",
     "output_type": "stream",
     "text": [
      "(26048, 100) (6513, 100)\n"
     ]
    }
   ],
   "source": [
    "# dividing dataset into traing and testing dataset\n",
    "import numpy as np\n",
    "np.random.seed(42)\n",
    "from sklearn.model_selection import train_test_split\n",
    "X_train, X_test, y_train, y_test = train_test_split(X,y, test_size = 0.2)\n",
    "print(X_train.shape, X_test.shape)"
   ]
  },
  {
   "cell_type": "markdown",
   "metadata": {},
   "source": [
    "# Neural Net"
   ]
  },
  {
   "cell_type": "code",
   "execution_count": 72,
   "metadata": {},
   "outputs": [
    {
     "name": "stdout",
     "output_type": "stream",
     "text": [
      "0.7994779671426377\n"
     ]
    },
    {
     "name": "stderr",
     "output_type": "stream",
     "text": [
      "C:\\Users\\asus\\Anaconda3\\lib\\site-packages\\sklearn\\neural_network\\multilayer_perceptron.py:566: ConvergenceWarning: Stochastic Optimizer: Maximum iterations (200) reached and the optimization hasn't converged yet.\n",
      "  % self.max_iter, ConvergenceWarning)\n"
     ]
    }
   ],
   "source": [
    "nn_clf = MLPClassifier()\n",
    "nn_clf.fit(X_train,y_train)\n",
    "print(nn_clf.score(X_test,y_test))"
   ]
  },
  {
   "cell_type": "code",
   "execution_count": 73,
   "metadata": {},
   "outputs": [
    {
     "data": {
      "text/plain": [
       "0.8000767828006526"
      ]
     },
     "execution_count": 73,
     "metadata": {},
     "output_type": "execute_result"
    }
   ],
   "source": [
    "nn_clf.score(X_train,y_train)"
   ]
  },
  {
   "cell_type": "code",
   "execution_count": 57,
   "metadata": {},
   "outputs": [
    {
     "name": "stderr",
     "output_type": "stream",
     "text": [
      "C:\\Users\\asus\\Anaconda3\\lib\\site-packages\\sklearn\\model_selection\\_split.py:1978: FutureWarning: The default value of cv will change from 3 to 5 in version 0.22. Specify it explicitly to silence this warning.\n",
      "  warnings.warn(CV_WARNING, FutureWarning)\n",
      "C:\\Users\\asus\\Anaconda3\\lib\\site-packages\\sklearn\\neural_network\\multilayer_perceptron.py:566: ConvergenceWarning: Stochastic Optimizer: Maximum iterations (200) reached and the optimization hasn't converged yet.\n",
      "  % self.max_iter, ConvergenceWarning)\n",
      "C:\\Users\\asus\\Anaconda3\\lib\\site-packages\\sklearn\\neural_network\\multilayer_perceptron.py:566: ConvergenceWarning: Stochastic Optimizer: Maximum iterations (200) reached and the optimization hasn't converged yet.\n",
      "  % self.max_iter, ConvergenceWarning)\n",
      "C:\\Users\\asus\\Anaconda3\\lib\\site-packages\\sklearn\\neural_network\\multilayer_perceptron.py:566: ConvergenceWarning: Stochastic Optimizer: Maximum iterations (200) reached and the optimization hasn't converged yet.\n",
      "  % self.max_iter, ConvergenceWarning)\n",
      "C:\\Users\\asus\\Anaconda3\\lib\\site-packages\\sklearn\\neural_network\\multilayer_perceptron.py:566: ConvergenceWarning: Stochastic Optimizer: Maximum iterations (200) reached and the optimization hasn't converged yet.\n",
      "  % self.max_iter, ConvergenceWarning)\n",
      "C:\\Users\\asus\\Anaconda3\\lib\\site-packages\\sklearn\\neural_network\\multilayer_perceptron.py:566: ConvergenceWarning: Stochastic Optimizer: Maximum iterations (200) reached and the optimization hasn't converged yet.\n",
      "  % self.max_iter, ConvergenceWarning)\n",
      "C:\\Users\\asus\\Anaconda3\\lib\\site-packages\\sklearn\\neural_network\\multilayer_perceptron.py:566: ConvergenceWarning: Stochastic Optimizer: Maximum iterations (200) reached and the optimization hasn't converged yet.\n",
      "  % self.max_iter, ConvergenceWarning)\n",
      "C:\\Users\\asus\\Anaconda3\\lib\\site-packages\\sklearn\\neural_network\\multilayer_perceptron.py:566: ConvergenceWarning: Stochastic Optimizer: Maximum iterations (200) reached and the optimization hasn't converged yet.\n",
      "  % self.max_iter, ConvergenceWarning)\n",
      "C:\\Users\\asus\\Anaconda3\\lib\\site-packages\\sklearn\\neural_network\\multilayer_perceptron.py:566: ConvergenceWarning: Stochastic Optimizer: Maximum iterations (200) reached and the optimization hasn't converged yet.\n",
      "  % self.max_iter, ConvergenceWarning)\n",
      "C:\\Users\\asus\\Anaconda3\\lib\\site-packages\\sklearn\\neural_network\\multilayer_perceptron.py:566: ConvergenceWarning: Stochastic Optimizer: Maximum iterations (200) reached and the optimization hasn't converged yet.\n",
      "  % self.max_iter, ConvergenceWarning)\n",
      "C:\\Users\\asus\\Anaconda3\\lib\\site-packages\\sklearn\\neural_network\\multilayer_perceptron.py:566: ConvergenceWarning: Stochastic Optimizer: Maximum iterations (200) reached and the optimization hasn't converged yet.\n",
      "  % self.max_iter, ConvergenceWarning)\n",
      "C:\\Users\\asus\\Anaconda3\\lib\\site-packages\\sklearn\\neural_network\\multilayer_perceptron.py:566: ConvergenceWarning: Stochastic Optimizer: Maximum iterations (200) reached and the optimization hasn't converged yet.\n",
      "  % self.max_iter, ConvergenceWarning)\n",
      "C:\\Users\\asus\\Anaconda3\\lib\\site-packages\\sklearn\\neural_network\\multilayer_perceptron.py:566: ConvergenceWarning: Stochastic Optimizer: Maximum iterations (200) reached and the optimization hasn't converged yet.\n",
      "  % self.max_iter, ConvergenceWarning)\n",
      "C:\\Users\\asus\\Anaconda3\\lib\\site-packages\\sklearn\\neural_network\\multilayer_perceptron.py:566: ConvergenceWarning: Stochastic Optimizer: Maximum iterations (200) reached and the optimization hasn't converged yet.\n",
      "  % self.max_iter, ConvergenceWarning)\n"
     ]
    },
    {
     "data": {
      "text/html": [
       "<div>\n",
       "<style scoped>\n",
       "    .dataframe tbody tr th:only-of-type {\n",
       "        vertical-align: middle;\n",
       "    }\n",
       "\n",
       "    .dataframe tbody tr th {\n",
       "        vertical-align: top;\n",
       "    }\n",
       "\n",
       "    .dataframe thead th {\n",
       "        text-align: right;\n",
       "    }\n",
       "</style>\n",
       "<table border=\"1\" class=\"dataframe\">\n",
       "  <thead>\n",
       "    <tr style=\"text-align: right;\">\n",
       "      <th></th>\n",
       "      <th>mean_fit_time</th>\n",
       "      <th>std_fit_time</th>\n",
       "      <th>mean_score_time</th>\n",
       "      <th>std_score_time</th>\n",
       "      <th>param_activation</th>\n",
       "      <th>param_hidden_layer_sizes</th>\n",
       "      <th>params</th>\n",
       "      <th>split0_test_score</th>\n",
       "      <th>split1_test_score</th>\n",
       "      <th>split2_test_score</th>\n",
       "      <th>mean_test_score</th>\n",
       "      <th>std_test_score</th>\n",
       "      <th>rank_test_score</th>\n",
       "    </tr>\n",
       "  </thead>\n",
       "  <tbody>\n",
       "    <tr>\n",
       "      <td>0</td>\n",
       "      <td>2.025914</td>\n",
       "      <td>0.385068</td>\n",
       "      <td>0.041555</td>\n",
       "      <td>0.002617</td>\n",
       "      <td>logistic</td>\n",
       "      <td>(100,)</td>\n",
       "      <td>{'activation': 'logistic', 'hidden_layer_sizes...</td>\n",
       "      <td>0.767669</td>\n",
       "      <td>0.762741</td>\n",
       "      <td>0.764867</td>\n",
       "      <td>0.765093</td>\n",
       "      <td>0.002018</td>\n",
       "      <td>9</td>\n",
       "    </tr>\n",
       "    <tr>\n",
       "      <td>1</td>\n",
       "      <td>3.468382</td>\n",
       "      <td>0.605411</td>\n",
       "      <td>0.060172</td>\n",
       "      <td>0.010374</td>\n",
       "      <td>logistic</td>\n",
       "      <td>(100, 100)</td>\n",
       "      <td>{'activation': 'logistic', 'hidden_layer_sizes...</td>\n",
       "      <td>0.767813</td>\n",
       "      <td>0.763605</td>\n",
       "      <td>0.761699</td>\n",
       "      <td>0.764373</td>\n",
       "      <td>0.002555</td>\n",
       "      <td>11</td>\n",
       "    </tr>\n",
       "    <tr>\n",
       "      <td>2</td>\n",
       "      <td>3.616900</td>\n",
       "      <td>2.131555</td>\n",
       "      <td>0.020499</td>\n",
       "      <td>0.003449</td>\n",
       "      <td>logistic</td>\n",
       "      <td>(50,)</td>\n",
       "      <td>{'activation': 'logistic', 'hidden_layer_sizes...</td>\n",
       "      <td>0.781057</td>\n",
       "      <td>0.771667</td>\n",
       "      <td>0.759395</td>\n",
       "      <td>0.770707</td>\n",
       "      <td>0.008869</td>\n",
       "      <td>6</td>\n",
       "    </tr>\n",
       "    <tr>\n",
       "      <td>3</td>\n",
       "      <td>3.799330</td>\n",
       "      <td>1.729162</td>\n",
       "      <td>0.034035</td>\n",
       "      <td>0.009089</td>\n",
       "      <td>logistic</td>\n",
       "      <td>(50, 50)</td>\n",
       "      <td>{'activation': 'logistic', 'hidden_layer_sizes...</td>\n",
       "      <td>0.767669</td>\n",
       "      <td>0.761589</td>\n",
       "      <td>0.766739</td>\n",
       "      <td>0.765333</td>\n",
       "      <td>0.002674</td>\n",
       "      <td>8</td>\n",
       "    </tr>\n",
       "    <tr>\n",
       "      <td>4</td>\n",
       "      <td>0.791394</td>\n",
       "      <td>0.038678</td>\n",
       "      <td>0.012224</td>\n",
       "      <td>0.004785</td>\n",
       "      <td>tanh</td>\n",
       "      <td>(100,)</td>\n",
       "      <td>{'activation': 'tanh', 'hidden_layer_sizes': (...</td>\n",
       "      <td>0.767526</td>\n",
       "      <td>0.759430</td>\n",
       "      <td>0.766739</td>\n",
       "      <td>0.764565</td>\n",
       "      <td>0.003645</td>\n",
       "      <td>10</td>\n",
       "    </tr>\n",
       "    <tr>\n",
       "      <td>5</td>\n",
       "      <td>1.643538</td>\n",
       "      <td>0.533874</td>\n",
       "      <td>0.025266</td>\n",
       "      <td>0.002616</td>\n",
       "      <td>tanh</td>\n",
       "      <td>(100, 100)</td>\n",
       "      <td>{'activation': 'tanh', 'hidden_layer_sizes': (...</td>\n",
       "      <td>0.761768</td>\n",
       "      <td>0.772531</td>\n",
       "      <td>0.779122</td>\n",
       "      <td>0.771139</td>\n",
       "      <td>0.007153</td>\n",
       "      <td>5</td>\n",
       "    </tr>\n",
       "    <tr>\n",
       "      <td>6</td>\n",
       "      <td>1.336499</td>\n",
       "      <td>1.026127</td>\n",
       "      <td>0.006981</td>\n",
       "      <td>0.004953</td>\n",
       "      <td>tanh</td>\n",
       "      <td>(50,)</td>\n",
       "      <td>{'activation': 'tanh', 'hidden_layer_sizes': (...</td>\n",
       "      <td>0.771268</td>\n",
       "      <td>0.764613</td>\n",
       "      <td>0.773074</td>\n",
       "      <td>0.769652</td>\n",
       "      <td>0.003639</td>\n",
       "      <td>7</td>\n",
       "    </tr>\n",
       "    <tr>\n",
       "      <td>7</td>\n",
       "      <td>1.077783</td>\n",
       "      <td>0.127592</td>\n",
       "      <td>0.014295</td>\n",
       "      <td>0.001244</td>\n",
       "      <td>tanh</td>\n",
       "      <td>(50, 50)</td>\n",
       "      <td>{'activation': 'tanh', 'hidden_layer_sizes': (...</td>\n",
       "      <td>0.767238</td>\n",
       "      <td>0.782897</td>\n",
       "      <td>0.766883</td>\n",
       "      <td>0.772339</td>\n",
       "      <td>0.007467</td>\n",
       "      <td>4</td>\n",
       "    </tr>\n",
       "    <tr>\n",
       "      <td>8</td>\n",
       "      <td>13.165732</td>\n",
       "      <td>1.239232</td>\n",
       "      <td>0.023046</td>\n",
       "      <td>0.005853</td>\n",
       "      <td>relu</td>\n",
       "      <td>(100,)</td>\n",
       "      <td>{'activation': 'relu', 'hidden_layer_sizes': (...</td>\n",
       "      <td>0.818483</td>\n",
       "      <td>0.773395</td>\n",
       "      <td>0.790929</td>\n",
       "      <td>0.794270</td>\n",
       "      <td>0.018559</td>\n",
       "      <td>2</td>\n",
       "    </tr>\n",
       "    <tr>\n",
       "      <td>9</td>\n",
       "      <td>28.732762</td>\n",
       "      <td>0.997467</td>\n",
       "      <td>0.042456</td>\n",
       "      <td>0.012465</td>\n",
       "      <td>relu</td>\n",
       "      <td>(100, 100)</td>\n",
       "      <td>{'activation': 'relu', 'hidden_layer_sizes': (...</td>\n",
       "      <td>0.810998</td>\n",
       "      <td>0.325655</td>\n",
       "      <td>0.787185</td>\n",
       "      <td>0.641280</td>\n",
       "      <td>0.223392</td>\n",
       "      <td>12</td>\n",
       "    </tr>\n",
       "    <tr>\n",
       "      <td>10</td>\n",
       "      <td>15.993497</td>\n",
       "      <td>1.395001</td>\n",
       "      <td>0.020615</td>\n",
       "      <td>0.002051</td>\n",
       "      <td>relu</td>\n",
       "      <td>(50,)</td>\n",
       "      <td>{'activation': 'relu', 'hidden_layer_sizes': (...</td>\n",
       "      <td>0.804808</td>\n",
       "      <td>0.800173</td>\n",
       "      <td>0.810223</td>\n",
       "      <td>0.805068</td>\n",
       "      <td>0.004107</td>\n",
       "      <td>1</td>\n",
       "    </tr>\n",
       "    <tr>\n",
       "      <td>11</td>\n",
       "      <td>21.342959</td>\n",
       "      <td>0.495399</td>\n",
       "      <td>0.025661</td>\n",
       "      <td>0.001711</td>\n",
       "      <td>relu</td>\n",
       "      <td>(50, 50)</td>\n",
       "      <td>{'activation': 'relu', 'hidden_layer_sizes': (...</td>\n",
       "      <td>0.770548</td>\n",
       "      <td>0.786928</td>\n",
       "      <td>0.788337</td>\n",
       "      <td>0.781937</td>\n",
       "      <td>0.008074</td>\n",
       "      <td>3</td>\n",
       "    </tr>\n",
       "  </tbody>\n",
       "</table>\n",
       "</div>"
      ],
      "text/plain": [
       "    mean_fit_time  std_fit_time  mean_score_time  std_score_time  \\\n",
       "0        2.025914      0.385068         0.041555        0.002617   \n",
       "1        3.468382      0.605411         0.060172        0.010374   \n",
       "2        3.616900      2.131555         0.020499        0.003449   \n",
       "3        3.799330      1.729162         0.034035        0.009089   \n",
       "4        0.791394      0.038678         0.012224        0.004785   \n",
       "5        1.643538      0.533874         0.025266        0.002616   \n",
       "6        1.336499      1.026127         0.006981        0.004953   \n",
       "7        1.077783      0.127592         0.014295        0.001244   \n",
       "8       13.165732      1.239232         0.023046        0.005853   \n",
       "9       28.732762      0.997467         0.042456        0.012465   \n",
       "10      15.993497      1.395001         0.020615        0.002051   \n",
       "11      21.342959      0.495399         0.025661        0.001711   \n",
       "\n",
       "   param_activation param_hidden_layer_sizes  \\\n",
       "0          logistic                   (100,)   \n",
       "1          logistic               (100, 100)   \n",
       "2          logistic                    (50,)   \n",
       "3          logistic                 (50, 50)   \n",
       "4              tanh                   (100,)   \n",
       "5              tanh               (100, 100)   \n",
       "6              tanh                    (50,)   \n",
       "7              tanh                 (50, 50)   \n",
       "8              relu                   (100,)   \n",
       "9              relu               (100, 100)   \n",
       "10             relu                    (50,)   \n",
       "11             relu                 (50, 50)   \n",
       "\n",
       "                                               params  split0_test_score  \\\n",
       "0   {'activation': 'logistic', 'hidden_layer_sizes...           0.767669   \n",
       "1   {'activation': 'logistic', 'hidden_layer_sizes...           0.767813   \n",
       "2   {'activation': 'logistic', 'hidden_layer_sizes...           0.781057   \n",
       "3   {'activation': 'logistic', 'hidden_layer_sizes...           0.767669   \n",
       "4   {'activation': 'tanh', 'hidden_layer_sizes': (...           0.767526   \n",
       "5   {'activation': 'tanh', 'hidden_layer_sizes': (...           0.761768   \n",
       "6   {'activation': 'tanh', 'hidden_layer_sizes': (...           0.771268   \n",
       "7   {'activation': 'tanh', 'hidden_layer_sizes': (...           0.767238   \n",
       "8   {'activation': 'relu', 'hidden_layer_sizes': (...           0.818483   \n",
       "9   {'activation': 'relu', 'hidden_layer_sizes': (...           0.810998   \n",
       "10  {'activation': 'relu', 'hidden_layer_sizes': (...           0.804808   \n",
       "11  {'activation': 'relu', 'hidden_layer_sizes': (...           0.770548   \n",
       "\n",
       "    split1_test_score  split2_test_score  mean_test_score  std_test_score  \\\n",
       "0            0.762741           0.764867         0.765093        0.002018   \n",
       "1            0.763605           0.761699         0.764373        0.002555   \n",
       "2            0.771667           0.759395         0.770707        0.008869   \n",
       "3            0.761589           0.766739         0.765333        0.002674   \n",
       "4            0.759430           0.766739         0.764565        0.003645   \n",
       "5            0.772531           0.779122         0.771139        0.007153   \n",
       "6            0.764613           0.773074         0.769652        0.003639   \n",
       "7            0.782897           0.766883         0.772339        0.007467   \n",
       "8            0.773395           0.790929         0.794270        0.018559   \n",
       "9            0.325655           0.787185         0.641280        0.223392   \n",
       "10           0.800173           0.810223         0.805068        0.004107   \n",
       "11           0.786928           0.788337         0.781937        0.008074   \n",
       "\n",
       "    rank_test_score  \n",
       "0                 9  \n",
       "1                11  \n",
       "2                 6  \n",
       "3                 8  \n",
       "4                10  \n",
       "5                 5  \n",
       "6                 7  \n",
       "7                 4  \n",
       "8                 2  \n",
       "9                12  \n",
       "10                1  \n",
       "11                3  "
      ]
     },
     "execution_count": 57,
     "metadata": {},
     "output_type": "execute_result"
    }
   ],
   "source": [
    "# finding optimum parameters of neural net classifier\n",
    "from sklearn.model_selection import GridSearchCV\n",
    "from sklearn.neural_network import MLPClassifier\n",
    "\n",
    "nn_clf = MLPClassifier()\n",
    "parameters = {'activation':['logistic','tanh','relu'], 'hidden_layer_sizes':[(100,),(100,100),(50,),(50,50)]}\n",
    "nn_clf = MLPClassifier()\n",
    "gs_clf = GridSearchCV(nn_clf, parameters)\n",
    "gs_clf.fit(X_train,y_train)\n",
    "pd.DataFrame(gs_clf.cv_results_)"
   ]
  },
  {
   "cell_type": "code",
   "execution_count": 58,
   "metadata": {},
   "outputs": [
    {
     "name": "stdout",
     "output_type": "stream",
     "text": [
      "best parameters:  {'activation': 'relu', 'hidden_layer_sizes': (50,)}\n",
      "best train score:  0.8050676648430751\n",
      "test score:  0.3138338707200983\n"
     ]
    }
   ],
   "source": [
    "print('best parameters: ', gs_clf.best_params_)\n",
    "print('best train score: ', gs_clf.best_score_)\n",
    "print(\"test score: \",gs_clf.score(X_test,y_test))"
   ]
  },
  {
   "cell_type": "code",
   "execution_count": 71,
   "metadata": {},
   "outputs": [],
   "source": [
    "nn_params = pd.DataFrame(gs_clf.cv_results_)\n",
    "nn_params.to_csv('D:/MSBA/10 Applied Machine Learning/assignment/3/nn_params_2.csv')"
   ]
  },
  {
   "cell_type": "code",
   "execution_count": 59,
   "metadata": {},
   "outputs": [
    {
     "name": "stdout",
     "output_type": "stream",
     "text": [
      "training accuracy:  0.8105864286399846\n",
      "test accuracy:  0.8091509289114079\n"
     ]
    },
    {
     "name": "stderr",
     "output_type": "stream",
     "text": [
      "C:\\Users\\asus\\Anaconda3\\lib\\site-packages\\sklearn\\neural_network\\multilayer_perceptron.py:566: ConvergenceWarning: Stochastic Optimizer: Maximum iterations (200) reached and the optimization hasn't converged yet.\n",
      "  % self.max_iter, ConvergenceWarning)\n"
     ]
    }
   ],
   "source": [
    "# final neural net classifier based on above results\n",
    "final_nn_clf = MLPClassifier(activation = 'relu', hidden_layer_sizes = (50))\n",
    "final_nn_clf.fit(X_train,y_train)\n",
    "print('training accuracy: ',final_nn_clf.score(X_train,y_train))\n",
    "print('test accuracy: ', final_nn_clf.score(X_test,y_test))"
   ]
  },
  {
   "cell_type": "code",
   "execution_count": 21,
   "metadata": {},
   "outputs": [
    {
     "name": "stdout",
     "output_type": "stream",
     "text": [
      "(20838, 100)\n",
      "(5210, 100)\n"
     ]
    }
   ],
   "source": [
    "# creating validation set\n",
    "X_train, X_val, y_train, y_val = train_test_split(X_train, y_train, test_size = 0.2)\n",
    "print(X_train.shape)\n",
    "print(X_val.shape)"
   ]
  },
  {
   "cell_type": "code",
   "execution_count": 67,
   "metadata": {},
   "outputs": [
    {
     "name": "stderr",
     "output_type": "stream",
     "text": [
      "C:\\Users\\asus\\Anaconda3\\lib\\site-packages\\sklearn\\neural_network\\multilayer_perceptron.py:566: ConvergenceWarning: Stochastic Optimizer: Maximum iterations (100) reached and the optimization hasn't converged yet.\n",
      "  % self.max_iter, ConvergenceWarning)\n",
      "C:\\Users\\asus\\Anaconda3\\lib\\site-packages\\sklearn\\neural_network\\multilayer_perceptron.py:566: ConvergenceWarning: Stochastic Optimizer: Maximum iterations (125) reached and the optimization hasn't converged yet.\n",
      "  % self.max_iter, ConvergenceWarning)\n",
      "C:\\Users\\asus\\Anaconda3\\lib\\site-packages\\sklearn\\neural_network\\multilayer_perceptron.py:566: ConvergenceWarning: Stochastic Optimizer: Maximum iterations (150) reached and the optimization hasn't converged yet.\n",
      "  % self.max_iter, ConvergenceWarning)\n",
      "C:\\Users\\asus\\Anaconda3\\lib\\site-packages\\sklearn\\neural_network\\multilayer_perceptron.py:566: ConvergenceWarning: Stochastic Optimizer: Maximum iterations (175) reached and the optimization hasn't converged yet.\n",
      "  % self.max_iter, ConvergenceWarning)\n",
      "C:\\Users\\asus\\Anaconda3\\lib\\site-packages\\sklearn\\neural_network\\multilayer_perceptron.py:566: ConvergenceWarning: Stochastic Optimizer: Maximum iterations (200) reached and the optimization hasn't converged yet.\n",
      "  % self.max_iter, ConvergenceWarning)\n",
      "C:\\Users\\asus\\Anaconda3\\lib\\site-packages\\sklearn\\neural_network\\multilayer_perceptron.py:566: ConvergenceWarning: Stochastic Optimizer: Maximum iterations (225) reached and the optimization hasn't converged yet.\n",
      "  % self.max_iter, ConvergenceWarning)\n",
      "C:\\Users\\asus\\Anaconda3\\lib\\site-packages\\sklearn\\neural_network\\multilayer_perceptron.py:566: ConvergenceWarning: Stochastic Optimizer: Maximum iterations (250) reached and the optimization hasn't converged yet.\n",
      "  % self.max_iter, ConvergenceWarning)\n"
     ]
    }
   ],
   "source": [
    "# checking change in preformance of neural nets with change in number of iterations\n",
    "train_score, val_score = [],[]\n",
    "\n",
    "num_iter = [100,125,150,175,200,225,250]\n",
    "\n",
    "for i in num_iter:\n",
    "    final_nn_clf.set_params(max_iter = i)\n",
    "    final_nn_clf.fit(X_train, y_train)\n",
    "    train_score.append(final_nn_clf.score(X_train,y_train))\n",
    "    val_score.append(final_nn_clf.score(X_val,y_val))"
   ]
  },
  {
   "cell_type": "code",
   "execution_count": 68,
   "metadata": {},
   "outputs": [
    {
     "name": "stdout",
     "output_type": "stream",
     "text": [
      "[0.786783760437662, 0.8195604184662636, 0.8243593435070544, 0.6810634417890392, 0.2918706209809003, 0.8255590747672521, 0.7985411267875996] [0.781190019193858, 0.8245681381957773, 0.818426103646833, 0.6834932821497121, 0.2946257197696737, 0.8224568138195777, 0.7955854126679462]\n"
     ]
    }
   ],
   "source": [
    "print(train_score, val_score)"
   ]
  },
  {
   "cell_type": "code",
   "execution_count": null,
   "metadata": {},
   "outputs": [],
   "source": []
  },
  {
   "cell_type": "code",
   "execution_count": 74,
   "metadata": {
    "scrolled": true
   },
   "outputs": [
    {
     "data": {
      "text/plain": [
       "([<matplotlib.axis.XTick at 0x1aca83bdec8>,\n",
       "  <matplotlib.axis.XTick at 0x1aca83bd548>,\n",
       "  <matplotlib.axis.XTick at 0x1aca83bd0c8>,\n",
       "  <matplotlib.axis.XTick at 0x1aca83e6608>,\n",
       "  <matplotlib.axis.XTick at 0x1aca83ea0c8>,\n",
       "  <matplotlib.axis.XTick at 0x1aca83e6f48>,\n",
       "  <matplotlib.axis.XTick at 0x1aca83eaec8>],\n",
       " <a list of 7 Text xticklabel objects>)"
      ]
     },
     "execution_count": 74,
     "metadata": {},
     "output_type": "execute_result"
    },
    {
     "data": {
      "image/png": "[encoded data removed]",
      "text/plain": [
       "<Figure size 432x288 with 1 Axes>"
      ]
     },
     "metadata": {
      "needs_background": "light"
     },
     "output_type": "display_data"
    }
   ],
   "source": [
    "import matplotlib.pyplot as plt\n",
    "\n",
    "plt.plot(num_iter, [1-i for i in train_score], label = 'Train Error')\n",
    "plt.plot(num_iter, [1-i for i in val_score], label = 'Test Error')\n",
    "plt.legend()\n",
    "plt.title('Train and Vaidation error vs number of iteration')\n",
    "plt.xlabel('Number of iterations')\n",
    "plt.ylabel('Error')\n",
    "plt.xticks(num_iter)"
   ]
  },
  {
   "cell_type": "code",
   "execution_count": 86,
   "metadata": {},
   "outputs": [
    {
     "name": "stderr",
     "output_type": "stream",
     "text": [
      "C:\\Users\\asus\\Anaconda3\\lib\\site-packages\\sklearn\\neural_network\\multilayer_perceptron.py:566: ConvergenceWarning: Stochastic Optimizer: Maximum iterations (150) reached and the optimization hasn't converged yet.\n",
      "  % self.max_iter, ConvergenceWarning)\n"
     ]
    },
    {
     "data": {
      "text/plain": [
       "0.8093044679871028"
      ]
     },
     "execution_count": 86,
     "metadata": {},
     "output_type": "execute_result"
    }
   ],
   "source": [
    "final_nn_clf.set_params(max_iter = 150)\n",
    "final_nn_clf.fit(X_train,y_train)\n",
    "final_nn_clf.score(X_test, y_test)"
   ]
  },
  {
   "cell_type": "code",
   "execution_count": null,
   "metadata": {},
   "outputs": [],
   "source": []
  },
  {
   "cell_type": "code",
   "execution_count": null,
   "metadata": {},
   "outputs": [],
   "source": []
  },
  {
   "cell_type": "markdown",
   "metadata": {},
   "source": [
    "# KNN"
   ]
  },
  {
   "cell_type": "code",
   "execution_count": 85,
   "metadata": {},
   "outputs": [
    {
     "name": "stdout",
     "output_type": "stream",
     "text": [
      "0.7781360356210656\n"
     ]
    }
   ],
   "source": [
    "knn_clf = KNeighborsClassifier()\n",
    "knn_clf.fit(X_train,y_train)\n",
    "print(knn_clf.score(X_test,y_test))"
   ]
  },
  {
   "cell_type": "code",
   "execution_count": 40,
   "metadata": {
    "scrolled": true
   },
   "outputs": [
    {
     "name": "stderr",
     "output_type": "stream",
     "text": [
      "C:\\Users\\asus\\Anaconda3\\lib\\site-packages\\sklearn\\model_selection\\_split.py:1978: FutureWarning: The default value of cv will change from 3 to 5 in version 0.22. Specify it explicitly to silence this warning.\n",
      "  warnings.warn(CV_WARNING, FutureWarning)\n"
     ]
    },
    {
     "data": {
      "text/html": [
       "<div>\n",
       "<style scoped>\n",
       "    .dataframe tbody tr th:only-of-type {\n",
       "        vertical-align: middle;\n",
       "    }\n",
       "\n",
       "    .dataframe tbody tr th {\n",
       "        vertical-align: top;\n",
       "    }\n",
       "\n",
       "    .dataframe thead th {\n",
       "        text-align: right;\n",
       "    }\n",
       "</style>\n",
       "<table border=\"1\" class=\"dataframe\">\n",
       "  <thead>\n",
       "    <tr style=\"text-align: right;\">\n",
       "      <th></th>\n",
       "      <th>mean_fit_time</th>\n",
       "      <th>std_fit_time</th>\n",
       "      <th>mean_score_time</th>\n",
       "      <th>std_score_time</th>\n",
       "      <th>param_algorithm</th>\n",
       "      <th>param_p</th>\n",
       "      <th>params</th>\n",
       "      <th>split0_test_score</th>\n",
       "      <th>split1_test_score</th>\n",
       "      <th>split2_test_score</th>\n",
       "      <th>mean_test_score</th>\n",
       "      <th>std_test_score</th>\n",
       "      <th>rank_test_score</th>\n",
       "    </tr>\n",
       "  </thead>\n",
       "  <tbody>\n",
       "    <tr>\n",
       "      <td>0</td>\n",
       "      <td>0.091619</td>\n",
       "      <td>0.012310</td>\n",
       "      <td>0.430103</td>\n",
       "      <td>0.034276</td>\n",
       "      <td>auto</td>\n",
       "      <td>1</td>\n",
       "      <td>{'algorithm': 'auto', 'p': 1}</td>\n",
       "      <td>0.771988</td>\n",
       "      <td>0.775986</td>\n",
       "      <td>0.780562</td>\n",
       "      <td>0.776178</td>\n",
       "      <td>0.003503</td>\n",
       "      <td>2</td>\n",
       "    </tr>\n",
       "    <tr>\n",
       "      <td>1</td>\n",
       "      <td>0.117710</td>\n",
       "      <td>0.014919</td>\n",
       "      <td>0.516288</td>\n",
       "      <td>0.026429</td>\n",
       "      <td>auto</td>\n",
       "      <td>2</td>\n",
       "      <td>{'algorithm': 'auto', 'p': 2}</td>\n",
       "      <td>0.768677</td>\n",
       "      <td>0.778578</td>\n",
       "      <td>0.779266</td>\n",
       "      <td>0.775506</td>\n",
       "      <td>0.004838</td>\n",
       "      <td>5</td>\n",
       "    </tr>\n",
       "    <tr>\n",
       "      <td>2</td>\n",
       "      <td>0.098881</td>\n",
       "      <td>0.003777</td>\n",
       "      <td>1.394303</td>\n",
       "      <td>0.025590</td>\n",
       "      <td>auto</td>\n",
       "      <td>3</td>\n",
       "      <td>{'algorithm': 'auto', 'p': 3}</td>\n",
       "      <td>0.768245</td>\n",
       "      <td>0.778002</td>\n",
       "      <td>0.778834</td>\n",
       "      <td>0.775026</td>\n",
       "      <td>0.004807</td>\n",
       "      <td>7</td>\n",
       "    </tr>\n",
       "    <tr>\n",
       "      <td>3</td>\n",
       "      <td>0.095075</td>\n",
       "      <td>0.001883</td>\n",
       "      <td>1.154699</td>\n",
       "      <td>0.054380</td>\n",
       "      <td>ball_tree</td>\n",
       "      <td>1</td>\n",
       "      <td>{'algorithm': 'ball_tree', 'p': 1}</td>\n",
       "      <td>0.772132</td>\n",
       "      <td>0.775986</td>\n",
       "      <td>0.780706</td>\n",
       "      <td>0.776274</td>\n",
       "      <td>0.003506</td>\n",
       "      <td>1</td>\n",
       "    </tr>\n",
       "    <tr>\n",
       "      <td>4</td>\n",
       "      <td>0.106876</td>\n",
       "      <td>0.004580</td>\n",
       "      <td>1.007601</td>\n",
       "      <td>0.079425</td>\n",
       "      <td>ball_tree</td>\n",
       "      <td>2</td>\n",
       "      <td>{'algorithm': 'ball_tree', 'p': 2}</td>\n",
       "      <td>0.768677</td>\n",
       "      <td>0.778578</td>\n",
       "      <td>0.779410</td>\n",
       "      <td>0.775554</td>\n",
       "      <td>0.004875</td>\n",
       "      <td>4</td>\n",
       "    </tr>\n",
       "    <tr>\n",
       "      <td>5</td>\n",
       "      <td>0.389009</td>\n",
       "      <td>0.011917</td>\n",
       "      <td>6.630037</td>\n",
       "      <td>0.172626</td>\n",
       "      <td>ball_tree</td>\n",
       "      <td>3</td>\n",
       "      <td>{'algorithm': 'ball_tree', 'p': 3}</td>\n",
       "      <td>0.768245</td>\n",
       "      <td>0.778002</td>\n",
       "      <td>0.778834</td>\n",
       "      <td>0.775026</td>\n",
       "      <td>0.004807</td>\n",
       "      <td>7</td>\n",
       "    </tr>\n",
       "    <tr>\n",
       "      <td>6</td>\n",
       "      <td>0.085328</td>\n",
       "      <td>0.011949</td>\n",
       "      <td>0.434255</td>\n",
       "      <td>0.018622</td>\n",
       "      <td>kd_tree</td>\n",
       "      <td>1</td>\n",
       "      <td>{'algorithm': 'kd_tree', 'p': 1}</td>\n",
       "      <td>0.771988</td>\n",
       "      <td>0.775986</td>\n",
       "      <td>0.780562</td>\n",
       "      <td>0.776178</td>\n",
       "      <td>0.003503</td>\n",
       "      <td>2</td>\n",
       "    </tr>\n",
       "    <tr>\n",
       "      <td>7</td>\n",
       "      <td>0.078127</td>\n",
       "      <td>0.000030</td>\n",
       "      <td>0.503817</td>\n",
       "      <td>0.007697</td>\n",
       "      <td>kd_tree</td>\n",
       "      <td>2</td>\n",
       "      <td>{'algorithm': 'kd_tree', 'p': 2}</td>\n",
       "      <td>0.768677</td>\n",
       "      <td>0.778578</td>\n",
       "      <td>0.779266</td>\n",
       "      <td>0.775506</td>\n",
       "      <td>0.004838</td>\n",
       "      <td>5</td>\n",
       "    </tr>\n",
       "    <tr>\n",
       "      <td>8</td>\n",
       "      <td>0.079609</td>\n",
       "      <td>0.002093</td>\n",
       "      <td>1.332877</td>\n",
       "      <td>0.038065</td>\n",
       "      <td>kd_tree</td>\n",
       "      <td>3</td>\n",
       "      <td>{'algorithm': 'kd_tree', 'p': 3}</td>\n",
       "      <td>0.768245</td>\n",
       "      <td>0.778002</td>\n",
       "      <td>0.778834</td>\n",
       "      <td>0.775026</td>\n",
       "      <td>0.004807</td>\n",
       "      <td>7</td>\n",
       "    </tr>\n",
       "  </tbody>\n",
       "</table>\n",
       "</div>"
      ],
      "text/plain": [
       "   mean_fit_time  std_fit_time  mean_score_time  std_score_time  \\\n",
       "0       0.091619      0.012310         0.430103        0.034276   \n",
       "1       0.117710      0.014919         0.516288        0.026429   \n",
       "2       0.098881      0.003777         1.394303        0.025590   \n",
       "3       0.095075      0.001883         1.154699        0.054380   \n",
       "4       0.106876      0.004580         1.007601        0.079425   \n",
       "5       0.389009      0.011917         6.630037        0.172626   \n",
       "6       0.085328      0.011949         0.434255        0.018622   \n",
       "7       0.078127      0.000030         0.503817        0.007697   \n",
       "8       0.079609      0.002093         1.332877        0.038065   \n",
       "\n",
       "  param_algorithm param_p                              params  \\\n",
       "0            auto       1       {'algorithm': 'auto', 'p': 1}   \n",
       "1            auto       2       {'algorithm': 'auto', 'p': 2}   \n",
       "2            auto       3       {'algorithm': 'auto', 'p': 3}   \n",
       "3       ball_tree       1  {'algorithm': 'ball_tree', 'p': 1}   \n",
       "4       ball_tree       2  {'algorithm': 'ball_tree', 'p': 2}   \n",
       "5       ball_tree       3  {'algorithm': 'ball_tree', 'p': 3}   \n",
       "6         kd_tree       1    {'algorithm': 'kd_tree', 'p': 1}   \n",
       "7         kd_tree       2    {'algorithm': 'kd_tree', 'p': 2}   \n",
       "8         kd_tree       3    {'algorithm': 'kd_tree', 'p': 3}   \n",
       "\n",
       "   split0_test_score  split1_test_score  split2_test_score  mean_test_score  \\\n",
       "0           0.771988           0.775986           0.780562         0.776178   \n",
       "1           0.768677           0.778578           0.779266         0.775506   \n",
       "2           0.768245           0.778002           0.778834         0.775026   \n",
       "3           0.772132           0.775986           0.780706         0.776274   \n",
       "4           0.768677           0.778578           0.779410         0.775554   \n",
       "5           0.768245           0.778002           0.778834         0.775026   \n",
       "6           0.771988           0.775986           0.780562         0.776178   \n",
       "7           0.768677           0.778578           0.779266         0.775506   \n",
       "8           0.768245           0.778002           0.778834         0.775026   \n",
       "\n",
       "   std_test_score  rank_test_score  \n",
       "0        0.003503                2  \n",
       "1        0.004838                5  \n",
       "2        0.004807                7  \n",
       "3        0.003506                1  \n",
       "4        0.004875                4  \n",
       "5        0.004807                7  \n",
       "6        0.003503                2  \n",
       "7        0.004838                5  \n",
       "8        0.004807                7  "
      ]
     },
     "execution_count": 40,
     "metadata": {},
     "output_type": "execute_result"
    }
   ],
   "source": [
    "from sklearn.neighbors import KNeighborsClassifier\n",
    "\n",
    "knn_params = {'p':[1,2,3],'algorithm':['auto', 'ball_tree','kd_tree']}\n",
    "knn_clf = KNeighborsClassifier()\n",
    "knn_gs = GridSearchCV(knn_clf, param_grid = knn_params)\n",
    "knn_gs.fit(X_train,y_train)\n",
    "pd.DataFrame(knn_gs.cv_results_)"
   ]
  },
  {
   "cell_type": "code",
   "execution_count": 42,
   "metadata": {},
   "outputs": [
    {
     "name": "stdout",
     "output_type": "stream",
     "text": [
      "best parameters:  {'algorithm': 'ball_tree', 'p': 1}\n",
      "best train score:  0.77627411459833\n",
      "test score:  0.7801320436050975\n"
     ]
    }
   ],
   "source": [
    "print('best parameters: ', knn_gs.best_params_)\n",
    "print('best train score: ', knn_gs.best_score_)\n",
    "print(\"test score: \",knn_gs.score(X_test,y_test))"
   ]
  },
  {
   "cell_type": "code",
   "execution_count": 79,
   "metadata": {},
   "outputs": [],
   "source": [
    "knn_params = pd.DataFrame(knn_gs.cv_results_)\n",
    "knn_params.to_csv('D:/MSBA/10 Applied Machine Learning/assignment/3/knn_params2.csv')"
   ]
  },
  {
   "cell_type": "code",
   "execution_count": 43,
   "metadata": {},
   "outputs": [
    {
     "name": "stdout",
     "output_type": "stream",
     "text": [
      "[0.8693732603896727, 0.8370764948651502, 0.8247432575103177, 0.8162011709377099, 0.8112102888952875, 0.8090987618773394, 0.8081869661195892, 0.8069872348593915, 0.8052596218447068, 0.8038679335828774] [0.7840690978886756, 0.7894433781190019, 0.791746641074856, 0.792130518234165, 0.792130518234165, 0.7940499040307102, 0.7948176583493282, 0.7959692898272552, 0.7957773512476007, 0.7959692898272552]\n"
     ]
    }
   ],
   "source": [
    "# checking change in preformance of neural nets with change in neighbours\n",
    "knn_train_score, knn_val_score = [],[]\n",
    "\n",
    "final_knn_clf = KNeighborsClassifier(algorithm = 'ball_tree', p = 1)\n",
    "\n",
    "k = [2,4,6,8,10,12,14,16,18,20]\n",
    "\n",
    "for i in k:\n",
    "    final_knn_clf.set_params(n_neighbors = i)\n",
    "    final_knn_clf.fit(X_train, y_train)\n",
    "    knn_train_score.append(final_knn_clf.score(X_train,y_train))\n",
    "    knn_val_score.append(final_knn_clf.score(X_val,y_val))\n",
    "    \n",
    "print(knn_train_score, knn_val_score)"
   ]
  },
  {
   "cell_type": "code",
   "execution_count": 80,
   "metadata": {},
   "outputs": [
    {
     "data": {
      "text/plain": [
       "([<matplotlib.axis.XTick at 0x1aca7546f08>,\n",
       "  <matplotlib.axis.XTick at 0x1aca84369c8>,\n",
       "  <matplotlib.axis.XTick at 0x1aca84365c8>,\n",
       "  <matplotlib.axis.XTick at 0x1aca8469548>,\n",
       "  <matplotlib.axis.XTick at 0x1aca8469e48>,\n",
       "  <matplotlib.axis.XTick at 0x1aca846d1c8>,\n",
       "  <matplotlib.axis.XTick at 0x1aca846ddc8>,\n",
       "  <matplotlib.axis.XTick at 0x1aca8470a08>,\n",
       "  <matplotlib.axis.XTick at 0x1aca8474508>,\n",
       "  <matplotlib.axis.XTick at 0x1aca84770c8>],\n",
       " <a list of 10 Text xticklabel objects>)"
      ]
     },
     "execution_count": 80,
     "metadata": {},
     "output_type": "execute_result"
    },
    {
     "data": {
      "image/png": "[encoded data removed]",
      "text/plain": [
       "<Figure size 432x288 with 1 Axes>"
      ]
     },
     "metadata": {
      "needs_background": "light"
     },
     "output_type": "display_data"
    }
   ],
   "source": [
    "plt.plot(k, [1-i for i in knn_train_score], label = 'Train Error')\n",
    "plt.plot(k, [1-i for i in knn_val_score], label = 'Test Error')\n",
    "plt.legend()\n",
    "plt.title('Train and Validation Error Vs Number of Neighbours')\n",
    "plt.xlabel('No of Neighbours')\n",
    "plt.ylabel('Error')\n",
    "plt.xticks(k)"
   ]
  },
  {
   "cell_type": "code",
   "execution_count": 82,
   "metadata": {},
   "outputs": [
    {
     "data": {
      "text/plain": [
       "0.801320436050975"
      ]
     },
     "execution_count": 82,
     "metadata": {},
     "output_type": "execute_result"
    }
   ],
   "source": [
    "final_knn_clf.set_params(n_neighbors = 16)\n",
    "final_knn_clf.fit(X_train,y_train)\n",
    "final_knn_clf.score(X_test, y_test)"
   ]
  },
  {
   "cell_type": "code",
   "execution_count": null,
   "metadata": {},
   "outputs": [],
   "source": []
  },
  {
   "cell_type": "code",
   "execution_count": null,
   "metadata": {},
   "outputs": [],
   "source": []
  },
  {
   "cell_type": "code",
   "execution_count": null,
   "metadata": {},
   "outputs": [],
   "source": []
  },
  {
   "cell_type": "code",
   "execution_count": null,
   "metadata": {},
   "outputs": [],
   "source": []
  }
 ],
 "metadata": {
  "kernelspec": {
   "display_name": "Python 3",
   "language": "python",
   "name": "python3"
  },
  "language_info": {
   "codemirror_mode": {
    "name": "ipython",
    "version": 3
   },
   "file_extension": ".py",
   "mimetype": "text/x-python",
   "name": "python",
   "nbconvert_exporter": "python",
   "pygments_lexer": "ipython3",
   "version": "3.7.4"
  }
 },
 "nbformat": 4,
 "nbformat_minor": 2
}
