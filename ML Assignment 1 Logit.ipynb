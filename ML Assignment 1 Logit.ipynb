{
 "cells": [
  {
   "cell_type": "code",
   "execution_count": 2,
   "metadata": {},
   "outputs": [],
   "source": [
    "import numpy as np\n",
    "import pandas as pd"
   ]
  },
  {
   "cell_type": "code",
   "execution_count": 3,
   "metadata": {},
   "outputs": [],
   "source": [
    "# y_hat for logit\n",
    "def logit_y_hat(X,betas):\n",
    "    return 1/(1 + np.exp(-X.dot(betas)))"
   ]
  },
  {
   "cell_type": "code",
   "execution_count": 4,
   "metadata": {},
   "outputs": [],
   "source": [
    "# logistic cost function\n",
    "def cost_logit(betas, X,y):\n",
    "    m = len(y)\n",
    "    y_hat = logit_y_hat(X,betas)\n",
    "    c = - 1/m * np.sum(y*(np.log(y_hat))+(1-y)*(np.log(1-y_hat)))\n",
    "    return c"
   ]
  },
  {
   "cell_type": "code",
   "execution_count": 5,
   "metadata": {},
   "outputs": [],
   "source": [
    "# generalized gradient discent non-matrix mutiplication method\n",
    "def gradient_descent1(X,y,lr, itr):\n",
    "    m = len(y)\n",
    "    betas = np.zeros(X.shape[1])\n",
    "    t = np.zeros(X.shape[1])\n",
    "    c = []\n",
    "    a = cost_logit(betas,X,y)\n",
    "    c.append(a)\n",
    "    i = 0\n",
    "    while i < itr:\n",
    "        y_hat = logit_y_hat(X,betas)\n",
    "        t = lr*(1/m)*(X.T.dot(y_hat-y))\n",
    "        betas = betas - t\n",
    "        #print(betas)\n",
    "        a = cost_logit(betas,X,y)\n",
    "        #print('cost: ',a)\n",
    "        c.append(a)\n",
    "        i = i+1\n",
    "        if c[-2] < c[-1]:\n",
    "            break\n",
    "    return (betas, c[-1],i)"
   ]
  },
  {
   "cell_type": "code",
   "execution_count": 6,
   "metadata": {},
   "outputs": [],
   "source": [
    "# gradient discent with matrix multiplication\n",
    "import numpy as np\n",
    "def betas_matrix(X,y):\n",
    "    X_trans = X.T\n",
    "    betas = np.zeros(X.shape[1])\n",
    "    betas = np.linalg.inv(X.T@X)@X.T@y\n",
    "    return betas"
   ]
  },
  {
   "cell_type": "code",
   "execution_count": 7,
   "metadata": {
    "scrolled": true
   },
   "outputs": [
    {
     "name": "stdout",
     "output_type": "stream",
     "text": [
      "   MWG  NWG  KWG  MDIMC  NDIMC  MDIMA  NDIMB  KWI  VWM  VWN  STRM  STRN  SA  \\\n",
      "0   16   16   16      8      8      8      8    2    1    1     0     0   0   \n",
      "1   16   16   16      8      8      8      8    2    1    1     0     0   0   \n",
      "2   16   16   16      8      8      8      8    2    1    1     0     0   1   \n",
      "3   16   16   16      8      8      8      8    2    1    1     0     0   1   \n",
      "4   16   16   16      8      8      8      8    2    1    1     0     1   0   \n",
      "\n",
      "   SB  Run1 (ms)  Run2 (ms)  Run3 (ms)  Run4 (ms)  \n",
      "0   0     115.26     115.87     118.55     115.80  \n",
      "1   1      78.13      78.25      79.25      79.19  \n",
      "2   0      79.84      80.69      80.76      80.97  \n",
      "3   1      84.32      89.90      86.75      85.58  \n",
      "4   0     115.13     121.98     122.73     114.81  \n"
     ]
    }
   ],
   "source": [
    "# importing data\n",
    "data = pd.read_csv('D:/MSBA/10 Applied Machine Learning/assignment/1/sgemm_product_dataset/sgemm_product.csv')\n",
    "print(data.head())"
   ]
  },
  {
   "cell_type": "code",
   "execution_count": 8,
   "metadata": {},
   "outputs": [
    {
     "name": "stdout",
     "output_type": "stream",
     "text": [
      "   Run1 (ms)  Run2 (ms)  Run3 (ms)  Run4 (ms)  av_run\n",
      "0     115.26     115.87     118.55     115.80  116.37\n",
      "1      78.13      78.25      79.25      79.19   78.70\n",
      "2      79.84      80.69      80.76      80.97   80.56\n",
      "3      84.32      89.90      86.75      85.58   86.64\n",
      "4     115.13     121.98     122.73     114.81  118.66\n"
     ]
    }
   ],
   "source": [
    "# creating target variable (average of 4 runtime)\n",
    "data['av_run'] = data[['Run1 (ms)','Run2 (ms)','Run3 (ms)','Run4 (ms)']].mean(axis = 1).round(2)\n",
    "print(data[['Run1 (ms)', 'Run2 (ms)','Run3 (ms)', 'Run4 (ms)','av_run']].head())"
   ]
  },
  {
   "cell_type": "code",
   "execution_count": 9,
   "metadata": {},
   "outputs": [
    {
     "data": {
      "text/plain": [
       "Index(['MWG', 'NWG', 'KWG', 'MDIMC', 'NDIMC', 'MDIMA', 'NDIMB', 'KWI', 'VWM',\n",
       "       'VWN', 'STRM', 'STRN', 'SA', 'SB', 'av_run'],\n",
       "      dtype='object')"
      ]
     },
     "execution_count": 9,
     "metadata": {},
     "output_type": "execute_result"
    }
   ],
   "source": [
    "# dropping 4 obselete run columns\n",
    "data.drop(columns=['Run1 (ms)', 'Run2 (ms)','Run3 (ms)', 'Run4 (ms)'], inplace = True)\n",
    "data.columns"
   ]
  },
  {
   "cell_type": "code",
   "execution_count": 10,
   "metadata": {},
   "outputs": [
    {
     "name": "stdout",
     "output_type": "stream",
     "text": [
      "   MWG  NWG  KWG  MDIMC  NDIMC  MDIMA  NDIMB  KWI  VWM  VWN  STRM  STRN  SA  \\\n",
      "0   16   16   16      8      8      8      8    2    1    1     0     0   0   \n",
      "1   16   16   16      8      8      8      8    2    1    1     0     0   0   \n",
      "2   16   16   16      8      8      8      8    2    1    1     0     0   1   \n",
      "3   16   16   16      8      8      8      8    2    1    1     0     0   1   \n",
      "4   16   16   16      8      8      8      8    2    1    1     0     1   0   \n",
      "\n",
      "   SB  \n",
      "0   0  \n",
      "1   1  \n",
      "2   0  \n",
      "3   1  \n",
      "4   0  \n",
      "0    116.37\n",
      "1     78.70\n",
      "2     80.56\n",
      "3     86.64\n",
      "4    118.66\n",
      "Name: av_run, dtype: float64\n"
     ]
    }
   ],
   "source": [
    "# creating independent and dependent variables\n",
    "X = data.iloc[:,:-1]\n",
    "y = data.iloc[:,-1]\n",
    "print(X.head())\n",
    "print(y.head())"
   ]
  },
  {
   "cell_type": "code",
   "execution_count": 11,
   "metadata": {},
   "outputs": [
    {
     "name": "stdout",
     "output_type": "stream",
     "text": [
      "(241600, 14) (241600,)\n"
     ]
    }
   ],
   "source": [
    "X = np.array(X)\n",
    "y = np.array(y)\n",
    "print(X.shape,y.shape)"
   ]
  },
  {
   "cell_type": "code",
   "execution_count": 12,
   "metadata": {},
   "outputs": [
    {
     "name": "stdout",
     "output_type": "stream",
     "text": [
      "(241600, 15)\n"
     ]
    }
   ],
   "source": [
    "X = np.hstack((np.ones(X.shape[0]).reshape(X.shape[0],1),X))\n",
    "print(X.shape)              "
   ]
  },
  {
   "cell_type": "code",
   "execution_count": 13,
   "metadata": {},
   "outputs": [
    {
     "name": "stdout",
     "output_type": "stream",
     "text": [
      "[116.37  78.7   80.56  86.64 118.66  83.16  84.44  94.51 119.08  86.3\n",
      "  83.94  86.84 118.28  92.38  86.17 106.    77.31  65.12  72.07  63.89]\n",
      "69.79\n",
      "[1 1 1 1 1 1 1 1 1 1 1 1 1 1 1 1 1 0 1 0]\n"
     ]
    }
   ],
   "source": [
    "# defining y for logistic regression\n",
    "y_median = np.median(y)\n",
    "binary_y = np.array([1 if y > y_median else 0 for y in y])\n",
    "print(y[:20])\n",
    "print(y_median)\n",
    "print(binary_y[:20])"
   ]
  },
  {
   "cell_type": "code",
   "execution_count": 14,
   "metadata": {},
   "outputs": [
    {
     "name": "stdout",
     "output_type": "stream",
     "text": [
      "(169120, 15)\n",
      "(72480, 15)\n"
     ]
    }
   ],
   "source": [
    "# splitting data into training and testing set\n",
    "from sklearn.model_selection import train_test_split\n",
    "X_train, X_test, y_train, y_test = train_test_split(X,binary_y,test_size = 0.3, random_state = 42)\n",
    "print(X_train.shape)\n",
    "print(X_test.shape)"
   ]
  },
  {
   "cell_type": "code",
   "execution_count": 15,
   "metadata": {},
   "outputs": [
    {
     "name": "stdout",
     "output_type": "stream",
     "text": [
      "[ 1. 16. 32. 16.  8.  8. 16.  8.  8.  1.  4.  1.  1.  1.  0.]\n",
      "[0 0 0 1 0 0 1 0 1 0]\n"
     ]
    }
   ],
   "source": [
    "print(X_train[0])\n",
    "print(y_train[:10])"
   ]
  },
  {
   "cell_type": "code",
   "execution_count": 16,
   "metadata": {
    "scrolled": true
   },
   "outputs": [
    {
     "name": "stdout",
     "output_type": "stream",
     "text": [
      "{1e-05: array([-0.00207523,  0.02413423,  0.01403618, -0.02387087, -0.06331364,\n",
      "       -0.05220544, -0.02057618, -0.02097375, -0.01001678, -0.00286691,\n",
      "       -0.00512205, -0.00354638, -0.00129765, -0.00415272, -0.00166621]), 3e-05: array([-0.00378035,  0.02635201,  0.01561918, -0.00861664, -0.09602224,\n",
      "       -0.0804812 , -0.01391488, -0.0148848 , -0.01598736, -0.0090512 ,\n",
      "       -0.0144671 , -0.00938374, -0.00265756, -0.01119434, -0.00376327]), 6e-05: array([-0.00613943,  0.02741796,  0.0164437 , -0.0011465 , -0.1088961 ,\n",
      "       -0.09252159, -0.01105263, -0.01230756, -0.0215397 , -0.01774336,\n",
      "       -0.02708292, -0.01795398, -0.00458039, -0.02154787, -0.00677972]), 0.0001: array([-0.00903883,  0.02794896,  0.0169787 ,  0.00176835, -0.1121285 ,\n",
      "       -0.09566336, -0.01036768, -0.01186686, -0.02512607, -0.027344  ,\n",
      "       -0.04098288, -0.029098  , -0.00698816, -0.03503294, -0.01062081]), 0.0003: array([-0.02114306,  0.02884813,  0.01809099,  0.00560787, -0.11308935,\n",
      "       -0.09686871, -0.01022517, -0.01238898, -0.0247452 , -0.05143889,\n",
      "       -0.07707439, -0.08099542, -0.01730647, -0.09806437, -0.02771455])}\n",
      "{1e-05: 0.5176278733893156, 3e-05: 0.5041778373374277, 6e-05: 0.5011158312056677, 0.0001: 0.4994351422314504, 0.0003: 0.4947510957845938}\n",
      "{1e-05: 10000, 3e-05: 10000, 6e-05: 10000, 0.0001: 10000, 0.0003: 10000}\n"
     ]
    }
   ],
   "source": [
    "# calculating betas for X and y train using batch method with different values of alpha\n",
    "cost_list_list = {}\n",
    "betas = {}\n",
    "last_iteration = {}\n",
    "\n",
    "for alpha in [0.00001,0.00003,0.00006,0.0001,0.0003]:\n",
    "    betas[alpha], cost_list_list[alpha], last_iteration[alpha] = gradient_descent1(X_train,y_train,alpha, 10000)\n",
    "print(betas)\n",
    "print(cost_list_list)\n",
    "print(last_iteration)"
   ]
  },
  {
   "cell_type": "code",
   "execution_count": 18,
   "metadata": {},
   "outputs": [
    {
     "name": "stdout",
     "output_type": "stream",
     "text": [
      "0.8179576631977294\n"
     ]
    }
   ],
   "source": [
    "# creating a function for accuracy_score\n",
    "from sklearn.metrics import accuracy_score\n",
    "def logit_acc_sc(beta, X, y_true):\n",
    "    y_hat_logit = logit_y_hat(X, beta)\n",
    "    y_hat_med = np.median(y_hat_logit)\n",
    "    y_hat_binary = np.array([1 if y > y_hat_med else 0 for y in y_hat_logit])\n",
    "    return accuracy_score(y_true, y_hat_binary)\n",
    "\n",
    "print(logit_acc_sc(betas[0.0001], X_train, y_train))"
   ]
  },
  {
   "cell_type": "code",
   "execution_count": 19,
   "metadata": {},
   "outputs": [
    {
     "name": "stdout",
     "output_type": "stream",
     "text": [
      "[0.7917987228003784, 0.814835619678335, 0.8170234153263954, 0.8179576631977294, 0.8199917218543047] [0.7924530905077263, 0.8154387417218543, 0.8174806843267108, 0.8184188741721854, 0.8206539735099337]\n"
     ]
    }
   ],
   "source": [
    "alpha_lt, acc_train, acc_test = [],[],[]\n",
    "# calculating accuracy_score for different betas\n",
    "for alpha, beta in betas.items():\n",
    "    alpha_lt.append(alpha)\n",
    "    acc_train.append(logit_acc_sc(beta, X_train, y_train))\n",
    "    acc_test.append(logit_acc_sc(beta, X_test, y_test))\n",
    "\n",
    "print(acc_train, acc_test)"
   ]
  },
  {
   "cell_type": "code",
   "execution_count": 20,
   "metadata": {
    "scrolled": false
   },
   "outputs": [
    {
     "name": "stdout",
     "output_type": "stream",
     "text": [
      "     Alpha  Train Accuracy Score  Test Accuracy Score\n",
      "0  0.00001              0.791799             0.792453\n",
      "1  0.00003              0.814836             0.815439\n",
      "2  0.00006              0.817023             0.817481\n",
      "3  0.00010              0.817958             0.818419\n",
      "4  0.00030              0.819992             0.820654\n"
     ]
    }
   ],
   "source": [
    "# selecting best alpha for the model\n",
    "logit_alpha = {}\n",
    "logit_alpha['Alpha'] = alpha_lt\n",
    "logit_alpha['Train Accuracy Score'] = acc_train\n",
    "logit_alpha['Test Accuracy Score'] = acc_test\n",
    "\n",
    "logit_alpha = pd.DataFrame(logit_alpha)\n",
    "print(logit_alpha)"
   ]
  },
  {
   "cell_type": "code",
   "execution_count": 21,
   "metadata": {},
   "outputs": [
    {
     "data": {
      "text/plain": [
       "<function matplotlib.pyplot.show(*args, **kw)>"
      ]
     },
     "execution_count": 21,
     "metadata": {},
     "output_type": "execute_result"
    },
    {
     "data": {
      "image/png": "[encoded data removed]",
      "text/plain": [
       "<Figure size 432x288 with 1 Axes>"
      ]
     },
     "metadata": {
      "needs_background": "light"
     },
     "output_type": "display_data"
    }
   ],
   "source": [
    "# plotting training and testing score for different values of alpha\n",
    "import matplotlib.pyplot as plt\n",
    "plt.plot(logit_alpha['Alpha'],logit_alpha['Train Accuracy Score'], label = 'Train Accuracy Score', color = 'Red')\n",
    "plt.plot(logit_alpha['Alpha'],logit_alpha['Test Accuracy Score'], label = 'Test Accuracy Score', color = 'Blue')\n",
    "plt.title('Train Test accuracy score with different values of Alpha')\n",
    "plt.xlabel('Alpha')\n",
    "plt.ylabel('Accuracy Score')\n",
    "plt.legend()\n",
    "plt.show"
   ]
  },
  {
   "cell_type": "code",
   "execution_count": 22,
   "metadata": {},
   "outputs": [],
   "source": [
    "# getting betas for different threasholds\n",
    "b,c,li = 0,0,0\n",
    "iterations, betas_itr, cost_itr = [],[],[]\n",
    "\n",
    "for itr in [5000,10000,20000,40000]:\n",
    "    b, c, li = gradient_descent1(X_train,y_train,0.0003, itr)\n",
    "    iterations.append(itr)\n",
    "    betas_itr.append(b)\n",
    "    cost_itr.append(c)\n",
    "\n",
    "iter_acc = {}\n",
    "iter_acc['Iterations'] = iterations\n",
    "iter_acc['Betas'] = betas_itr"
   ]
  },
  {
   "cell_type": "code",
   "execution_count": 23,
   "metadata": {},
   "outputs": [
    {
     "name": "stdout",
     "output_type": "stream",
     "text": [
      "{'Iterations': [5000, 10000, 20000, 40000], 'Betas': [array([-0.01236855,  0.02829132,  0.01739236,  0.00330287, -0.11273601,\n",
      "       -0.09634328, -0.0102699 , -0.01200518, -0.02643146, -0.03645918,\n",
      "       -0.05433796, -0.04262772, -0.00979897, -0.05143373, -0.01518442]), array([-0.02114306,  0.02884813,  0.01809099,  0.00560787, -0.11308935,\n",
      "       -0.09686871, -0.01022517, -0.01238898, -0.0247452 , -0.05143889,\n",
      "       -0.07707439, -0.08099542, -0.01730647, -0.09806437, -0.02771455]), array([-0.03584061,  0.02926023,  0.0185936 ,  0.00776995, -0.11317573,\n",
      "       -0.0970651 , -0.00981486, -0.01228324, -0.02120736, -0.05840154,\n",
      "       -0.0894516 , -0.14965622, -0.02967426, -0.18179612, -0.04918992]), array([-0.05958774,  0.02956389,  0.01890138,  0.0101088 , -0.11305806,\n",
      "       -0.09693935, -0.008845  , -0.01143915, -0.01775843, -0.05574203,\n",
      "       -0.08875812, -0.26165465, -0.04783896, -0.31892578, -0.08242826])], 'Train Accuracy': [0.8185844370860927, 0.8199917218543047, 0.8211506622516557, 0.8214936140018921], 'Test Accuracy': [0.8191087196467991, 0.8206539735099337, 0.8215093818984548, 0.8215645695364239]}\n"
     ]
    }
   ],
   "source": [
    "acc_train, acc_test = [],[]\n",
    "# calculating accuracy_score for different betas\n",
    "for beta in betas_itr:\n",
    "    acc_train.append(logit_acc_sc(beta, X_train, y_train))\n",
    "    acc_test.append(logit_acc_sc(beta, X_test, y_test))\n",
    "\n",
    "iter_acc['Train Accuracy'] = acc_train\n",
    "iter_acc['Test Accuracy'] = acc_test\n",
    "print(iter_acc)"
   ]
  },
  {
   "cell_type": "code",
   "execution_count": 24,
   "metadata": {},
   "outputs": [
    {
     "name": "stdout",
     "output_type": "stream",
     "text": [
      "   Iterations                                              Betas  \\\n",
      "0        5000  [-0.012368548538274413, 0.028291315358885096, ...   \n",
      "1       10000  [-0.02114306011224296, 0.028848130684427136, 0...   \n",
      "2       20000  [-0.03584061341786128, 0.029260228302956066, 0...   \n",
      "3       40000  [-0.05958774394760825, 0.029563886835344912, 0...   \n",
      "\n",
      "   Train Accuracy  Test Accuracy  \n",
      "0        0.818584       0.819109  \n",
      "1        0.819992       0.820654  \n",
      "2        0.821151       0.821509  \n",
      "3        0.821494       0.821565  \n"
     ]
    }
   ],
   "source": [
    "iteration_results = pd.DataFrame(iter_acc)\n",
    "print(iteration_results)"
   ]
  },
  {
   "cell_type": "code",
   "execution_count": 25,
   "metadata": {},
   "outputs": [
    {
     "data": {
      "image/png": "[encoded data removed]",
      "text/plain": [
       "<Figure size 432x288 with 1 Axes>"
      ]
     },
     "metadata": {
      "needs_background": "light"
     },
     "output_type": "display_data"
    }
   ],
   "source": [
    "# Plotting train and test accuracy with number of iterations\n",
    "plt.plot(iteration_results['Iterations'],iteration_results['Train Accuracy'],label = 'Train Accuracy', color = 'Blue')\n",
    "plt.plot(iteration_results['Iterations'],iteration_results['Test Accuracy'], label = 'Test Accuracy', color = 'Green')\n",
    "plt.title('Change in Train, Test accuracy with change in number of iterations')\n",
    "plt.xlabel('No. of Iterations')\n",
    "plt.ylabel('Accuracy Score')\n",
    "plt.legend()\n",
    "plt.show()"
   ]
  },
  {
   "cell_type": "code",
   "execution_count": 38,
   "metadata": {},
   "outputs": [
    {
     "name": "stdout",
     "output_type": "stream",
     "text": [
      "Train Accuracy:  0.8162724692526017\n",
      "Test Accuracy:  0.8163217439293599\n"
     ]
    }
   ],
   "source": [
    "# selecting 8 prominant features to train model\n",
    "f8 = ['MWG', 'NWG', 'KWG', 'MDIMC', 'NDIMC', 'MDIMA', 'NDIMB', 'KWI']\n",
    "X_train_8 = X_train[:,range(9)]\n",
    "X_test_8 = X_test[:,range(9)]\n",
    "\n",
    "# training a new model on chosen 8 features\n",
    "beta_8, _, _ = gradient_descent1(X_train_8,y_train,0.0003, 40000)\n",
    "\n",
    "print(\"Train Accuracy: \", logit_acc_sc(beta_8, X_train_8, y_train))\n",
    "print(\"Test Accuracy: \", logit_acc_sc(beta_8, X_test_8, y_test))"
   ]
  },
  {
   "cell_type": "code",
   "execution_count": 65,
   "metadata": {},
   "outputs": [
    {
     "name": "stdout",
     "output_type": "stream",
     "text": [
      "Train Accuracy:  0.7104304635761589\n",
      "Test Accuracy:  0.7087610375275938\n"
     ]
    }
   ],
   "source": [
    "# randomly selecting 8 features and thraining model on it\n",
    "np.random.seed(42)\n",
    "f8_random = np.random.choice(range(1,15), size = 8, replace = False)\n",
    "\n",
    "X_train_random8 = X_train[:,f8_random]\n",
    "X_test_random8 = X_test[:,f8_random]\n",
    "\n",
    "X_train_random8 = np.hstack((np.ones(X_train_random8.shape[0]).reshape(X_train_random8.shape[0],1),X_train_random8))\n",
    "X_test_random8 = np.hstack((np.ones(X_test_random8.shape[0]).reshape(X_test_random8.shape[0],1),X_test_random8))\n",
    "\n",
    "# training a new model on randomly chosen 8 features\n",
    "beta_random8, _, _ = gradient_descent1(X_train_random8,y_train,0.0003, 40000)\n",
    "\n",
    "print(\"Train Accuracy: \", logit_acc_sc(beta_random8, X_train_random8, y_train))\n",
    "print(\"Test Accuracy: \", logit_acc_sc(beta_random8, X_test_random8, y_test))"
   ]
  }
 ],
 "metadata": {
  "kernelspec": {
   "display_name": "Python 3",
   "language": "python",
   "name": "python3"
  },
  "language_info": {
   "codemirror_mode": {
    "name": "ipython",
    "version": 3
   },
   "file_extension": ".py",
   "mimetype": "text/x-python",
   "name": "python",
   "nbconvert_exporter": "python",
   "pygments_lexer": "ipython3",
   "version": "3.7.4"
  }
 },
 "nbformat": 4,
 "nbformat_minor": 2
}
