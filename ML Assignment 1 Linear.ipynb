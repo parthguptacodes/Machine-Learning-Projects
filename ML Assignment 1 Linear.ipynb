{
 "cells": [
  {
   "cell_type": "code",
   "execution_count": 46,
   "metadata": {},
   "outputs": [
    {
     "name": "stdout",
     "output_type": "stream",
     "text": [
      "   MWG  NWG  KWG  MDIMC  NDIMC  MDIMA  NDIMB  KWI  VWM  VWN  STRM  STRN  SA  \\\n",
      "0   16   16   16      8      8      8      8    2    1    1     0     0   0   \n",
      "1   16   16   16      8      8      8      8    2    1    1     0     0   0   \n",
      "2   16   16   16      8      8      8      8    2    1    1     0     0   1   \n",
      "3   16   16   16      8      8      8      8    2    1    1     0     0   1   \n",
      "4   16   16   16      8      8      8      8    2    1    1     0     1   0   \n",
      "\n",
      "   SB  Run1 (ms)  Run2 (ms)  Run3 (ms)  Run4 (ms)  \n",
      "0   0     115.26     115.87     118.55     115.80  \n",
      "1   1      78.13      78.25      79.25      79.19  \n",
      "2   0      79.84      80.69      80.76      80.97  \n",
      "3   1      84.32      89.90      86.75      85.58  \n",
      "4   0     115.13     121.98     122.73     114.81  \n"
     ]
    }
   ],
   "source": [
    "# importing data\n",
    "import pandas as pd\n",
    "data = pd.read_csv('D:/MSBA/10 Applied Machine Learning/assignment/1/sgemm_product_dataset/sgemm_product.csv')\n",
    "print(data.head())"
   ]
  },
  {
   "cell_type": "code",
   "execution_count": 47,
   "metadata": {},
   "outputs": [
    {
     "name": "stdout",
     "output_type": "stream",
     "text": [
      "(241600, 18)\n"
     ]
    }
   ],
   "source": [
    "# checking shape of data\n",
    "print(data.shape)"
   ]
  },
  {
   "cell_type": "code",
   "execution_count": 4,
   "metadata": {
    "scrolled": false
   },
   "outputs": [
    {
     "name": "stdout",
     "output_type": "stream",
     "text": [
      "<class 'pandas.core.frame.DataFrame'>\n",
      "RangeIndex: 241600 entries, 0 to 241599\n",
      "Data columns (total 18 columns):\n",
      "MWG          241600 non-null int64\n",
      "NWG          241600 non-null int64\n",
      "KWG          241600 non-null int64\n",
      "MDIMC        241600 non-null int64\n",
      "NDIMC        241600 non-null int64\n",
      "MDIMA        241600 non-null int64\n",
      "NDIMB        241600 non-null int64\n",
      "KWI          241600 non-null int64\n",
      "VWM          241600 non-null int64\n",
      "VWN          241600 non-null int64\n",
      "STRM         241600 non-null int64\n",
      "STRN         241600 non-null int64\n",
      "SA           241600 non-null int64\n",
      "SB           241600 non-null int64\n",
      "Run1 (ms)    241600 non-null float64\n",
      "Run2 (ms)    241600 non-null float64\n",
      "Run3 (ms)    241600 non-null float64\n",
      "Run4 (ms)    241600 non-null float64\n",
      "dtypes: float64(4), int64(14)\n",
      "memory usage: 33.2 MB\n",
      "None\n"
     ]
    }
   ],
   "source": [
    "print(data.info())"
   ]
  },
  {
   "cell_type": "code",
   "execution_count": 48,
   "metadata": {},
   "outputs": [
    {
     "name": "stdout",
     "output_type": "stream",
     "text": [
      "   Run1 (ms)  Run2 (ms)  Run3 (ms)  Run4 (ms)  av_run\n",
      "0     115.26     115.87     118.55     115.80  116.37\n",
      "1      78.13      78.25      79.25      79.19   78.70\n",
      "2      79.84      80.69      80.76      80.97   80.56\n",
      "3      84.32      89.90      86.75      85.58   86.64\n",
      "4     115.13     121.98     122.73     114.81  118.66\n"
     ]
    }
   ],
   "source": [
    "# creating target variable (average of 4 runtime)\n",
    "data['av_run'] = data[['Run1 (ms)','Run2 (ms)','Run3 (ms)','Run4 (ms)']].mean(axis = 1).round(2)\n",
    "print(data[['Run1 (ms)', 'Run2 (ms)','Run3 (ms)', 'Run4 (ms)','av_run']].head())"
   ]
  },
  {
   "cell_type": "code",
   "execution_count": 49,
   "metadata": {},
   "outputs": [
    {
     "data": {
      "text/plain": [
       "Index(['MWG', 'NWG', 'KWG', 'MDIMC', 'NDIMC', 'MDIMA', 'NDIMB', 'KWI', 'VWM',\n",
       "       'VWN', 'STRM', 'STRN', 'SA', 'SB', 'av_run'],\n",
       "      dtype='object')"
      ]
     },
     "execution_count": 49,
     "metadata": {},
     "output_type": "execute_result"
    }
   ],
   "source": [
    "# dropping 4 obselete run columns\n",
    "data.drop(columns=['Run1 (ms)', 'Run2 (ms)','Run3 (ms)', 'Run4 (ms)'], inplace = True)\n",
    "data.columns"
   ]
  },
  {
   "cell_type": "code",
   "execution_count": 50,
   "metadata": {
    "scrolled": false
   },
   "outputs": [
    {
     "name": "stdout",
     "output_type": "stream",
     "text": [
      "   MWG  NWG  KWG  MDIMC  NDIMC  MDIMA  NDIMB  KWI  VWM  VWN  STRM  STRN  SA  \\\n",
      "0   16   16   16      8      8      8      8    2    1    1     0     0   0   \n",
      "1   16   16   16      8      8      8      8    2    1    1     0     0   0   \n",
      "2   16   16   16      8      8      8      8    2    1    1     0     0   1   \n",
      "3   16   16   16      8      8      8      8    2    1    1     0     0   1   \n",
      "4   16   16   16      8      8      8      8    2    1    1     0     1   0   \n",
      "\n",
      "   SB  \n",
      "0   0  \n",
      "1   1  \n",
      "2   0  \n",
      "3   1  \n",
      "4   0  \n",
      "0    116.37\n",
      "1     78.70\n",
      "2     80.56\n",
      "3     86.64\n",
      "4    118.66\n",
      "Name: av_run, dtype: float64\n"
     ]
    }
   ],
   "source": [
    "# creating independent and dependent variables\n",
    "X = data.iloc[:,:-1]\n",
    "y = data.iloc[:,-1]\n",
    "print(X.head())\n",
    "print(y.head())"
   ]
  },
  {
   "cell_type": "code",
   "execution_count": 51,
   "metadata": {},
   "outputs": [
    {
     "data": {
      "text/plain": [
       "array([[ 1., 16., 16., 16.,  8.,  8.,  8.,  8.,  2.,  1.,  1.,  0.,  0.,\n",
       "         0.,  0.],\n",
       "       [ 1., 16., 16., 16.,  8.,  8.,  8.,  8.,  2.,  1.,  1.,  0.,  0.,\n",
       "         0.,  1.]])"
      ]
     },
     "execution_count": 51,
     "metadata": {},
     "output_type": "execute_result"
    }
   ],
   "source": [
    "# adding X0 in X\n",
    "import numpy as np\n",
    "ones = np.ones(X.shape[0]).reshape(X.shape[0],1)\n",
    "X = np.hstack((ones,X))\n",
    "X[:2]"
   ]
  },
  {
   "cell_type": "code",
   "execution_count": 53,
   "metadata": {},
   "outputs": [
    {
     "name": "stdout",
     "output_type": "stream",
     "text": [
      "(169120, 15)\n",
      "(72480, 15)\n"
     ]
    }
   ],
   "source": [
    "# splitting data into training and testing set\n",
    "from sklearn.model_selection import train_test_split\n",
    "X_train, X_test, y_train, y_test = train_test_split(X,y,test_size = 0.3, random_state = 42)\n",
    "print(X_train.shape)\n",
    "print(X_test.shape)"
   ]
  },
  {
   "cell_type": "code",
   "execution_count": 54,
   "metadata": {},
   "outputs": [],
   "source": [
    "# creating cost function\n",
    "def cost(betas,X,y):\n",
    "    m = len(y)\n",
    "    y_hat = X.dot(betas)\n",
    "    c = (1/(2*m))*(np.sum(np.square(y_hat-y)))\n",
    "    return c"
   ]
  },
  {
   "cell_type": "code",
   "execution_count": 55,
   "metadata": {},
   "outputs": [],
   "source": [
    "# generalized gradient discent using batch method\n",
    "def gradient_descent1(X,y,lr,th):\n",
    "    m = len(y)\n",
    "    betas = np.zeros(X.shape[1])\n",
    "    t = np.zeros(X.shape[1])\n",
    "    c = []\n",
    "    a = cost(betas,X,y)\n",
    "    c.append(a)\n",
    "    i = 0\n",
    "    while i < th:\n",
    "        y_hat = X.dot(betas)\n",
    "        t = lr*(1/m)*(X.T.dot(y_hat-y))\n",
    "        betas = betas - t\n",
    "        #print(betas)\n",
    "        a = cost(betas,X,y)\n",
    "        #print('cost: ',a)\n",
    "        c.append(a)\n",
    "        i = i+1\n",
    "        if c[-1] > c[-2]:\n",
    "            break\n",
    "    return (betas, c[-2:],i)"
   ]
  },
  {
   "cell_type": "code",
   "execution_count": 11,
   "metadata": {},
   "outputs": [],
   "source": [
    "# gradient discent with matrix multiplication\n",
    "import numpy as np\n",
    "def betas_matrix(X,y):\n",
    "    X_trans = X.T\n",
    "    betas = np.zeros(X.shape[1])\n",
    "    betas = np.linalg.inv(X.T@X)@X.T@y\n",
    "    return betas"
   ]
  },
  {
   "cell_type": "code",
   "execution_count": 20,
   "metadata": {},
   "outputs": [
    {
     "name": "stdout",
     "output_type": "stream",
     "text": [
      "<class 'numpy.ndarray'>\n",
      "<class 'numpy.ndarray'>\n"
     ]
    }
   ],
   "source": [
    "# converting training X and y into arrays\n",
    "X = np.array(X_train)\n",
    "y = np.array(y_train)\n",
    "print(type(X))\n",
    "print(type(y))"
   ]
  },
  {
   "cell_type": "code",
   "execution_count": 21,
   "metadata": {},
   "outputs": [
    {
     "name": "stdout",
     "output_type": "stream",
     "text": [
      "[-52.80494286   3.3360934    3.07157809   5.18026704 -16.68004451\n",
      " -16.31771232   1.07746467   0.96169722   3.91773461  -1.18623736\n",
      "  -3.0399407   -9.15705436   0.15714724  38.75780065  46.69633709]\n"
     ]
    }
   ],
   "source": [
    "# calculating betas for X and y train using martix method\n",
    "betas = betas_matrix(X_train,y_train)\n",
    "print(betas)"
   ]
  },
  {
   "cell_type": "code",
   "execution_count": 11,
   "metadata": {},
   "outputs": [
    {
     "name": "stdout",
     "output_type": "stream",
     "text": [
      "{1e-05: array([ -0.1157548 ,   3.29571233,   3.00659614,   4.69521554,\n",
      "       -16.27827949, -15.88200097,   0.90255283,   0.86343096,\n",
      "         2.04589962,  -0.13170021,  -0.60658252,  -0.28269067,\n",
      "        -0.05788066,   0.90100719,   1.09723534]), 3e-05: array([ -0.24650074,   3.30447869,   3.02656895,   4.91544658,\n",
      "       -16.7545512 , -16.37464884,   0.99876883,   0.92620825,\n",
      "         3.30498047,  -0.81925169,  -1.91601843,  -0.78006439,\n",
      "        -0.11736064,   2.68683574,   3.2572395 ]), 6e-05: array([ -0.45258288,   3.31429499,   3.04474181,   4.91528925,\n",
      "       -16.77050787, -16.40539551,   0.97422231,   0.8773302 ,\n",
      "         3.52952858,  -1.33388463,  -2.88072192,  -1.48572016,\n",
      "        -0.2045341 ,   5.19830764,   6.29701932]), 0.0001: array([ -0.73334434,   3.31768   ,   3.0520954 ,   4.90027902,\n",
      "       -16.78369988, -16.42537241,   0.95660572,   0.84781641,\n",
      "         3.53034407,  -1.59127708,  -3.35390049,  -2.35109981,\n",
      "        -0.3128913 ,   8.26343408,  10.00860185])}\n",
      "{1e-05: [40632.469729332726, 40632.458636380565], 3e-05: [40561.6195342441, 40561.61269642197], 6e-05: [40503.42120256667, 40503.41094346461], 0.0001: [40442.54407552901, 40442.53047387899]}\n",
      "{1e-05: 10000, 3e-05: 10000, 6e-05: 10000, 0.0001: 10000}\n"
     ]
    }
   ],
   "source": [
    "# calculating betas for X and y train using batch method with different values of alpha\n",
    "cost_list_list = {}\n",
    "betas = {}\n",
    "last_iteration = {}\n",
    "\n",
    "for alpha in [0.00001,0.00003,0.00006,0.0001]:\n",
    "    betas[alpha], cost_list_list[alpha], last_iteration[alpha] = gradient_descent1(X_train,y_train,alpha, 10000)\n",
    "print(betas)\n",
    "print(cost_list_list)\n",
    "print(last_iteration)"
   ]
  },
  {
   "cell_type": "code",
   "execution_count": 43,
   "metadata": {},
   "outputs": [
    {
     "data": {
      "text/plain": [
       "array([ -0.73334434,   3.31768   ,   3.0520954 ,   4.90027902,\n",
       "       -16.78369988, -16.42537241,   0.95660572,   0.84781641,\n",
       "         3.53034407,  -1.59127708,  -3.35390049,  -2.35109981,\n",
       "        -0.3128913 ,   8.26343408,  10.00860185])"
      ]
     },
     "execution_count": 43,
     "metadata": {},
     "output_type": "execute_result"
    }
   ],
   "source": [
    "betas[0.0001]"
   ]
  },
  {
   "cell_type": "code",
   "execution_count": 41,
   "metadata": {},
   "outputs": [
    {
     "name": "stdout",
     "output_type": "stream",
     "text": [
      "     Alpha  Train RMSE   Test RMSE    Final Cost\n",
      "0  0.00001  285.070022  286.777432  40632.458636\n",
      "1  0.00003  284.821392  286.494334  40561.612696\n",
      "2  0.00006  284.616974  286.282361  40503.410943\n",
      "3  0.00010  284.402990  286.065531  40442.530474\n"
     ]
    }
   ],
   "source": [
    "# calculating RMSE for different values of betas abtained using differet values of alpha in both test and train dataset\n",
    "import math\n",
    "\n",
    "X_test = np.array(X_test)\n",
    "y_test = np.array(y_test)\n",
    "rmse = {}\n",
    "c, tr, te = [],[],[]\n",
    "\n",
    "for alpha, beta in betas.items():\n",
    "    c.append(alpha)\n",
    "    tr.append(math.sqrt(2*cost(beta, X_train, y_train)))\n",
    "    te.append(math.sqrt(2*cost(beta,X_test, y_test)))\n",
    "    \n",
    "rmse['Alpha'] = c\n",
    "rmse['Train RMSE'] = tr\n",
    "rmse['Test RMSE'] = te\n",
    "rmse['Final Cost'] = [i[1] for i in cost_list_list.values()]\n",
    "rmse = pd.DataFrame(rmse)\n",
    "print(rmse)"
   ]
  },
  {
   "cell_type": "code",
   "execution_count": 19,
   "metadata": {},
   "outputs": [
    {
     "data": {
      "image/png": "[encoded data removed]",
      "text/plain": [
       "<Figure size 432x288 with 1 Axes>"
      ]
     },
     "metadata": {
      "needs_background": "light"
     },
     "output_type": "display_data"
    }
   ],
   "source": [
    "import matplotlib.pyplot as plt\n",
    "plt.plot(rmse['Alpha'], rmse['Train RMSE'], label = 'Train Error', color = 'red')\n",
    "plt.plot(rmse['Alpha'], rmse['Test RMSE'], label = 'Test Error', color = 'blue')\n",
    "plt.title('Variation of Train and Test Error with Alpha')\n",
    "plt.xlabel('Alpha')\n",
    "plt.ylabel('ERROR (RMSE)')\n",
    "plt.legend()\n",
    "plt.show()"
   ]
  },
  {
   "cell_type": "code",
   "execution_count": 55,
   "metadata": {},
   "outputs": [
    {
     "name": "stdout",
     "output_type": "stream",
     "text": [
      "285.0109206525314\n"
     ]
    }
   ],
   "source": [
    "from sklearn.linear_model import LinearRegression\n",
    "from sklearn.metrics import mean_squared_error as mse\n",
    "\n",
    "model = LinearRegression()\n",
    "model.fit(X_train, y_train)\n",
    "y_pred = model.predict(X_test)\n",
    "print(np.sqrt(mse(y_test, y_pred)))"
   ]
  },
  {
   "cell_type": "code",
   "execution_count": 58,
   "metadata": {},
   "outputs": [
    {
     "name": "stdout",
     "output_type": "stream",
     "text": [
      "200.3605400672594\n",
      "201.53315470562598\n"
     ]
    }
   ],
   "source": [
    "betas_ma = betas_matrix(X_train,y_train)\n",
    "print(math.sqrt(cost(betas_ma, X_train, y_train)))\n",
    "print(math.sqrt(cost(betas_ma, X_test, y_test)))     "
   ]
  },
  {
   "cell_type": "code",
   "execution_count": 81,
   "metadata": {},
   "outputs": [
    {
     "name": "stdout",
     "output_type": "stream",
     "text": [
      "{5000: array([ -0.41392841,   3.30887792,   3.0317556 ,   4.94217708,\n",
      "       -16.76001557, -16.45356051,   0.96712325,   1.00033212,\n",
      "         3.43285215,  -1.29914839,  -2.68456843,  -1.0883175 ,\n",
      "        -0.1072029 ,   4.44684361,   5.20392874]), 10000: array([ -0.7909576 ,   3.31471574,   3.04348466,   4.9259094 ,\n",
      "       -16.77761279, -16.48178111,   0.94246232,   0.95964574,\n",
      "         3.45845335,  -1.69149028,  -3.39451926,  -2.03702111,\n",
      "        -0.18482077,   8.3915871 ,   9.81198848]), 20000: array([ -1.64723701,   3.31300763,   3.04329293,   4.86745711,\n",
      "       -16.80459941, -16.51097223,   0.91243017,   0.9261004 ,\n",
      "         3.37606902,  -1.89310883,  -3.68711565,  -3.66058682,\n",
      "        -0.3615793 ,  14.89924272,  17.42050608]), 40000: array([ -3.7208535 ,   3.30923358,   3.03942318,   4.79301952,\n",
      "       -16.83665294, -16.54196666,   0.87837504,   0.89344148,\n",
      "         3.26379942,  -2.0639347 ,  -3.86747035,  -6.05719737,\n",
      "        -0.756432  ,  23.76969654,  27.81267226])}\n",
      "{5000: [40473.123248890835, 40473.10514759318], 10000: [40395.78762529191, 40395.77424867093], 20000: [40291.4014662446, 40291.393478101854], 40000: [40190.77311696907, 40190.77017786129]}\n",
      "{5000: 5000, 10000: 10000, 20000: 20000, 40000: 40000}\n"
     ]
    }
   ],
   "source": [
    "# Calculating RMSE with different thresholds \n",
    "cost_list_list = {}\n",
    "betas = {}\n",
    "last_iteration = {}\n",
    "\n",
    "for th in [5000, 10000, 20000, 40000]:\n",
    "    betas[th], cost_list_list[th], last_iteration[th] = gradient_descent1(X_train,y_train,0.0001, th)\n",
    "    \n",
    "print(betas)\n",
    "print(cost_list_list)\n",
    "print(last_iteration)"
   ]
  },
  {
   "cell_type": "code",
   "execution_count": 44,
   "metadata": {},
   "outputs": [
    {
     "data": {
      "text/plain": [
       "{1e-05: [40632.469729332726, 40632.458636380565],\n",
       " 3e-05: [40561.6195342441, 40561.61269642197],\n",
       " 6e-05: [40503.42120256667, 40503.41094346461],\n",
       " 0.0001: [40442.54407552901, 40442.53047387899]}"
      ]
     },
     "execution_count": 44,
     "metadata": {},
     "output_type": "execute_result"
    }
   ],
   "source": [
    "cost_list_list"
   ]
  },
  {
   "cell_type": "code",
   "execution_count": 152,
   "metadata": {},
   "outputs": [
    {
     "name": "stdout",
     "output_type": "stream",
     "text": [
      "   iterations       train        test\n",
      "0        5000  284.510475  285.088875\n",
      "1       10000  284.238542  284.810794\n",
      "2       20000  283.871075  284.430634\n",
      "3       40000  283.516385  284.057694\n"
     ]
    }
   ],
   "source": [
    "rmse_th = {}\n",
    "c, tr, te = [],[],[]\n",
    "\n",
    "for alpha, beta in betas.items():\n",
    "    c.append(alpha)\n",
    "    tr.append(math.sqrt(2*cost(beta, X_train, y_train)))\n",
    "    te.append(math.sqrt(2*cost(beta,X_test, y_test)))\n",
    "    \n",
    "rmse_th['iterations'] = c\n",
    "rmse_th['train'] = tr\n",
    "rmse_th['test'] = te\n",
    "rmse_th = pd.DataFrame(rmse_th)\n",
    "print(rmse_th)"
   ]
  },
  {
   "cell_type": "code",
   "execution_count": 45,
   "metadata": {},
   "outputs": [
    {
     "ename": "NameError",
     "evalue": "name 'rmse_th' is not defined",
     "output_type": "error",
     "traceback": [
      "\u001b[1;31m---------------------------------------------------------------------------\u001b[0m",
      "\u001b[1;31mNameError\u001b[0m                                 Traceback (most recent call last)",
      "\u001b[1;32m<ipython-input-45-4de015c5d934>\u001b[0m in \u001b[0;36m<module>\u001b[1;34m\u001b[0m\n\u001b[0;32m      1\u001b[0m \u001b[1;31m# plotting RMSE with increase in number of iterations\u001b[0m\u001b[1;33m\u001b[0m\u001b[1;33m\u001b[0m\u001b[1;33m\u001b[0m\u001b[0m\n\u001b[1;32m----> 2\u001b[1;33m \u001b[0mplt\u001b[0m\u001b[1;33m.\u001b[0m\u001b[0mplot\u001b[0m\u001b[1;33m(\u001b[0m\u001b[0mrmse_th\u001b[0m\u001b[1;33m[\u001b[0m\u001b[1;34m'iterations'\u001b[0m\u001b[1;33m]\u001b[0m\u001b[1;33m,\u001b[0m \u001b[0mrmse_th\u001b[0m\u001b[1;33m[\u001b[0m\u001b[1;34m'train'\u001b[0m\u001b[1;33m]\u001b[0m\u001b[1;33m,\u001b[0m \u001b[0mlabel\u001b[0m \u001b[1;33m=\u001b[0m \u001b[1;34m'Train Error'\u001b[0m\u001b[1;33m,\u001b[0m \u001b[0mcolor\u001b[0m \u001b[1;33m=\u001b[0m \u001b[1;34m'red'\u001b[0m\u001b[1;33m)\u001b[0m\u001b[1;33m\u001b[0m\u001b[1;33m\u001b[0m\u001b[0m\n\u001b[0m\u001b[0;32m      3\u001b[0m \u001b[0mplt\u001b[0m\u001b[1;33m.\u001b[0m\u001b[0mplot\u001b[0m\u001b[1;33m(\u001b[0m\u001b[0mrmse_th\u001b[0m\u001b[1;33m[\u001b[0m\u001b[1;34m'iterations'\u001b[0m\u001b[1;33m]\u001b[0m\u001b[1;33m,\u001b[0m \u001b[0mrmse_th\u001b[0m\u001b[1;33m[\u001b[0m\u001b[1;34m'test'\u001b[0m\u001b[1;33m]\u001b[0m\u001b[1;33m,\u001b[0m \u001b[0mlabel\u001b[0m \u001b[1;33m=\u001b[0m \u001b[1;34m'Test Error'\u001b[0m\u001b[1;33m,\u001b[0m \u001b[0mcolor\u001b[0m \u001b[1;33m=\u001b[0m \u001b[1;34m'blue'\u001b[0m\u001b[1;33m)\u001b[0m\u001b[1;33m\u001b[0m\u001b[1;33m\u001b[0m\u001b[0m\n\u001b[0;32m      4\u001b[0m \u001b[0mplt\u001b[0m\u001b[1;33m.\u001b[0m\u001b[0mxlabel\u001b[0m\u001b[1;33m(\u001b[0m\u001b[1;34m'Iterations'\u001b[0m\u001b[1;33m)\u001b[0m\u001b[1;33m\u001b[0m\u001b[1;33m\u001b[0m\u001b[0m\n\u001b[0;32m      5\u001b[0m \u001b[0mplt\u001b[0m\u001b[1;33m.\u001b[0m\u001b[0mylabel\u001b[0m\u001b[1;33m(\u001b[0m\u001b[1;34m'RMSE'\u001b[0m\u001b[1;33m)\u001b[0m\u001b[1;33m\u001b[0m\u001b[1;33m\u001b[0m\u001b[0m\n",
      "\u001b[1;31mNameError\u001b[0m: name 'rmse_th' is not defined"
     ]
    }
   ],
   "source": [
    "# plotting RMSE with increase in number of iterations\n",
    "plt.plot(rmse_th['iterations'], rmse_th['train'], label = 'Train Error', color = 'red')\n",
    "plt.plot(rmse_th['iterations'], rmse_th['test'], label = 'Test Error', color = 'blue')\n",
    "plt.xlabel('Iterations')\n",
    "plt.ylabel('RMSE')\n",
    "plt.title('Variation of train and test RMSE with number of Iterations')\n",
    "plt.legend()\n",
    "plt.show()"
   ]
  },
  {
   "cell_type": "code",
   "execution_count": 108,
   "metadata": {},
   "outputs": [
    {
     "data": {
      "text/plain": [
       "Index(['SB', 'MDIMA', 'STRN', 'NDIMB', 'MDIMC', 'NWG', 'KWG', 'KWI'], dtype='object')"
      ]
     },
     "execution_count": 108,
     "metadata": {},
     "output_type": "execute_result"
    }
   ],
   "source": [
    "# selecting 8 features randomly to train model\n",
    "col_name = []\n",
    "data.iloc[:,np.random.choice(range(14), size = 8, replace = False)].columns"
   ]
  },
  {
   "cell_type": "code",
   "execution_count": 174,
   "metadata": {},
   "outputs": [],
   "source": [
    "f8, tr, te = [],[],[]\n",
    "\n",
    "for _ in range(5):\n",
    "    cols = np.random.choice(range(1,14), size = 8, replace = False)\n",
    "    f8.append(cols)\n",
    "    X_train_8 = X_train[:, cols]\n",
    "    X_train_8 = np.hstack((np.ones(X_train_8.shape[0]).reshape(X_train_8.shape[0],1), X_train_8))\n",
    "    X_test_8 = X_test[:, cols]\n",
    "    X_test_8 = np.hstack((np.ones(X_test_8.shape[0]).reshape(X_test_8.shape[0],1), X_test_8))\n",
    "    beta, cost_list, last_iteration = gradient_descent1(X_train_8,y_train,0.0001, 40000)\n",
    "    tr.append(np.sqrt(2*cost(beta, X_train_8, y_train)))\n",
    "    te.append(np.sqrt(2*cost(beta, X_test_8, y_test)))"
   ]
  },
  {
   "cell_type": "code",
   "execution_count": 178,
   "metadata": {},
   "outputs": [
    {
     "name": "stdout",
     "output_type": "stream",
     "text": [
      "                       feature     tr_rmse   test_rmse\n",
      "0   [1, 9, 3, 12, 8, 4, 13, 7]  329.850317  330.368621\n",
      "1   [7, 8, 5, 6, 3, 4, 12, 11]  346.606378  348.164755\n",
      "2   [7, 8, 2, 11, 4, 1, 13, 9]  309.178036  309.052257\n",
      "3  [12, 10, 1, 3, 13, 4, 5, 7]  308.066649  309.210744\n",
      "4  [10, 9, 12, 13, 3, 6, 4, 8]  349.549560  349.786059\n"
     ]
    }
   ],
   "source": [
    "best_feature = {}\n",
    "best_feature['feature'] = f8\n",
    "best_feature['tr_rmse'] = tr\n",
    "best_feature['test_rmse'] = te\n",
    "\n",
    "features = pd.DataFrame(best_feature)\n",
    "print(features)"
   ]
  },
  {
   "cell_type": "code",
   "execution_count": 56,
   "metadata": {},
   "outputs": [
    {
     "name": "stdout",
     "output_type": "stream",
     "text": [
      "Train Accuracy:  285.09381808336667\n",
      "Test Accuracy:  286.7747545545055\n"
     ]
    }
   ],
   "source": [
    "# selecting 8 prominant features to train model\n",
    "f8 = ['MWG', 'NWG', 'KWG', 'MDIMC', 'NDIMC', 'MDIMA', 'NDIMB', 'KWI']\n",
    "X_train_8 = X_train[:,range(9)]\n",
    "X_test_8 = X_test[:,range(9)]\n",
    "\n",
    "# training a new model on chosen 8 features\n",
    "beta_8, _, _ = gradient_descent1(X_train_8,y_train,0.0001, 40000)\n",
    "\n",
    "print(\"Train Accuracy: \", np.sqrt(2*cost(beta_8, X_train_8, y_train)))\n",
    "print(\"Test Accuracy: \", np.sqrt(2*cost(beta_8, X_test_8, y_test)))"
   ]
  }
 ],
 "metadata": {
  "kernelspec": {
   "display_name": "Python 3",
   "language": "python",
   "name": "python3"
  },
  "language_info": {
   "codemirror_mode": {
    "name": "ipython",
    "version": 3
   },
   "file_extension": ".py",
   "mimetype": "text/x-python",
   "name": "python",
   "nbconvert_exporter": "python",
   "pygments_lexer": "ipython3",
   "version": "3.7.4"
  }
 },
 "nbformat": 4,
 "nbformat_minor": 2
}
