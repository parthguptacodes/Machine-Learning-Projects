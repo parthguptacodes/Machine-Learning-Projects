{
 "cells": [
  {
   "cell_type": "code",
   "execution_count": 1,
   "metadata": {},
   "outputs": [
    {
     "name": "stdout",
     "output_type": "stream",
     "text": [
      "   age         workclass  fnlwgt  education  education-num  \\\n",
      "0   39         State-gov   77516  Bachelors             13   \n",
      "1   50  Self-emp-not-inc   83311  Bachelors             13   \n",
      "2   38           Private  215646    HS-grad              9   \n",
      "3   53           Private  234721       11th              7   \n",
      "4   28           Private  338409  Bachelors             13   \n",
      "\n",
      "       marital-status         occupation   relationship   race     sex  \\\n",
      "0       Never-married       Adm-clerical  Not-in-family  White    Male   \n",
      "1  Married-civ-spouse    Exec-managerial        Husband  White    Male   \n",
      "2            Divorced  Handlers-cleaners  Not-in-family  White    Male   \n",
      "3  Married-civ-spouse  Handlers-cleaners        Husband  Black    Male   \n",
      "4  Married-civ-spouse     Prof-specialty           Wife  Black  Female   \n",
      "\n",
      "   capital-gain  capital-loss  hours-per-week native-country Income level  \n",
      "0          2174             0              40  United-States        <=50K  \n",
      "1             0             0              13  United-States        <=50K  \n",
      "2             0             0              40  United-States        <=50K  \n",
      "3             0             0              40  United-States        <=50K  \n",
      "4             0             0              40           Cuba        <=50K  \n"
     ]
    }
   ],
   "source": [
    "# importing data\n",
    "import pandas as pd\n",
    "import numpy as np\n",
    "np.random_state = 42\n",
    "data = pd.read_csv('D:/MSBA/10 Applied Machine Learning/assignment/2/adult_income.csv')\n",
    "print(data.head())"
   ]
  },
  {
   "cell_type": "code",
   "execution_count": 2,
   "metadata": {},
   "outputs": [
    {
     "data": {
      "text/html": [
       "<div>\n",
       "<style scoped>\n",
       "    .dataframe tbody tr th:only-of-type {\n",
       "        vertical-align: middle;\n",
       "    }\n",
       "\n",
       "    .dataframe tbody tr th {\n",
       "        vertical-align: top;\n",
       "    }\n",
       "\n",
       "    .dataframe thead th {\n",
       "        text-align: right;\n",
       "    }\n",
       "</style>\n",
       "<table border=\"1\" class=\"dataframe\">\n",
       "  <thead>\n",
       "    <tr style=\"text-align: right;\">\n",
       "      <th></th>\n",
       "      <th>age</th>\n",
       "      <th>workclass</th>\n",
       "      <th>fnlwgt</th>\n",
       "      <th>education</th>\n",
       "      <th>education-num</th>\n",
       "      <th>marital-status</th>\n",
       "      <th>occupation</th>\n",
       "      <th>relationship</th>\n",
       "      <th>race</th>\n",
       "      <th>sex</th>\n",
       "      <th>capital-gain</th>\n",
       "      <th>capital-loss</th>\n",
       "      <th>hours-per-week</th>\n",
       "      <th>native-country</th>\n",
       "      <th>Income level</th>\n",
       "      <th>country</th>\n",
       "    </tr>\n",
       "  </thead>\n",
       "  <tbody>\n",
       "    <tr>\n",
       "      <td>0</td>\n",
       "      <td>39</td>\n",
       "      <td>State-gov</td>\n",
       "      <td>77516</td>\n",
       "      <td>Bachelors</td>\n",
       "      <td>13</td>\n",
       "      <td>Never-married</td>\n",
       "      <td>Adm-clerical</td>\n",
       "      <td>Not-in-family</td>\n",
       "      <td>White</td>\n",
       "      <td>Male</td>\n",
       "      <td>2174</td>\n",
       "      <td>0</td>\n",
       "      <td>40</td>\n",
       "      <td>United-States</td>\n",
       "      <td>&lt;=50K</td>\n",
       "      <td>US</td>\n",
       "    </tr>\n",
       "    <tr>\n",
       "      <td>1</td>\n",
       "      <td>50</td>\n",
       "      <td>Self-emp-not-inc</td>\n",
       "      <td>83311</td>\n",
       "      <td>Bachelors</td>\n",
       "      <td>13</td>\n",
       "      <td>Married-civ-spouse</td>\n",
       "      <td>Exec-managerial</td>\n",
       "      <td>Husband</td>\n",
       "      <td>White</td>\n",
       "      <td>Male</td>\n",
       "      <td>0</td>\n",
       "      <td>0</td>\n",
       "      <td>13</td>\n",
       "      <td>United-States</td>\n",
       "      <td>&lt;=50K</td>\n",
       "      <td>US</td>\n",
       "    </tr>\n",
       "    <tr>\n",
       "      <td>2</td>\n",
       "      <td>38</td>\n",
       "      <td>Private</td>\n",
       "      <td>215646</td>\n",
       "      <td>HS-grad</td>\n",
       "      <td>9</td>\n",
       "      <td>Divorced</td>\n",
       "      <td>Handlers-cleaners</td>\n",
       "      <td>Not-in-family</td>\n",
       "      <td>White</td>\n",
       "      <td>Male</td>\n",
       "      <td>0</td>\n",
       "      <td>0</td>\n",
       "      <td>40</td>\n",
       "      <td>United-States</td>\n",
       "      <td>&lt;=50K</td>\n",
       "      <td>US</td>\n",
       "    </tr>\n",
       "    <tr>\n",
       "      <td>3</td>\n",
       "      <td>53</td>\n",
       "      <td>Private</td>\n",
       "      <td>234721</td>\n",
       "      <td>11th</td>\n",
       "      <td>7</td>\n",
       "      <td>Married-civ-spouse</td>\n",
       "      <td>Handlers-cleaners</td>\n",
       "      <td>Husband</td>\n",
       "      <td>Black</td>\n",
       "      <td>Male</td>\n",
       "      <td>0</td>\n",
       "      <td>0</td>\n",
       "      <td>40</td>\n",
       "      <td>United-States</td>\n",
       "      <td>&lt;=50K</td>\n",
       "      <td>US</td>\n",
       "    </tr>\n",
       "    <tr>\n",
       "      <td>4</td>\n",
       "      <td>28</td>\n",
       "      <td>Private</td>\n",
       "      <td>338409</td>\n",
       "      <td>Bachelors</td>\n",
       "      <td>13</td>\n",
       "      <td>Married-civ-spouse</td>\n",
       "      <td>Prof-specialty</td>\n",
       "      <td>Wife</td>\n",
       "      <td>Black</td>\n",
       "      <td>Female</td>\n",
       "      <td>0</td>\n",
       "      <td>0</td>\n",
       "      <td>40</td>\n",
       "      <td>Cuba</td>\n",
       "      <td>&lt;=50K</td>\n",
       "      <td>Non US</td>\n",
       "    </tr>\n",
       "  </tbody>\n",
       "</table>\n",
       "</div>"
      ],
      "text/plain": [
       "   age         workclass  fnlwgt  education  education-num  \\\n",
       "0   39         State-gov   77516  Bachelors             13   \n",
       "1   50  Self-emp-not-inc   83311  Bachelors             13   \n",
       "2   38           Private  215646    HS-grad              9   \n",
       "3   53           Private  234721       11th              7   \n",
       "4   28           Private  338409  Bachelors             13   \n",
       "\n",
       "       marital-status         occupation   relationship   race     sex  \\\n",
       "0       Never-married       Adm-clerical  Not-in-family  White    Male   \n",
       "1  Married-civ-spouse    Exec-managerial        Husband  White    Male   \n",
       "2            Divorced  Handlers-cleaners  Not-in-family  White    Male   \n",
       "3  Married-civ-spouse  Handlers-cleaners        Husband  Black    Male   \n",
       "4  Married-civ-spouse     Prof-specialty           Wife  Black  Female   \n",
       "\n",
       "   capital-gain  capital-loss  hours-per-week native-country Income level  \\\n",
       "0          2174             0              40  United-States        <=50K   \n",
       "1             0             0              13  United-States        <=50K   \n",
       "2             0             0              40  United-States        <=50K   \n",
       "3             0             0              40  United-States        <=50K   \n",
       "4             0             0              40           Cuba        <=50K   \n",
       "\n",
       "  country  \n",
       "0      US  \n",
       "1      US  \n",
       "2      US  \n",
       "3      US  \n",
       "4  Non US  "
      ]
     },
     "execution_count": 2,
     "metadata": {},
     "output_type": "execute_result"
    }
   ],
   "source": [
    "# changing a few variables\n",
    "data['country'] = ['US' if x == 'United-States' else 'Non US' for x in data['native-country']]\n",
    "data.head()"
   ]
  },
  {
   "cell_type": "code",
   "execution_count": 3,
   "metadata": {},
   "outputs": [
    {
     "data": {
      "text/html": [
       "<div>\n",
       "<style scoped>\n",
       "    .dataframe tbody tr th:only-of-type {\n",
       "        vertical-align: middle;\n",
       "    }\n",
       "\n",
       "    .dataframe tbody tr th {\n",
       "        vertical-align: top;\n",
       "    }\n",
       "\n",
       "    .dataframe thead th {\n",
       "        text-align: right;\n",
       "    }\n",
       "</style>\n",
       "<table border=\"1\" class=\"dataframe\">\n",
       "  <thead>\n",
       "    <tr style=\"text-align: right;\">\n",
       "      <th></th>\n",
       "      <th>age</th>\n",
       "      <th>workclass</th>\n",
       "      <th>fnlwgt</th>\n",
       "      <th>education-num</th>\n",
       "      <th>marital-status</th>\n",
       "      <th>occupation</th>\n",
       "      <th>relationship</th>\n",
       "      <th>race</th>\n",
       "      <th>sex</th>\n",
       "      <th>capital-gain</th>\n",
       "      <th>capital-loss</th>\n",
       "      <th>hours-per-week</th>\n",
       "      <th>Income level</th>\n",
       "      <th>country</th>\n",
       "    </tr>\n",
       "  </thead>\n",
       "  <tbody>\n",
       "    <tr>\n",
       "      <td>0</td>\n",
       "      <td>39</td>\n",
       "      <td>State-gov</td>\n",
       "      <td>77516</td>\n",
       "      <td>13</td>\n",
       "      <td>Never-married</td>\n",
       "      <td>Adm-clerical</td>\n",
       "      <td>Not-in-family</td>\n",
       "      <td>White</td>\n",
       "      <td>Male</td>\n",
       "      <td>2174</td>\n",
       "      <td>0</td>\n",
       "      <td>40</td>\n",
       "      <td>&lt;=50K</td>\n",
       "      <td>US</td>\n",
       "    </tr>\n",
       "    <tr>\n",
       "      <td>1</td>\n",
       "      <td>50</td>\n",
       "      <td>Self-emp-not-inc</td>\n",
       "      <td>83311</td>\n",
       "      <td>13</td>\n",
       "      <td>Married-civ-spouse</td>\n",
       "      <td>Exec-managerial</td>\n",
       "      <td>Husband</td>\n",
       "      <td>White</td>\n",
       "      <td>Male</td>\n",
       "      <td>0</td>\n",
       "      <td>0</td>\n",
       "      <td>13</td>\n",
       "      <td>&lt;=50K</td>\n",
       "      <td>US</td>\n",
       "    </tr>\n",
       "    <tr>\n",
       "      <td>2</td>\n",
       "      <td>38</td>\n",
       "      <td>Private</td>\n",
       "      <td>215646</td>\n",
       "      <td>9</td>\n",
       "      <td>Divorced</td>\n",
       "      <td>Handlers-cleaners</td>\n",
       "      <td>Not-in-family</td>\n",
       "      <td>White</td>\n",
       "      <td>Male</td>\n",
       "      <td>0</td>\n",
       "      <td>0</td>\n",
       "      <td>40</td>\n",
       "      <td>&lt;=50K</td>\n",
       "      <td>US</td>\n",
       "    </tr>\n",
       "    <tr>\n",
       "      <td>3</td>\n",
       "      <td>53</td>\n",
       "      <td>Private</td>\n",
       "      <td>234721</td>\n",
       "      <td>7</td>\n",
       "      <td>Married-civ-spouse</td>\n",
       "      <td>Handlers-cleaners</td>\n",
       "      <td>Husband</td>\n",
       "      <td>Black</td>\n",
       "      <td>Male</td>\n",
       "      <td>0</td>\n",
       "      <td>0</td>\n",
       "      <td>40</td>\n",
       "      <td>&lt;=50K</td>\n",
       "      <td>US</td>\n",
       "    </tr>\n",
       "    <tr>\n",
       "      <td>4</td>\n",
       "      <td>28</td>\n",
       "      <td>Private</td>\n",
       "      <td>338409</td>\n",
       "      <td>13</td>\n",
       "      <td>Married-civ-spouse</td>\n",
       "      <td>Prof-specialty</td>\n",
       "      <td>Wife</td>\n",
       "      <td>Black</td>\n",
       "      <td>Female</td>\n",
       "      <td>0</td>\n",
       "      <td>0</td>\n",
       "      <td>40</td>\n",
       "      <td>&lt;=50K</td>\n",
       "      <td>Non US</td>\n",
       "    </tr>\n",
       "  </tbody>\n",
       "</table>\n",
       "</div>"
      ],
      "text/plain": [
       "   age         workclass  fnlwgt  education-num      marital-status  \\\n",
       "0   39         State-gov   77516             13       Never-married   \n",
       "1   50  Self-emp-not-inc   83311             13  Married-civ-spouse   \n",
       "2   38           Private  215646              9            Divorced   \n",
       "3   53           Private  234721              7  Married-civ-spouse   \n",
       "4   28           Private  338409             13  Married-civ-spouse   \n",
       "\n",
       "          occupation   relationship   race     sex  capital-gain  \\\n",
       "0       Adm-clerical  Not-in-family  White    Male          2174   \n",
       "1    Exec-managerial        Husband  White    Male             0   \n",
       "2  Handlers-cleaners  Not-in-family  White    Male             0   \n",
       "3  Handlers-cleaners        Husband  Black    Male             0   \n",
       "4     Prof-specialty           Wife  Black  Female             0   \n",
       "\n",
       "   capital-loss  hours-per-week Income level country  \n",
       "0             0              40        <=50K      US  \n",
       "1             0              13        <=50K      US  \n",
       "2             0              40        <=50K      US  \n",
       "3             0              40        <=50K      US  \n",
       "4             0              40        <=50K  Non US  "
      ]
     },
     "execution_count": 3,
     "metadata": {},
     "output_type": "execute_result"
    }
   ],
   "source": [
    "# droping unrequired variables\n",
    "data_new = data.drop(['education','native-country'], axis = 1)\n",
    "data_new.head()"
   ]
  },
  {
   "cell_type": "code",
   "execution_count": 4,
   "metadata": {},
   "outputs": [
    {
     "data": {
      "text/html": [
       "<div>\n",
       "<style scoped>\n",
       "    .dataframe tbody tr th:only-of-type {\n",
       "        vertical-align: middle;\n",
       "    }\n",
       "\n",
       "    .dataframe tbody tr th {\n",
       "        vertical-align: top;\n",
       "    }\n",
       "\n",
       "    .dataframe thead th {\n",
       "        text-align: right;\n",
       "    }\n",
       "</style>\n",
       "<table border=\"1\" class=\"dataframe\">\n",
       "  <thead>\n",
       "    <tr style=\"text-align: right;\">\n",
       "      <th></th>\n",
       "      <th>age</th>\n",
       "      <th>fnlwgt</th>\n",
       "      <th>education-num</th>\n",
       "      <th>capital-gain</th>\n",
       "      <th>capital-loss</th>\n",
       "      <th>hours-per-week</th>\n",
       "      <th>workclass_Federal-gov</th>\n",
       "      <th>workclass_Local-gov</th>\n",
       "      <th>workclass_Never-worked</th>\n",
       "      <th>workclass_Private</th>\n",
       "      <th>...</th>\n",
       "      <th>relationship_Own-child</th>\n",
       "      <th>relationship_Unmarried</th>\n",
       "      <th>relationship_Wife</th>\n",
       "      <th>race_Asian-Pac-Islander</th>\n",
       "      <th>race_Black</th>\n",
       "      <th>race_Other</th>\n",
       "      <th>race_White</th>\n",
       "      <th>sex_Male</th>\n",
       "      <th>Income level_ &gt;50K</th>\n",
       "      <th>country_US</th>\n",
       "    </tr>\n",
       "  </thead>\n",
       "  <tbody>\n",
       "    <tr>\n",
       "      <td>0</td>\n",
       "      <td>39</td>\n",
       "      <td>77516</td>\n",
       "      <td>13</td>\n",
       "      <td>2174</td>\n",
       "      <td>0</td>\n",
       "      <td>40</td>\n",
       "      <td>0</td>\n",
       "      <td>0</td>\n",
       "      <td>0</td>\n",
       "      <td>0</td>\n",
       "      <td>...</td>\n",
       "      <td>0</td>\n",
       "      <td>0</td>\n",
       "      <td>0</td>\n",
       "      <td>0</td>\n",
       "      <td>0</td>\n",
       "      <td>0</td>\n",
       "      <td>1</td>\n",
       "      <td>1</td>\n",
       "      <td>0</td>\n",
       "      <td>1</td>\n",
       "    </tr>\n",
       "    <tr>\n",
       "      <td>1</td>\n",
       "      <td>50</td>\n",
       "      <td>83311</td>\n",
       "      <td>13</td>\n",
       "      <td>0</td>\n",
       "      <td>0</td>\n",
       "      <td>13</td>\n",
       "      <td>0</td>\n",
       "      <td>0</td>\n",
       "      <td>0</td>\n",
       "      <td>0</td>\n",
       "      <td>...</td>\n",
       "      <td>0</td>\n",
       "      <td>0</td>\n",
       "      <td>0</td>\n",
       "      <td>0</td>\n",
       "      <td>0</td>\n",
       "      <td>0</td>\n",
       "      <td>1</td>\n",
       "      <td>1</td>\n",
       "      <td>0</td>\n",
       "      <td>1</td>\n",
       "    </tr>\n",
       "    <tr>\n",
       "      <td>2</td>\n",
       "      <td>38</td>\n",
       "      <td>215646</td>\n",
       "      <td>9</td>\n",
       "      <td>0</td>\n",
       "      <td>0</td>\n",
       "      <td>40</td>\n",
       "      <td>0</td>\n",
       "      <td>0</td>\n",
       "      <td>0</td>\n",
       "      <td>1</td>\n",
       "      <td>...</td>\n",
       "      <td>0</td>\n",
       "      <td>0</td>\n",
       "      <td>0</td>\n",
       "      <td>0</td>\n",
       "      <td>0</td>\n",
       "      <td>0</td>\n",
       "      <td>1</td>\n",
       "      <td>1</td>\n",
       "      <td>0</td>\n",
       "      <td>1</td>\n",
       "    </tr>\n",
       "    <tr>\n",
       "      <td>3</td>\n",
       "      <td>53</td>\n",
       "      <td>234721</td>\n",
       "      <td>7</td>\n",
       "      <td>0</td>\n",
       "      <td>0</td>\n",
       "      <td>40</td>\n",
       "      <td>0</td>\n",
       "      <td>0</td>\n",
       "      <td>0</td>\n",
       "      <td>1</td>\n",
       "      <td>...</td>\n",
       "      <td>0</td>\n",
       "      <td>0</td>\n",
       "      <td>0</td>\n",
       "      <td>0</td>\n",
       "      <td>1</td>\n",
       "      <td>0</td>\n",
       "      <td>0</td>\n",
       "      <td>1</td>\n",
       "      <td>0</td>\n",
       "      <td>1</td>\n",
       "    </tr>\n",
       "    <tr>\n",
       "      <td>4</td>\n",
       "      <td>28</td>\n",
       "      <td>338409</td>\n",
       "      <td>13</td>\n",
       "      <td>0</td>\n",
       "      <td>0</td>\n",
       "      <td>40</td>\n",
       "      <td>0</td>\n",
       "      <td>0</td>\n",
       "      <td>0</td>\n",
       "      <td>1</td>\n",
       "      <td>...</td>\n",
       "      <td>0</td>\n",
       "      <td>0</td>\n",
       "      <td>1</td>\n",
       "      <td>0</td>\n",
       "      <td>1</td>\n",
       "      <td>0</td>\n",
       "      <td>0</td>\n",
       "      <td>0</td>\n",
       "      <td>0</td>\n",
       "      <td>0</td>\n",
       "    </tr>\n",
       "  </tbody>\n",
       "</table>\n",
       "<p>5 rows × 46 columns</p>\n",
       "</div>"
      ],
      "text/plain": [
       "   age  fnlwgt  education-num  capital-gain  capital-loss  hours-per-week  \\\n",
       "0   39   77516             13          2174             0              40   \n",
       "1   50   83311             13             0             0              13   \n",
       "2   38  215646              9             0             0              40   \n",
       "3   53  234721              7             0             0              40   \n",
       "4   28  338409             13             0             0              40   \n",
       "\n",
       "   workclass_Federal-gov  workclass_Local-gov  workclass_Never-worked  \\\n",
       "0                      0                    0                       0   \n",
       "1                      0                    0                       0   \n",
       "2                      0                    0                       0   \n",
       "3                      0                    0                       0   \n",
       "4                      0                    0                       0   \n",
       "\n",
       "   workclass_Private  ...  relationship_Own-child  relationship_Unmarried  \\\n",
       "0                  0  ...                       0                       0   \n",
       "1                  0  ...                       0                       0   \n",
       "2                  1  ...                       0                       0   \n",
       "3                  1  ...                       0                       0   \n",
       "4                  1  ...                       0                       0   \n",
       "\n",
       "   relationship_Wife  race_Asian-Pac-Islander  race_Black  race_Other  \\\n",
       "0                  0                        0           0           0   \n",
       "1                  0                        0           0           0   \n",
       "2                  0                        0           0           0   \n",
       "3                  0                        0           1           0   \n",
       "4                  1                        0           1           0   \n",
       "\n",
       "   race_White  sex_Male  Income level_ >50K  country_US  \n",
       "0           1         1                   0           1  \n",
       "1           1         1                   0           1  \n",
       "2           1         1                   0           1  \n",
       "3           0         1                   0           1  \n",
       "4           0         0                   0           0  \n",
       "\n",
       "[5 rows x 46 columns]"
      ]
     },
     "execution_count": 4,
     "metadata": {},
     "output_type": "execute_result"
    }
   ],
   "source": [
    "# one-hot coding categorical data\n",
    "data_new = pd.get_dummies(data_new, drop_first = True)\n",
    "data_new.head()"
   ]
  },
  {
   "cell_type": "code",
   "execution_count": 5,
   "metadata": {},
   "outputs": [
    {
     "name": "stdout",
     "output_type": "stream",
     "text": [
      "(32561, 45)\n"
     ]
    }
   ],
   "source": [
    "# creating X and y varible from data\n",
    "X = data_new.drop('Income level_ >50K', axis = 1)\n",
    "y = data.iloc[:,-2]\n",
    "print(X.shape)"
   ]
  },
  {
   "cell_type": "code",
   "execution_count": 22,
   "metadata": {},
   "outputs": [
    {
     "name": "stdout",
     "output_type": "stream",
     "text": [
      "[[ 0.03067056 -1.06361075  1.13473876  0.1484529  -0.21665953 -0.03542945\n",
      "  -0.17429511 -0.26209736 -0.01466381 -1.5167923  -0.18838933 -0.29093568\n",
      "   4.90769968 -0.02073999 -0.02658695 -0.92284068 -0.11403678  1.43105786\n",
      "  -0.1802846  -0.17735813  2.76348874 -0.01662771 -0.37949517 -0.37774555\n",
      "  -0.17745022 -0.20957797 -0.25595432 -0.33554133 -0.06780164 -0.38166338\n",
      "  -0.14260848 -0.35531609 -0.17127887 -0.22710355  1.70899099 -0.17624972\n",
      "  -0.42934582 -0.34403232 -0.22492681 -0.18155194 -0.32576824 -0.09161163\n",
      "   0.4130197   0.70307135  0.34095391]]\n"
     ]
    }
   ],
   "source": [
    "# scaling features\n",
    "from sklearn.preprocessing import StandardScaler\n",
    "X = StandardScaler().fit_transform(X)\n",
    "print(X[:1])"
   ]
  },
  {
   "cell_type": "code",
   "execution_count": 23,
   "metadata": {},
   "outputs": [
    {
     "data": {
      "text/html": [
       "<div>\n",
       "<style scoped>\n",
       "    .dataframe tbody tr th:only-of-type {\n",
       "        vertical-align: middle;\n",
       "    }\n",
       "\n",
       "    .dataframe tbody tr th {\n",
       "        vertical-align: top;\n",
       "    }\n",
       "\n",
       "    .dataframe thead th {\n",
       "        text-align: right;\n",
       "    }\n",
       "</style>\n",
       "<table border=\"1\" class=\"dataframe\">\n",
       "  <thead>\n",
       "    <tr style=\"text-align: right;\">\n",
       "      <th></th>\n",
       "      <th>age</th>\n",
       "      <th>fnlwgt</th>\n",
       "      <th>education-num</th>\n",
       "      <th>capital-gain</th>\n",
       "      <th>capital-loss</th>\n",
       "      <th>hours-per-week</th>\n",
       "      <th>workclass_Federal-gov</th>\n",
       "      <th>workclass_Local-gov</th>\n",
       "      <th>workclass_Never-worked</th>\n",
       "      <th>workclass_Private</th>\n",
       "      <th>...</th>\n",
       "      <th>relationship_Other-relative</th>\n",
       "      <th>relationship_Own-child</th>\n",
       "      <th>relationship_Unmarried</th>\n",
       "      <th>relationship_Wife</th>\n",
       "      <th>race_Asian-Pac-Islander</th>\n",
       "      <th>race_Black</th>\n",
       "      <th>race_Other</th>\n",
       "      <th>race_White</th>\n",
       "      <th>sex_Male</th>\n",
       "      <th>country_US</th>\n",
       "    </tr>\n",
       "  </thead>\n",
       "  <tbody>\n",
       "    <tr>\n",
       "      <td>0</td>\n",
       "      <td>0.030671</td>\n",
       "      <td>-1.063611</td>\n",
       "      <td>1.134739</td>\n",
       "      <td>0.148453</td>\n",
       "      <td>-0.21666</td>\n",
       "      <td>-0.035429</td>\n",
       "      <td>-0.174295</td>\n",
       "      <td>-0.262097</td>\n",
       "      <td>-0.014664</td>\n",
       "      <td>-1.516792</td>\n",
       "      <td>...</td>\n",
       "      <td>-0.17625</td>\n",
       "      <td>-0.429346</td>\n",
       "      <td>-0.344032</td>\n",
       "      <td>-0.224927</td>\n",
       "      <td>-0.181552</td>\n",
       "      <td>-0.325768</td>\n",
       "      <td>-0.091612</td>\n",
       "      <td>0.413020</td>\n",
       "      <td>0.703071</td>\n",
       "      <td>0.340954</td>\n",
       "    </tr>\n",
       "    <tr>\n",
       "      <td>1</td>\n",
       "      <td>0.837109</td>\n",
       "      <td>-1.008707</td>\n",
       "      <td>1.134739</td>\n",
       "      <td>-0.145920</td>\n",
       "      <td>-0.21666</td>\n",
       "      <td>-2.222153</td>\n",
       "      <td>-0.174295</td>\n",
       "      <td>-0.262097</td>\n",
       "      <td>-0.014664</td>\n",
       "      <td>-1.516792</td>\n",
       "      <td>...</td>\n",
       "      <td>-0.17625</td>\n",
       "      <td>-0.429346</td>\n",
       "      <td>-0.344032</td>\n",
       "      <td>-0.224927</td>\n",
       "      <td>-0.181552</td>\n",
       "      <td>-0.325768</td>\n",
       "      <td>-0.091612</td>\n",
       "      <td>0.413020</td>\n",
       "      <td>0.703071</td>\n",
       "      <td>0.340954</td>\n",
       "    </tr>\n",
       "    <tr>\n",
       "      <td>2</td>\n",
       "      <td>-0.042642</td>\n",
       "      <td>0.245079</td>\n",
       "      <td>-0.420060</td>\n",
       "      <td>-0.145920</td>\n",
       "      <td>-0.21666</td>\n",
       "      <td>-0.035429</td>\n",
       "      <td>-0.174295</td>\n",
       "      <td>-0.262097</td>\n",
       "      <td>-0.014664</td>\n",
       "      <td>0.659286</td>\n",
       "      <td>...</td>\n",
       "      <td>-0.17625</td>\n",
       "      <td>-0.429346</td>\n",
       "      <td>-0.344032</td>\n",
       "      <td>-0.224927</td>\n",
       "      <td>-0.181552</td>\n",
       "      <td>-0.325768</td>\n",
       "      <td>-0.091612</td>\n",
       "      <td>0.413020</td>\n",
       "      <td>0.703071</td>\n",
       "      <td>0.340954</td>\n",
       "    </tr>\n",
       "    <tr>\n",
       "      <td>3</td>\n",
       "      <td>1.057047</td>\n",
       "      <td>0.425801</td>\n",
       "      <td>-1.197459</td>\n",
       "      <td>-0.145920</td>\n",
       "      <td>-0.21666</td>\n",
       "      <td>-0.035429</td>\n",
       "      <td>-0.174295</td>\n",
       "      <td>-0.262097</td>\n",
       "      <td>-0.014664</td>\n",
       "      <td>0.659286</td>\n",
       "      <td>...</td>\n",
       "      <td>-0.17625</td>\n",
       "      <td>-0.429346</td>\n",
       "      <td>-0.344032</td>\n",
       "      <td>-0.224927</td>\n",
       "      <td>-0.181552</td>\n",
       "      <td>3.069667</td>\n",
       "      <td>-0.091612</td>\n",
       "      <td>-2.421192</td>\n",
       "      <td>0.703071</td>\n",
       "      <td>0.340954</td>\n",
       "    </tr>\n",
       "    <tr>\n",
       "      <td>4</td>\n",
       "      <td>-0.775768</td>\n",
       "      <td>1.408176</td>\n",
       "      <td>1.134739</td>\n",
       "      <td>-0.145920</td>\n",
       "      <td>-0.21666</td>\n",
       "      <td>-0.035429</td>\n",
       "      <td>-0.174295</td>\n",
       "      <td>-0.262097</td>\n",
       "      <td>-0.014664</td>\n",
       "      <td>0.659286</td>\n",
       "      <td>...</td>\n",
       "      <td>-0.17625</td>\n",
       "      <td>-0.429346</td>\n",
       "      <td>-0.344032</td>\n",
       "      <td>4.445891</td>\n",
       "      <td>-0.181552</td>\n",
       "      <td>3.069667</td>\n",
       "      <td>-0.091612</td>\n",
       "      <td>-2.421192</td>\n",
       "      <td>-1.422331</td>\n",
       "      <td>-2.932948</td>\n",
       "    </tr>\n",
       "  </tbody>\n",
       "</table>\n",
       "<p>5 rows × 45 columns</p>\n",
       "</div>"
      ],
      "text/plain": [
       "        age    fnlwgt  education-num  capital-gain  capital-loss  \\\n",
       "0  0.030671 -1.063611       1.134739      0.148453      -0.21666   \n",
       "1  0.837109 -1.008707       1.134739     -0.145920      -0.21666   \n",
       "2 -0.042642  0.245079      -0.420060     -0.145920      -0.21666   \n",
       "3  1.057047  0.425801      -1.197459     -0.145920      -0.21666   \n",
       "4 -0.775768  1.408176       1.134739     -0.145920      -0.21666   \n",
       "\n",
       "   hours-per-week  workclass_Federal-gov  workclass_Local-gov  \\\n",
       "0       -0.035429              -0.174295            -0.262097   \n",
       "1       -2.222153              -0.174295            -0.262097   \n",
       "2       -0.035429              -0.174295            -0.262097   \n",
       "3       -0.035429              -0.174295            -0.262097   \n",
       "4       -0.035429              -0.174295            -0.262097   \n",
       "\n",
       "   workclass_Never-worked  workclass_Private  ...  \\\n",
       "0               -0.014664          -1.516792  ...   \n",
       "1               -0.014664          -1.516792  ...   \n",
       "2               -0.014664           0.659286  ...   \n",
       "3               -0.014664           0.659286  ...   \n",
       "4               -0.014664           0.659286  ...   \n",
       "\n",
       "   relationship_Other-relative  relationship_Own-child  \\\n",
       "0                     -0.17625               -0.429346   \n",
       "1                     -0.17625               -0.429346   \n",
       "2                     -0.17625               -0.429346   \n",
       "3                     -0.17625               -0.429346   \n",
       "4                     -0.17625               -0.429346   \n",
       "\n",
       "   relationship_Unmarried  relationship_Wife  race_Asian-Pac-Islander  \\\n",
       "0               -0.344032          -0.224927                -0.181552   \n",
       "1               -0.344032          -0.224927                -0.181552   \n",
       "2               -0.344032          -0.224927                -0.181552   \n",
       "3               -0.344032          -0.224927                -0.181552   \n",
       "4               -0.344032           4.445891                -0.181552   \n",
       "\n",
       "   race_Black  race_Other  race_White  sex_Male  country_US  \n",
       "0   -0.325768   -0.091612    0.413020  0.703071    0.340954  \n",
       "1   -0.325768   -0.091612    0.413020  0.703071    0.340954  \n",
       "2   -0.325768   -0.091612    0.413020  0.703071    0.340954  \n",
       "3    3.069667   -0.091612   -2.421192  0.703071    0.340954  \n",
       "4    3.069667   -0.091612   -2.421192 -1.422331   -2.932948  \n",
       "\n",
       "[5 rows x 45 columns]"
      ]
     },
     "execution_count": 23,
     "metadata": {},
     "output_type": "execute_result"
    }
   ],
   "source": [
    "# adding columns to transformed X\n",
    "X = pd.DataFrame(X)\n",
    "X.columns = data_new.drop('Income level_ >50K', axis = 1).columns\n",
    "X.head()"
   ]
  },
  {
   "cell_type": "markdown",
   "metadata": {},
   "source": [
    "# Task 1: running clustering algorithm in above dataset"
   ]
  },
  {
   "cell_type": "code",
   "execution_count": 24,
   "metadata": {},
   "outputs": [
    {
     "name": "stdout",
     "output_type": "stream",
     "text": [
      "[1114785.4812798253, 108148.68119923287, -901008.392583642, -439400.0514441171, -3600407.964438081, -2940366.2745494745, -2369680.374183238, -3514265.896989672]\n"
     ]
    }
   ],
   "source": [
    "# clustering dataset using k-means\n",
    "import numpy as np\n",
    "from sklearn.mixture import GaussianMixture\n",
    "\n",
    "np.random.seed(42)\n",
    "\n",
    "clust = GaussianMixture()\n",
    "\n",
    "aic = []\n",
    "\n",
    "for k in range(2,10):\n",
    "    clust.set_params(n_components = k)\n",
    "    clust.fit(X)\n",
    "    aic.append(clust.aic(X))\n",
    "\n",
    "print(aic)"
   ]
  },
  {
   "cell_type": "code",
   "execution_count": 25,
   "metadata": {},
   "outputs": [
    {
     "data": {
      "image/png": "[encoded data removed]",
      "text/plain": [
       "<Figure size 432x288 with 1 Axes>"
      ]
     },
     "metadata": {
      "needs_background": "light"
     },
     "output_type": "display_data"
    }
   ],
   "source": [
    "# plotting elbow curve between number of clusters and rmse\n",
    "import matplotlib.pyplot as plt\n",
    "def plot_line(x,y,title,ylabel,xlabel):\n",
    "    plt.plot(x,y)\n",
    "    plt.title(title)\n",
    "    plt.ylabel(ylabel)\n",
    "    plt.xlabel(xlabel)\n",
    "    plt.show()\n",
    "    \n",
    "plot_line(range(2,10),aic,'Number of Clusters Vs AIC','AIC','Number of Clusters')"
   ]
  },
  {
   "cell_type": "markdown",
   "metadata": {},
   "source": [
    "# Feature Selection Algorithm: Decision Tree"
   ]
  },
  {
   "cell_type": "code",
   "execution_count": 26,
   "metadata": {},
   "outputs": [
    {
     "data": {
      "text/plain": [
       "DecisionTreeClassifier(class_weight=None, criterion='gini', max_depth=None,\n",
       "                       max_features=None, max_leaf_nodes=None,\n",
       "                       min_impurity_decrease=0.0, min_impurity_split=None,\n",
       "                       min_samples_leaf=1, min_samples_split=2,\n",
       "                       min_weight_fraction_leaf=0.0, presort=False,\n",
       "                       random_state=None, splitter='best')"
      ]
     },
     "execution_count": 26,
     "metadata": {},
     "output_type": "execute_result"
    }
   ],
   "source": [
    "# feature selection through decision tree\n",
    "from sklearn.tree import DecisionTreeClassifier\n",
    "\n",
    "dt_clf = DecisionTreeClassifier()\n",
    "dt_clf.fit(X,y)"
   ]
  },
  {
   "cell_type": "code",
   "execution_count": 27,
   "metadata": {},
   "outputs": [
    {
     "name": "stdout",
     "output_type": "stream",
     "text": [
      "                                    name     score\n",
      "15     marital-status_Married-civ-spouse  0.197771\n",
      "1                                 fnlwgt  0.191211\n",
      "2                          education-num  0.124119\n",
      "0                                    age  0.115023\n",
      "3                           capital-gain  0.105674\n",
      "5                         hours-per-week  0.070647\n",
      "4                           capital-loss  0.038724\n",
      "9                      workclass_Private  0.010566\n",
      "23            occupation_Exec-managerial  0.009474\n",
      "11            workclass_Self-emp-not-inc  0.009432\n",
      "31                      occupation_Sales  0.009008\n",
      "22               occupation_Craft-repair  0.008291\n",
      "43                              sex_Male  0.007481\n",
      "29             occupation_Prof-specialty  0.007332\n",
      "42                            race_White  0.006940\n",
      "44                            country_US  0.006699\n",
      "38                     relationship_Wife  0.006554\n",
      "26          occupation_Machine-op-inspct  0.006334\n",
      "7                    workclass_Local-gov  0.005836\n",
      "20               occupation_Adm-clerical  0.005271\n",
      "33           occupation_Transport-moving  0.005028\n",
      "12                   workclass_State-gov  0.004772\n",
      "32               occupation_Tech-support  0.004541\n",
      "40                            race_Black  0.004534\n",
      "10                workclass_Self-emp-inc  0.004307\n",
      "6                  workclass_Federal-gov  0.004080\n",
      "25          occupation_Handlers-cleaners  0.003970\n",
      "27              occupation_Other-service  0.003696\n",
      "39               race_Asian-Pac-Islander  0.003613\n",
      "30            occupation_Protective-serv  0.003417\n",
      "17          marital-status_Never-married  0.002696\n",
      "24            occupation_Farming-fishing  0.002377\n",
      "34            relationship_Not-in-family  0.002060\n",
      "37                relationship_Unmarried  0.001862\n",
      "35           relationship_Other-relative  0.001579\n",
      "36                relationship_Own-child  0.001116\n",
      "18              marital-status_Separated  0.001063\n",
      "19                marital-status_Widowed  0.000759\n",
      "41                            race_Other  0.000682\n",
      "16  marital-status_Married-spouse-absent  0.000635\n",
      "14      marital-status_Married-AF-spouse  0.000616\n",
      "13                 workclass_Without-pay  0.000126\n",
      "28            occupation_Priv-house-serv  0.000084\n",
      "21               occupation_Armed-Forces  0.000000\n",
      "8                 workclass_Never-worked  0.000000\n"
     ]
    }
   ],
   "source": [
    "import pandas as pd\n",
    "feature_imp = pd.DataFrame({'name':X.columns, 'score':dt_clf.feature_importances_})\n",
    "print(feature_imp.sort_values('score', ascending = False))"
   ]
  },
  {
   "cell_type": "code",
   "execution_count": 28,
   "metadata": {},
   "outputs": [
    {
     "data": {
      "text/plain": [
       "(32561, 5)"
      ]
     },
     "execution_count": 28,
     "metadata": {},
     "output_type": "execute_result"
    }
   ],
   "source": [
    "# selecting top features based on above table\n",
    "X_sub = X[['marital-status_Married-civ-spouse','fnlwgt','education-num','age','capital-gain']]\n",
    "X_sub.shape"
   ]
  },
  {
   "cell_type": "code",
   "execution_count": 29,
   "metadata": {},
   "outputs": [
    {
     "name": "stdout",
     "output_type": "stream",
     "text": [
      "[132229.5298634086, -231848.3147149642, -398797.77440903365, -237805.09648678877, -406435.57612657215, -406601.3997667171, -407070.8626747847, -413277.9159102402]\n"
     ]
    }
   ],
   "source": [
    "# making cluster with just above features\n",
    "def clustering(X):\n",
    "    dr_clust = GaussianMixture()\n",
    "    aic = []\n",
    "    for k in range(2,10):\n",
    "        dr_clust.set_params(n_components = k)\n",
    "        dr_clust.fit(X)\n",
    "        aic.append(dr_clust.aic(X))\n",
    "    return aic\n",
    "\n",
    "dr_rmse = clustering(X_sub)\n",
    "print(dr_rmse)"
   ]
  },
  {
   "cell_type": "code",
   "execution_count": 30,
   "metadata": {},
   "outputs": [
    {
     "data": {
      "image/png": "[encoded data removed]",
      "text/plain": [
       "<Figure size 432x288 with 1 Axes>"
      ]
     },
     "metadata": {
      "needs_background": "light"
     },
     "output_type": "display_data"
    }
   ],
   "source": [
    "plot_line(range(2,10), dr_rmse,'Number of Clusters Vs AIC','AIC','Number of Clusters')"
   ]
  },
  {
   "cell_type": "code",
   "execution_count": 31,
   "metadata": {},
   "outputs": [
    {
     "name": "stdout",
     "output_type": "stream",
     "text": [
      "   Clusters        Normal          DR_dt\n",
      "0         2  1.114785e+06  132229.529863\n",
      "1         3  1.081487e+05 -231848.314715\n",
      "2         4 -9.010084e+05 -398797.774409\n",
      "3         5 -4.394001e+05 -237805.096487\n",
      "4         6 -3.600408e+06 -406435.576127\n",
      "5         7 -2.940366e+06 -406601.399767\n",
      "6         8 -2.369680e+06 -407070.862675\n",
      "7         9 -3.514266e+06 -413277.915910\n"
     ]
    }
   ],
   "source": [
    "kmeans_comparision = pd.DataFrame({'Clusters':range(2,10),'Normal':aic,'DR_dt':dr_rmse})\n",
    "print(kmeans_comparision)"
   ]
  },
  {
   "cell_type": "code",
   "execution_count": 32,
   "metadata": {},
   "outputs": [],
   "source": [
    "# function for adding column to a dataframe\n",
    "def add_column(df,col_name, col):\n",
    "    df[col_name] = col"
   ]
  },
  {
   "cell_type": "markdown",
   "metadata": {},
   "source": [
    "# Dimensionality Reduction - PCA"
   ]
  },
  {
   "cell_type": "code",
   "execution_count": 33,
   "metadata": {},
   "outputs": [
    {
     "data": {
      "text/plain": [
       "PCA(copy=True, iterated_power='auto', n_components=None, random_state=None,\n",
       "    svd_solver='auto', tol=0.0, whiten=False)"
      ]
     },
     "execution_count": 33,
     "metadata": {},
     "output_type": "execute_result"
    }
   ],
   "source": [
    "# using PCA for dimensionality reduction\n",
    "from sklearn.decomposition import PCA\n",
    "\n",
    "pca = PCA()\n",
    "pca.fit(X)"
   ]
  },
  {
   "cell_type": "code",
   "execution_count": 34,
   "metadata": {},
   "outputs": [
    {
     "name": "stdout",
     "output_type": "stream",
     "text": [
      "[0.0721, 0.0485, 0.0451, 0.0391, 0.0351, 0.0338, 0.0314, 0.0295, 0.0275, 0.0264, 0.0259, 0.0251, 0.025, 0.0243, 0.0242, 0.0236, 0.0235, 0.0233, 0.0232, 0.0227, 0.0225, 0.0224, 0.0222, 0.0221, 0.0219, 0.0217, 0.0215, 0.0214, 0.0209, 0.0201, 0.0199, 0.0195, 0.0179, 0.0166, 0.0153, 0.0147, 0.0132, 0.0106, 0.0095, 0.0077, 0.0044, 0.0037, 0.0008, 0.0002, 0.0]\n"
     ]
    }
   ],
   "source": [
    "print([round(x,4) for x in pca.explained_variance_ratio_])"
   ]
  },
  {
   "cell_type": "code",
   "execution_count": 35,
   "metadata": {},
   "outputs": [
    {
     "data": {
      "text/plain": [
       "array([0.07207545, 0.04854505, 0.04506279, 0.03906957, 0.03508676,\n",
       "       0.03384713, 0.03138441, 0.02948945, 0.02747803, 0.02639769,\n",
       "       0.02585339, 0.02505067, 0.02500676, 0.02430624, 0.02418087,\n",
       "       0.0236415 , 0.02350862, 0.02324821, 0.02321749, 0.02268304,\n",
       "       0.02247795, 0.02235867, 0.02217107, 0.02214   , 0.0219025 ,\n",
       "       0.02170319, 0.02144357, 0.02136082])"
      ]
     },
     "execution_count": 35,
     "metadata": {},
     "output_type": "execute_result"
    }
   ],
   "source": [
    "# as can be seen from above ratio top 2 companents explain 90% variance in data\n",
    "pca = PCA(n_components = 28)\n",
    "X_pca_transformed = pca.fit_transform(X)\n",
    "pca.explained_variance_ratio_"
   ]
  },
  {
   "cell_type": "code",
   "execution_count": 36,
   "metadata": {},
   "outputs": [
    {
     "name": "stdout",
     "output_type": "stream",
     "text": [
      "[2169643.872688179, 1420814.3532004736, 1635830.2208835655, 851774.2847855528, -116920.15376540596, 647727.7920913582, 296108.34106821043, -512856.197747527]\n"
     ]
    }
   ],
   "source": [
    "# using transformed X_pca for clustering\n",
    "pca_rmse = clustering(X_pca_transformed)\n",
    "print(pca_rmse)"
   ]
  },
  {
   "cell_type": "code",
   "execution_count": 37,
   "metadata": {},
   "outputs": [
    {
     "data": {
      "image/png": "[encoded data removed]",
      "text/plain": [
       "<Figure size 432x288 with 1 Axes>"
      ]
     },
     "metadata": {
      "needs_background": "light"
     },
     "output_type": "display_data"
    }
   ],
   "source": [
    "plot_line(range(2,10), pca_rmse,'Number of Clusters Vs AIC','PCA AIC','Number of Clusters')"
   ]
  },
  {
   "cell_type": "code",
   "execution_count": 38,
   "metadata": {},
   "outputs": [
    {
     "name": "stdout",
     "output_type": "stream",
     "text": [
      "   Clusters        Normal          DR_dt       pca_AIC\n",
      "0         2  1.114785e+06  132229.529863  2.169644e+06\n",
      "1         3  1.081487e+05 -231848.314715  1.420814e+06\n",
      "2         4 -9.010084e+05 -398797.774409  1.635830e+06\n",
      "3         5 -4.394001e+05 -237805.096487  8.517743e+05\n",
      "4         6 -3.600408e+06 -406435.576127 -1.169202e+05\n",
      "5         7 -2.940366e+06 -406601.399767  6.477278e+05\n",
      "6         8 -2.369680e+06 -407070.862675  2.961083e+05\n",
      "7         9 -3.514266e+06 -413277.915910 -5.128562e+05\n"
     ]
    }
   ],
   "source": [
    "# adding pca_rmse in DF with other RMSEs\n",
    "add_column(kmeans_comparision,'pca_AIC', pca_rmse)\n",
    "print(kmeans_comparision)"
   ]
  },
  {
   "cell_type": "markdown",
   "metadata": {},
   "source": [
    "# Dimensionality Reduction : ICA"
   ]
  },
  {
   "cell_type": "code",
   "execution_count": 39,
   "metadata": {},
   "outputs": [],
   "source": [
    "# using ICA to find out important dimmensions from the dataset\n",
    "from sklearn.decomposition import FastICA\n",
    "\n",
    "ica = FastICA()\n",
    "kmeans = GaussianMixture()\n",
    "\n",
    "ica_n_comp = []\n",
    "ica_n_clust = []\n",
    "ica_aic = []\n",
    "\n",
    "for n in range(2,14):\n",
    "    ica.set_params(n_components = n)\n",
    "    X_ica = ica.fit_transform(X)\n",
    "    for k in range(2,10):\n",
    "        kmeans.set_params(n_components = k)\n",
    "        kmeans.fit(X_ica)\n",
    "        ica_n_comp.append(n)\n",
    "        ica_n_clust.append(k)\n",
    "        ica_aic.append(kmeans.aic(X_ica))"
   ]
  },
  {
   "cell_type": "code",
   "execution_count": 40,
   "metadata": {},
   "outputs": [
    {
     "name": "stdout",
     "output_type": "stream",
     "text": [
      "    n_components  n_clusters           AIC\n",
      "95            13           9 -3.629503e+06\n",
      "94            13           8 -3.599062e+06\n",
      "93            13           7 -3.553592e+06\n",
      "92            13           6 -3.540875e+06\n",
      "91            13           5 -3.486282e+06\n",
      "..           ...         ...           ...\n",
      "4              2           6 -5.088790e+05\n",
      "3              2           5 -5.084915e+05\n",
      "2              2           4 -5.071696e+05\n",
      "1              2           3 -5.064780e+05\n",
      "0              2           2 -4.998311e+05\n",
      "\n",
      "[96 rows x 3 columns]\n"
     ]
    }
   ],
   "source": [
    "ica_matrix = pd.DataFrame({'n_components':ica_n_comp, 'n_clusters':ica_n_clust, 'AIC':ica_aic})\n",
    "print(ica_matrix.sort_values('AIC'))"
   ]
  },
  {
   "cell_type": "code",
   "execution_count": 41,
   "metadata": {},
   "outputs": [
    {
     "name": "stdout",
     "output_type": "stream",
     "text": [
      "    n_components  n_clusters           AIC\n",
      "88            13           2 -3.317820e+06\n",
      "89            13           3 -3.413924e+06\n",
      "90            13           4 -3.425408e+06\n",
      "91            13           5 -3.486282e+06\n",
      "92            13           6 -3.540875e+06\n",
      "93            13           7 -3.553592e+06\n",
      "94            13           8 -3.599062e+06\n",
      "95            13           9 -3.629503e+06\n"
     ]
    }
   ],
   "source": [
    "print(ica_matrix[ica_matrix['n_components']==13])"
   ]
  },
  {
   "cell_type": "code",
   "execution_count": 42,
   "metadata": {
    "scrolled": false
   },
   "outputs": [
    {
     "data": {
      "image/png": "[encoded data removed]",
      "text/plain": [
       "<Figure size 432x288 with 1 Axes>"
      ]
     },
     "metadata": {
      "needs_background": "light"
     },
     "output_type": "display_data"
    }
   ],
   "source": [
    "plot_line(range(2,10), ica_matrix[ica_matrix['n_components']==13]['AIC'],'Number of Clusters Vs AIC','ICA AIC','Number of Clusters')"
   ]
  },
  {
   "cell_type": "code",
   "execution_count": 65,
   "metadata": {},
   "outputs": [
    {
     "data": {
      "text/html": [
       "<div>\n",
       "<style scoped>\n",
       "    .dataframe tbody tr th:only-of-type {\n",
       "        vertical-align: middle;\n",
       "    }\n",
       "\n",
       "    .dataframe tbody tr th {\n",
       "        vertical-align: top;\n",
       "    }\n",
       "\n",
       "    .dataframe thead th {\n",
       "        text-align: right;\n",
       "    }\n",
       "</style>\n",
       "<table border=\"1\" class=\"dataframe\">\n",
       "  <thead>\n",
       "    <tr style=\"text-align: right;\">\n",
       "      <th></th>\n",
       "      <th>Clusters</th>\n",
       "      <th>Normal</th>\n",
       "      <th>DR_dt</th>\n",
       "      <th>pca_AIC</th>\n",
       "    </tr>\n",
       "  </thead>\n",
       "  <tbody>\n",
       "    <tr>\n",
       "      <td>0</td>\n",
       "      <td>2</td>\n",
       "      <td>1.114785e+06</td>\n",
       "      <td>132229.529863</td>\n",
       "      <td>2.169644e+06</td>\n",
       "    </tr>\n",
       "    <tr>\n",
       "      <td>1</td>\n",
       "      <td>3</td>\n",
       "      <td>1.081487e+05</td>\n",
       "      <td>-231848.314715</td>\n",
       "      <td>1.420814e+06</td>\n",
       "    </tr>\n",
       "    <tr>\n",
       "      <td>2</td>\n",
       "      <td>4</td>\n",
       "      <td>-9.010084e+05</td>\n",
       "      <td>-398797.774409</td>\n",
       "      <td>1.635830e+06</td>\n",
       "    </tr>\n",
       "    <tr>\n",
       "      <td>3</td>\n",
       "      <td>5</td>\n",
       "      <td>-4.394001e+05</td>\n",
       "      <td>-237805.096487</td>\n",
       "      <td>8.517743e+05</td>\n",
       "    </tr>\n",
       "    <tr>\n",
       "      <td>4</td>\n",
       "      <td>6</td>\n",
       "      <td>-3.600408e+06</td>\n",
       "      <td>-406435.576127</td>\n",
       "      <td>-1.169202e+05</td>\n",
       "    </tr>\n",
       "    <tr>\n",
       "      <td>5</td>\n",
       "      <td>7</td>\n",
       "      <td>-2.940366e+06</td>\n",
       "      <td>-406601.399767</td>\n",
       "      <td>6.477278e+05</td>\n",
       "    </tr>\n",
       "    <tr>\n",
       "      <td>6</td>\n",
       "      <td>8</td>\n",
       "      <td>-2.369680e+06</td>\n",
       "      <td>-407070.862675</td>\n",
       "      <td>2.961083e+05</td>\n",
       "    </tr>\n",
       "    <tr>\n",
       "      <td>7</td>\n",
       "      <td>9</td>\n",
       "      <td>-3.514266e+06</td>\n",
       "      <td>-413277.915910</td>\n",
       "      <td>-5.128562e+05</td>\n",
       "    </tr>\n",
       "  </tbody>\n",
       "</table>\n",
       "</div>"
      ],
      "text/plain": [
       "   Clusters        Normal          DR_dt       pca_AIC\n",
       "0         2  1.114785e+06  132229.529863  2.169644e+06\n",
       "1         3  1.081487e+05 -231848.314715  1.420814e+06\n",
       "2         4 -9.010084e+05 -398797.774409  1.635830e+06\n",
       "3         5 -4.394001e+05 -237805.096487  8.517743e+05\n",
       "4         6 -3.600408e+06 -406435.576127 -1.169202e+05\n",
       "5         7 -2.940366e+06 -406601.399767  6.477278e+05\n",
       "6         8 -2.369680e+06 -407070.862675  2.961083e+05\n",
       "7         9 -3.514266e+06 -413277.915910 -5.128562e+05"
      ]
     },
     "execution_count": 65,
     "metadata": {},
     "output_type": "execute_result"
    }
   ],
   "source": [
    "kmeans_comparision.drop(['ica_AIC','grp_AIC'], axis = 1, inplace = True)\n",
    "kmeans_comparision"
   ]
  },
  {
   "cell_type": "code",
   "execution_count": 66,
   "metadata": {},
   "outputs": [
    {
     "name": "stdout",
     "output_type": "stream",
     "text": [
      "   Clusters        Normal          DR_dt       pca_AIC  ica_AIC\n",
      "0         2  1.114785e+06  132229.529863  2.169644e+06      NaN\n",
      "1         3  1.081487e+05 -231848.314715  1.420814e+06      NaN\n",
      "2         4 -9.010084e+05 -398797.774409  1.635830e+06      NaN\n",
      "3         5 -4.394001e+05 -237805.096487  8.517743e+05      NaN\n",
      "4         6 -3.600408e+06 -406435.576127 -1.169202e+05      NaN\n",
      "5         7 -2.940366e+06 -406601.399767  6.477278e+05      NaN\n",
      "6         8 -2.369680e+06 -407070.862675  2.961083e+05      NaN\n",
      "7         9 -3.514266e+06 -413277.915910 -5.128562e+05      NaN\n"
     ]
    }
   ],
   "source": [
    "# adding ica rmse in DF with other RMSEs\n",
    "add_column(kmeans_comparision,'ica_AIC', ica_matrix[ica_matrix['n_components'] == 13]['AIC'])\n",
    "print(kmeans_comparision)"
   ]
  },
  {
   "cell_type": "markdown",
   "metadata": {},
   "source": [
    "# Dimenssionality Reduction: Randomized Projection"
   ]
  },
  {
   "cell_type": "code",
   "execution_count": 49,
   "metadata": {},
   "outputs": [],
   "source": [
    "# using gaussian random projection to reduce dimmension of dataset and testing with k-means to find optinal n_components\n",
    "from sklearn.random_projection import GaussianRandomProjection\n",
    "\n",
    "transformer = GaussianRandomProjection()\n",
    "kmeans = GaussianMixture()\n",
    "\n",
    "n_comp = []\n",
    "n_clust = []\n",
    "grp_aic = []\n",
    "\n",
    "for n in range(2,14):\n",
    "    transformer.set_params(n_components = n)\n",
    "    X_grp = transformer.fit_transform(X)\n",
    "    for k in range(2,10):\n",
    "        kmeans.set_params(n_components = k)\n",
    "        kmeans.fit(X_grp)\n",
    "        n_comp.append(n)\n",
    "        n_clust.append(k)\n",
    "        grp_aic.append(kmeans.aic(X_grp))"
   ]
  },
  {
   "cell_type": "code",
   "execution_count": 50,
   "metadata": {},
   "outputs": [],
   "source": [
    "grp_matrix = pd.DataFrame({'n_components':n_comp, 'n_clusters':n_clust, 'AIC':grp_aic})"
   ]
  },
  {
   "cell_type": "code",
   "execution_count": 51,
   "metadata": {},
   "outputs": [
    {
     "name": "stdout",
     "output_type": "stream",
     "text": [
      "    n_components  n_clusters           AIC\n",
      "6              2           8  3.789922e+05\n",
      "7              2           9  3.791837e+05\n",
      "5              2           7  3.792754e+05\n",
      "4              2           6  3.800200e+05\n",
      "3              2           5  3.800256e+05\n",
      "..           ...         ...           ...\n",
      "90            13           4  1.438692e+06\n",
      "89            13           3  1.456869e+06\n",
      "81            12           3  1.458173e+06\n",
      "80            12           2  1.492605e+06\n",
      "88            13           2  1.521812e+06\n",
      "\n",
      "[96 rows x 3 columns]\n"
     ]
    }
   ],
   "source": [
    "print(grp_matrix.sort_values('AIC'))"
   ]
  },
  {
   "cell_type": "code",
   "execution_count": 52,
   "metadata": {},
   "outputs": [
    {
     "name": "stdout",
     "output_type": "stream",
     "text": [
      "   n_components  n_clusters            AIC\n",
      "0             2           2  383744.254193\n",
      "1             2           3  380734.017374\n",
      "2             2           4  380395.786661\n",
      "3             2           5  380025.569257\n",
      "4             2           6  380019.951209\n",
      "5             2           7  379275.414417\n",
      "6             2           8  378992.190011\n",
      "7             2           9  379183.689330\n"
     ]
    }
   ],
   "source": [
    "# from above matrix it can be seen rmse is minimum for n_components = 2\n",
    "print(grp_matrix[grp_matrix['n_components'] == 2])"
   ]
  },
  {
   "cell_type": "code",
   "execution_count": 53,
   "metadata": {},
   "outputs": [
    {
     "data": {
      "image/png": "[encoded data removed]",
      "text/plain": [
       "<Figure size 432x288 with 1 Axes>"
      ]
     },
     "metadata": {
      "needs_background": "light"
     },
     "output_type": "display_data"
    }
   ],
   "source": [
    "plot_line(range(2,10), grp_matrix[grp_matrix['n_components'] == 2]['AIC'],'Number of Clusters Vs AIC','GRP AIC','Number of Clusters')"
   ]
  },
  {
   "cell_type": "code",
   "execution_count": 67,
   "metadata": {},
   "outputs": [
    {
     "name": "stdout",
     "output_type": "stream",
     "text": [
      "   Clusters        Normal          DR_dt       pca_AIC  ica_AIC        grp_AIC\n",
      "0         2  1.114785e+06  132229.529863  2.169644e+06      NaN  383744.254193\n",
      "1         3  1.081487e+05 -231848.314715  1.420814e+06      NaN  380734.017374\n",
      "2         4 -9.010084e+05 -398797.774409  1.635830e+06      NaN  380395.786661\n",
      "3         5 -4.394001e+05 -237805.096487  8.517743e+05      NaN  380025.569257\n",
      "4         6 -3.600408e+06 -406435.576127 -1.169202e+05      NaN  380019.951209\n",
      "5         7 -2.940366e+06 -406601.399767  6.477278e+05      NaN  379275.414417\n",
      "6         8 -2.369680e+06 -407070.862675  2.961083e+05      NaN  378992.190011\n",
      "7         9 -3.514266e+06 -413277.915910 -5.128562e+05      NaN  379183.689330\n"
     ]
    }
   ],
   "source": [
    "# adding GRP rmse in DF with other RMSEs\n",
    "add_column(kmeans_comparision,'grp_AIC', grp_matrix[grp_matrix['n_components'] == 2]['AIC'])\n",
    "print(kmeans_comparision)"
   ]
  },
  {
   "cell_type": "markdown",
   "metadata": {},
   "source": [
    "# Task 4: Training Neural Network"
   ]
  },
  {
   "cell_type": "code",
   "execution_count": 55,
   "metadata": {},
   "outputs": [],
   "source": [
    "# creating a neural network running function\n",
    "from sklearn.neural_network import MLPClassifier\n",
    "\n",
    "def run_nn(X_train, X_test, y_train,y_test):\n",
    "    nn_clf = MLPClassifier()\n",
    "    nn_clf.fit(X_train,y_train)\n",
    "    training_accuracy = nn_clf.score(X_train,y_train)\n",
    "    test_accuracy = nn_clf.score(X_test,y_test)\n",
    "    return(training_accuracy,test_accuracy)\n",
    "    "
   ]
  },
  {
   "cell_type": "code",
   "execution_count": 68,
   "metadata": {},
   "outputs": [
    {
     "name": "stdout",
     "output_type": "stream",
     "text": [
      "(32561, 45) (22792, 45) (9769, 45)\n"
     ]
    }
   ],
   "source": [
    "# training and testing accuracy for normal data (w/o any dimensionality reduction)\n",
    "from sklearn.model_selection import train_test_split\n",
    "\n",
    "X_train, X_test, y_train,y_test = train_test_split(X,y,test_size = 0.3)\n",
    "\n",
    "print(X.shape, X_train.shape, X_test.shape)"
   ]
  },
  {
   "cell_type": "code",
   "execution_count": 69,
   "metadata": {},
   "outputs": [
    {
     "name": "stdout",
     "output_type": "stream",
     "text": [
      "(0.8913653913653914, 0.8443034087419388)\n"
     ]
    },
    {
     "name": "stderr",
     "output_type": "stream",
     "text": [
      "C:\\Users\\asus\\Anaconda3\\lib\\site-packages\\sklearn\\neural_network\\multilayer_perceptron.py:566: ConvergenceWarning: Stochastic Optimizer: Maximum iterations (200) reached and the optimization hasn't converged yet.\n",
      "  % self.max_iter, ConvergenceWarning)\n"
     ]
    }
   ],
   "source": [
    "print(run_nn(X_train, X_test, y_train,y_test))"
   ]
  },
  {
   "cell_type": "code",
   "execution_count": 70,
   "metadata": {},
   "outputs": [
    {
     "name": "stdout",
     "output_type": "stream",
     "text": [
      "(22792, 5) (9769, 5)\n"
     ]
    }
   ],
   "source": [
    "# training and testing data set for feature selected through decision tree \n",
    "X_train_dt = X_train[['marital-status_Married-civ-spouse','fnlwgt','education-num','age','capital-gain']]\n",
    "X_test_dt = X_test[['marital-status_Married-civ-spouse','fnlwgt','education-num','age','capital-gain']]\n",
    "print(X_train_dt.shape, X_test_dt.shape)"
   ]
  },
  {
   "cell_type": "code",
   "execution_count": 71,
   "metadata": {},
   "outputs": [
    {
     "name": "stdout",
     "output_type": "stream",
     "text": [
      "(22792, 28) (9769, 28)\n"
     ]
    }
   ],
   "source": [
    "# training and testing data for feature selected through PCA\n",
    "X_train_pca = pca.transform(X_train)\n",
    "X_test_pca = pca.transform(X_test)\n",
    "print(X_train_pca.shape, X_test_pca.shape)"
   ]
  },
  {
   "cell_type": "code",
   "execution_count": 72,
   "metadata": {},
   "outputs": [],
   "source": [
    "# training and testing data for feature transformed through ICA\n",
    "ica.set_params(n_components = 3)\n",
    "X_train_ica = ica.fit_transform(X_train)\n",
    "X_test_ica = ica.transform(X_test)"
   ]
  },
  {
   "cell_type": "code",
   "execution_count": 73,
   "metadata": {},
   "outputs": [],
   "source": [
    "# traing and testing data for feature transformed through GRP\n",
    "transformer.set_params(n_components = 3)\n",
    "X_train_grp = transformer.fit_transform(X_train)\n",
    "X_testr_grp = transformer.transform(X_test)"
   ]
  },
  {
   "cell_type": "code",
   "execution_count": 74,
   "metadata": {},
   "outputs": [
    {
     "name": "stderr",
     "output_type": "stream",
     "text": [
      "C:\\Users\\asus\\Anaconda3\\lib\\site-packages\\sklearn\\neural_network\\multilayer_perceptron.py:566: ConvergenceWarning: Stochastic Optimizer: Maximum iterations (200) reached and the optimization hasn't converged yet.\n",
      "  % self.max_iter, ConvergenceWarning)\n",
      "C:\\Users\\asus\\Anaconda3\\lib\\site-packages\\sklearn\\neural_network\\multilayer_perceptron.py:566: ConvergenceWarning: Stochastic Optimizer: Maximum iterations (200) reached and the optimization hasn't converged yet.\n",
      "  % self.max_iter, ConvergenceWarning)\n"
     ]
    }
   ],
   "source": [
    "# running above different training and testing dataset through NN\n",
    "X_train_lst = [X_train,X_train_dt, X_train_pca, X_train_ica, X_train_grp]\n",
    "X_test_lst = [X_test, X_test_dt, X_test_pca, X_test_ica, X_testr_grp]\n",
    "\n",
    "train_accu = []\n",
    "test_accu = []\n",
    "\n",
    "for i in range(5):\n",
    "    nn_accu = run_nn(X_train_lst[i],X_test_lst[i],y_train,y_test)\n",
    "    train_accu.append(nn_accu[0])\n",
    "    test_accu.append(nn_accu[1])"
   ]
  },
  {
   "cell_type": "code",
   "execution_count": 75,
   "metadata": {},
   "outputs": [
    {
     "name": "stdout",
     "output_type": "stream",
     "text": [
      "                                Method  Train Accuracy  Test Accuracy\n",
      "0                    No Transformation        0.888821       0.844508\n",
      "1     Fearure Selection: Decision Tree        0.847271       0.843177\n",
      "2                                  PCA        0.877194       0.847170\n",
      "3                                  ICA        0.789005       0.787593\n",
      "4  RP - Gaussian Randmized Projections        0.765312       0.762616\n"
     ]
    }
   ],
   "source": [
    "# result comparision for transformed data\n",
    "methodology = ['No Transformation','Fearure Selection: Decision Tree', 'PCA','ICA','RP - Gaussian Randmized Projections']\n",
    "\n",
    "nn_results_comparision = pd.DataFrame({'Method': methodology,'Train Accuracy':train_accu, 'Test Accuracy':test_accu})\n",
    "print(nn_results_comparision)"
   ]
  },
  {
   "cell_type": "markdown",
   "metadata": {},
   "source": [
    "# Task 5: applying neural network on clustering outcome"
   ]
  },
  {
   "cell_type": "code",
   "execution_count": 76,
   "metadata": {},
   "outputs": [
    {
     "name": "stdout",
     "output_type": "stream",
     "text": [
      "[0 3 3 3 3]\n"
     ]
    }
   ],
   "source": [
    "clust.set_params(n_components = 4)\n",
    "y_predict = clust.fit_predict(X)\n",
    "print(y_predict[:5])"
   ]
  },
  {
   "cell_type": "code",
   "execution_count": 77,
   "metadata": {},
   "outputs": [
    {
     "name": "stdout",
     "output_type": "stream",
     "text": [
      "(0.7586433836433837, 0.7604667826799059)\n"
     ]
    }
   ],
   "source": [
    "#running NN on clustering output\n",
    "\n",
    "X_train, X_test, y_train,y_test = train_test_split(y_predict,y,test_size = 0.3)\n",
    "\n",
    "print(run_nn(X_train.reshape(-1,1),X_test.reshape(-1,1),y_train,y_test))"
   ]
  },
  {
   "cell_type": "code",
   "execution_count": null,
   "metadata": {},
   "outputs": [],
   "source": []
  },
  {
   "cell_type": "code",
   "execution_count": null,
   "metadata": {},
   "outputs": [],
   "source": []
  },
  {
   "cell_type": "code",
   "execution_count": null,
   "metadata": {},
   "outputs": [],
   "source": []
  },
  {
   "cell_type": "code",
   "execution_count": null,
   "metadata": {},
   "outputs": [],
   "source": []
  }
 ],
 "metadata": {
  "kernelspec": {
   "display_name": "Python 3",
   "language": "python",
   "name": "python3"
  },
  "language_info": {
   "codemirror_mode": {
    "name": "ipython",
    "version": 3
   },
   "file_extension": ".py",
   "mimetype": "text/x-python",
   "name": "python",
   "nbconvert_exporter": "python",
   "pygments_lexer": "ipython3",
   "version": "3.7.4"
  }
 },
 "nbformat": 4,
 "nbformat_minor": 2
}
