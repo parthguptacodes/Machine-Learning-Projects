{
 "cells": [
  {
   "cell_type": "code",
   "execution_count": 1,
   "metadata": {},
   "outputs": [
    {
     "name": "stdout",
     "output_type": "stream",
     "text": [
      "   MWG  NWG  KWG  MDIMC  NDIMC  MDIMA  NDIMB  KWI  VWM  VWN  STRM  STRN  SA  \\\n",
      "0   16   16   16      8      8      8      8    2    1    1     0     0   0   \n",
      "1   16   16   16      8      8      8      8    2    1    1     0     0   0   \n",
      "2   16   16   16      8      8      8      8    2    1    1     0     0   1   \n",
      "3   16   16   16      8      8      8      8    2    1    1     0     0   1   \n",
      "4   16   16   16      8      8      8      8    2    1    1     0     1   0   \n",
      "\n",
      "   SB  Run1 (ms)  Run2 (ms)  Run3 (ms)  Run4 (ms)  \n",
      "0   0     115.26     115.87     118.55     115.80  \n",
      "1   1      78.13      78.25      79.25      79.19  \n",
      "2   0      79.84      80.69      80.76      80.97  \n",
      "3   1      84.32      89.90      86.75      85.58  \n",
      "4   0     115.13     121.98     122.73     114.81  \n"
     ]
    }
   ],
   "source": [
    "# importing data\n",
    "import pandas as pd\n",
    "import numpy as np\n",
    "np.random_state = 42\n",
    "data = pd.read_csv('D:/MSBA/10 Applied Machine Learning/assignment/1/sgemm_product_dataset/sgemm_product.csv')\n",
    "print(data.head())"
   ]
  },
  {
   "cell_type": "code",
   "execution_count": 2,
   "metadata": {},
   "outputs": [
    {
     "name": "stdout",
     "output_type": "stream",
     "text": [
      "   Run1 (ms)  Run2 (ms)  Run3 (ms)  Run4 (ms)  av_run\n",
      "0     115.26     115.87     118.55     115.80  116.37\n",
      "1      78.13      78.25      79.25      79.19   78.70\n",
      "2      79.84      80.69      80.76      80.97   80.56\n",
      "3      84.32      89.90      86.75      85.58   86.64\n",
      "4     115.13     121.98     122.73     114.81  118.66\n"
     ]
    }
   ],
   "source": [
    "# creating target variable (average of 4 runtime)\n",
    "data['av_run'] = data[['Run1 (ms)','Run2 (ms)','Run3 (ms)','Run4 (ms)']].mean(axis = 1).round(2)\n",
    "print(data[['Run1 (ms)', 'Run2 (ms)','Run3 (ms)', 'Run4 (ms)','av_run']].head())"
   ]
  },
  {
   "cell_type": "code",
   "execution_count": 3,
   "metadata": {},
   "outputs": [
    {
     "data": {
      "text/plain": [
       "Index(['MWG', 'NWG', 'KWG', 'MDIMC', 'NDIMC', 'MDIMA', 'NDIMB', 'KWI', 'VWM',\n",
       "       'VWN', 'STRM', 'STRN', 'SA', 'SB', 'av_run'],\n",
       "      dtype='object')"
      ]
     },
     "execution_count": 3,
     "metadata": {},
     "output_type": "execute_result"
    }
   ],
   "source": [
    "# dropping 4 obselete run columns\n",
    "data.drop(columns=['Run1 (ms)', 'Run2 (ms)','Run3 (ms)', 'Run4 (ms)'], inplace = True)\n",
    "data.columns"
   ]
  },
  {
   "cell_type": "code",
   "execution_count": 4,
   "metadata": {},
   "outputs": [
    {
     "name": "stdout",
     "output_type": "stream",
     "text": [
      "   av_run  av_run_binary\n",
      "0  116.37              1\n",
      "1   78.70              1\n",
      "2   80.56              1\n",
      "3   86.64              1\n",
      "4  118.66              1\n"
     ]
    }
   ],
   "source": [
    "# converting av_run into binary variable\n",
    "import numpy as np\n",
    "y_median = np.median(data['av_run'])\n",
    "data['av_run_binary'] = [1 if i > y_median else 0 for i in data['av_run']]\n",
    "print(data[['av_run','av_run_binary']].head())"
   ]
  },
  {
   "cell_type": "code",
   "execution_count": 5,
   "metadata": {},
   "outputs": [
    {
     "name": "stdout",
     "output_type": "stream",
     "text": [
      "(241600, 14)\n"
     ]
    }
   ],
   "source": [
    "# creating X and y varible from data\n",
    "X = data.iloc[:,:-2]\n",
    "y = data.iloc[:,-1]\n",
    "print(X.shape)"
   ]
  },
  {
   "cell_type": "markdown",
   "metadata": {},
   "source": [
    "# Task 1: running clustering algorithm in above dataset"
   ]
  },
  {
   "cell_type": "code",
   "execution_count": 7,
   "metadata": {},
   "outputs": [
    {
     "name": "stdout",
     "output_type": "stream",
     "text": [
      "[24034.898763696736, 18744.748084553696, 13860.570019569743, 12813.14229981267, 12022.04282514207, 11175.07994530023, 10570.238049239617, 9845.99437049469]\n"
     ]
    }
   ],
   "source": [
    "# clustering dataset using k-means\n",
    "import numpy as np\n",
    "from sklearn.cluster import KMeans\n",
    "\n",
    "np.random.seed(42)\n",
    "\n",
    "clust = KMeans()\n",
    "\n",
    "rmse = []\n",
    "\n",
    "for k in range(2,10):\n",
    "    clust.set_params(n_clusters = k)\n",
    "    clust.fit(X)\n",
    "    rmse.append(np.sqrt(clust.inertia_))\n",
    "\n",
    "print(rmse)"
   ]
  },
  {
   "cell_type": "code",
   "execution_count": 21,
   "metadata": {},
   "outputs": [
    {
     "data": {
      "image/png": "[encoded data removed]",
      "text/plain": [
       "<Figure size 432x288 with 1 Axes>"
      ]
     },
     "metadata": {
      "needs_background": "light"
     },
     "output_type": "display_data"
    }
   ],
   "source": [
    "# plotting elbow curve between number of clusters and rmse\n",
    "import matplotlib.pyplot as plt\n",
    "def plot_line(x,y,title,ylabel,xlabel):\n",
    "    plt.plot(x,y)\n",
    "    plt.title(title)\n",
    "    plt.ylabel(ylabel)\n",
    "    plt.xlabel(xlabel)\n",
    "    plt.show()\n",
    "    \n",
    "plot_line(range(2,10),rmse,'Number of Clusters Vs RMSE','RMSE','Number of Clusters')"
   ]
  },
  {
   "cell_type": "markdown",
   "metadata": {},
   "source": [
    "# Feature Selection Algorithm: Decision Tree"
   ]
  },
  {
   "cell_type": "code",
   "execution_count": 61,
   "metadata": {},
   "outputs": [
    {
     "data": {
      "text/plain": [
       "DecisionTreeClassifier(class_weight=None, criterion='gini', max_depth=None,\n",
       "                       max_features=None, max_leaf_nodes=None,\n",
       "                       min_impurity_decrease=0.0, min_impurity_split=None,\n",
       "                       min_samples_leaf=1, min_samples_split=2,\n",
       "                       min_weight_fraction_leaf=0.0, presort=False,\n",
       "                       random_state=None, splitter='best')"
      ]
     },
     "execution_count": 61,
     "metadata": {},
     "output_type": "execute_result"
    }
   ],
   "source": [
    "# feature selection through decision tree\n",
    "from sklearn.tree import DecisionTreeClassifier\n",
    "\n",
    "dt_clf = DecisionTreeClassifier()\n",
    "dt_clf.fit(X,y)"
   ]
  },
  {
   "cell_type": "code",
   "execution_count": 62,
   "metadata": {},
   "outputs": [
    {
     "name": "stdout",
     "output_type": "stream",
     "text": [
      "     name     score\n",
      "0     MWG  0.270352\n",
      "1     NWG  0.170793\n",
      "4   NDIMC  0.151463\n",
      "3   MDIMC  0.151380\n",
      "12     SA  0.053769\n",
      "10   STRM  0.043231\n",
      "8     VWM  0.037922\n",
      "13     SB  0.030403\n",
      "9     VWN  0.026270\n",
      "2     KWG  0.022784\n",
      "6   NDIMB  0.011721\n",
      "5   MDIMA  0.011331\n",
      "11   STRN  0.009589\n",
      "7     KWI  0.008992\n"
     ]
    }
   ],
   "source": [
    "import pandas as pd\n",
    "feature_imp = pd.DataFrame({'name':X.columns, 'score':dt_clf.feature_importances_})\n",
    "print(feature_imp.sort_values('score', ascending = False))"
   ]
  },
  {
   "cell_type": "code",
   "execution_count": 63,
   "metadata": {},
   "outputs": [
    {
     "data": {
      "text/plain": [
       "(241600, 4)"
      ]
     },
     "execution_count": 63,
     "metadata": {},
     "output_type": "execute_result"
    }
   ],
   "source": [
    "# selecting top features based on above table\n",
    "X_sub = X[['MWG','NWG','MDIMC','NDIMC']]\n",
    "X_sub.shape"
   ]
  },
  {
   "cell_type": "code",
   "execution_count": 79,
   "metadata": {},
   "outputs": [
    {
     "name": "stdout",
     "output_type": "stream",
     "text": [
      "[22722.216729580105, 17035.705855585104, 11451.203154205981, 10166.473825843692, 9155.958524215484, 8019.09988357444, 7008.648650043647, 6044.264096950688]\n"
     ]
    }
   ],
   "source": [
    "# making cluster with just above features\n",
    "def clustering(X):\n",
    "    dr_clust = KMeans()\n",
    "    rmse = []\n",
    "    for k in range(2,10):\n",
    "        dr_clust.set_params(n_clusters = k)\n",
    "        dr_clust.fit(X)\n",
    "        rmse.append(np.sqrt(dr_clust.inertia_))\n",
    "    return rmse\n",
    "\n",
    "dr_rmse = clustering(X_sub)\n",
    "print(dr_rmse)"
   ]
  },
  {
   "cell_type": "code",
   "execution_count": 94,
   "metadata": {},
   "outputs": [
    {
     "data": {
      "image/png": "[encoded data removed]",
      "text/plain": [
       "<Figure size 432x288 with 1 Axes>"
      ]
     },
     "metadata": {
      "needs_background": "light"
     },
     "output_type": "display_data"
    }
   ],
   "source": [
    "plot_line(range(2,10), dr_rmse,'Number of Clusters Vs RMSE','RMSE','Number of Clusters')"
   ]
  },
  {
   "cell_type": "code",
   "execution_count": 66,
   "metadata": {},
   "outputs": [
    {
     "name": "stdout",
     "output_type": "stream",
     "text": [
      "   Clusters        Normal         DR_dt\n",
      "0         2  24034.898764  22722.216730\n",
      "1         3  18744.748085  17035.705856\n",
      "2         4  13860.570020  11451.203154\n",
      "3         5  12813.142300  10166.473826\n",
      "4         6  12022.042825   9155.958524\n",
      "5         7  11175.079945   8019.099884\n",
      "6         8  10570.238049   7008.648650\n",
      "7         9   9845.994370   6044.264097\n"
     ]
    }
   ],
   "source": [
    "kmeans_comparision = pd.DataFrame({'Clusters':range(2,10),'Normal':rmse,'DR_dt':dr_rmse})\n",
    "print(kmeans_comparision)"
   ]
  },
  {
   "cell_type": "code",
   "execution_count": 67,
   "metadata": {},
   "outputs": [],
   "source": [
    "# function for adding column to a dataframe\n",
    "def add_column(df,col_name, col):\n",
    "    df[col_name] = col"
   ]
  },
  {
   "cell_type": "markdown",
   "metadata": {},
   "source": [
    "# Dimensionality Reduction - PCA"
   ]
  },
  {
   "cell_type": "code",
   "execution_count": 72,
   "metadata": {},
   "outputs": [
    {
     "data": {
      "text/plain": [
       "PCA(copy=True, iterated_power='auto', n_components=None, random_state=None,\n",
       "    svd_solver='auto', tol=0.0, whiten=False)"
      ]
     },
     "execution_count": 72,
     "metadata": {},
     "output_type": "execute_result"
    }
   ],
   "source": [
    "# using PCA for dimensionality reduction\n",
    "from sklearn.decomposition import PCA\n",
    "\n",
    "pca = PCA()\n",
    "pca.fit(X)"
   ]
  },
  {
   "cell_type": "code",
   "execution_count": 73,
   "metadata": {},
   "outputs": [
    {
     "data": {
      "text/plain": [
       "array([4.53639997e-01, 4.52928645e-01, 2.52855826e-02, 2.10774165e-02,\n",
       "       1.72858772e-02, 1.71234688e-02, 8.64408260e-03, 2.25738761e-03,\n",
       "       7.53872687e-04, 7.52849140e-04, 6.27052115e-05, 6.27052115e-05,\n",
       "       6.27052115e-05, 6.27052115e-05])"
      ]
     },
     "execution_count": 73,
     "metadata": {},
     "output_type": "execute_result"
    }
   ],
   "source": [
    "pca.explained_variance_ratio_"
   ]
  },
  {
   "cell_type": "code",
   "execution_count": 74,
   "metadata": {},
   "outputs": [
    {
     "data": {
      "text/plain": [
       "array([0.45364   , 0.45292865])"
      ]
     },
     "execution_count": 74,
     "metadata": {},
     "output_type": "execute_result"
    }
   ],
   "source": [
    "# as can be seen from above ratio top 2 companents explain 90% variance in data\n",
    "pca = PCA(n_components = 2)\n",
    "X_pca_transformed = pca.fit_transform(X)\n",
    "pca.explained_variance_ratio_"
   ]
  },
  {
   "cell_type": "code",
   "execution_count": 84,
   "metadata": {},
   "outputs": [
    {
     "name": "stdout",
     "output_type": "stream",
     "text": [
      "[22084.430102577528, 16169.017212474619, 10109.574041479926, 8620.563684669987, 7396.2202612989895, 5924.021443736378, 4453.9153987034115, 2684.161182990094]\n"
     ]
    }
   ],
   "source": [
    "# using transformed X_pca for clustering\n",
    "pca_rmse = clustering(X_pca_transformed)\n",
    "print(pca_rmse)"
   ]
  },
  {
   "cell_type": "code",
   "execution_count": 95,
   "metadata": {},
   "outputs": [
    {
     "data": {
      "image/png": "[encoded data removed]",
      "text/plain": [
       "<Figure size 432x288 with 1 Axes>"
      ]
     },
     "metadata": {
      "needs_background": "light"
     },
     "output_type": "display_data"
    }
   ],
   "source": [
    "plot_line(range(2,10), pca_rmse,'Number of Clusters Vs RMSE','PCA RMSE','Number of Clusters')"
   ]
  },
  {
   "cell_type": "code",
   "execution_count": 83,
   "metadata": {},
   "outputs": [
    {
     "name": "stdout",
     "output_type": "stream",
     "text": [
      "   Clusters        Normal         DR_dt      pca_rmse\n",
      "0         2  24034.898764  22722.216730  22084.430103\n",
      "1         3  18744.748085  17035.705856  16169.017212\n",
      "2         4  13860.570020  11451.203154  10109.574041\n",
      "3         5  12813.142300  10166.473826   8620.563685\n",
      "4         6  12022.042825   9155.958524   7396.220261\n",
      "5         7  11175.079945   8019.099884   5924.021444\n",
      "6         8  10570.238049   7008.648650   4453.915399\n",
      "7         9   9845.994370   6044.264097   2684.161183\n"
     ]
    }
   ],
   "source": [
    "# adding pca_rmse in DF with other RMSEs\n",
    "add_column(kmeans_comparision,'pca_rmse', pca_rmse)\n",
    "print(kmeans_comparision)"
   ]
  },
  {
   "cell_type": "markdown",
   "metadata": {},
   "source": [
    "# Dimensionality Reduction : ICA"
   ]
  },
  {
   "cell_type": "code",
   "execution_count": 8,
   "metadata": {},
   "outputs": [],
   "source": [
    "# using ICA to find out important dimmensions from the dataset\n",
    "from sklearn.decomposition import FastICA\n",
    "\n",
    "ica = FastICA()\n",
    "kmeans = KMeans()\n",
    "\n",
    "ica_n_comp = []\n",
    "ica_n_clust = []\n",
    "ica_rmse = []\n",
    "\n",
    "for n in range(2,14):\n",
    "    ica.set_params(n_components = n)\n",
    "    X_ica = ica.fit_transform(X)\n",
    "    for k in range(2,10):\n",
    "        kmeans.set_params(n_clusters = k)\n",
    "        kmeans.fit(X_ica)\n",
    "        ica_n_comp.append(n)\n",
    "        ica_n_clust.append(k)\n",
    "        ica_rmse.append(kmeans.inertia_)"
   ]
  },
  {
   "cell_type": "code",
   "execution_count": 9,
   "metadata": {},
   "outputs": [
    {
     "name": "stdout",
     "output_type": "stream",
     "text": [
      "    n_components  n_clusters       RMSE\n",
      "7              2           9   0.016501\n",
      "6              2           8   0.045427\n",
      "5              2           7   0.080376\n",
      "4              2           6   0.125290\n",
      "3              2           5   0.170203\n",
      "..           ...         ...        ...\n",
      "81            12           3  10.317061\n",
      "90            13           4  10.678184\n",
      "80            12           2  11.000000\n",
      "89            13           3  11.317061\n",
      "88            13           2  12.000000\n",
      "\n",
      "[96 rows x 3 columns]\n"
     ]
    }
   ],
   "source": [
    "ica_matrix = pd.DataFrame({'n_components':ica_n_comp, 'n_clusters':ica_n_clust, 'RMSE':ica_rmse})\n",
    "print(ica_matrix.sort_values('RMSE'))"
   ]
  },
  {
   "cell_type": "code",
   "execution_count": 11,
   "metadata": {},
   "outputs": [
    {
     "name": "stdout",
     "output_type": "stream",
     "text": [
      "    n_components  n_clusters       RMSE\n",
      "2              2           4   0.234078\n",
      "10             3           4   1.232131\n",
      "18             4           4   2.180420\n",
      "26             5           4   3.073848\n",
      "34             6           4   4.068928\n",
      "42             7           4   4.804194\n",
      "50             8           4   5.678296\n",
      "58             9           4   6.793692\n",
      "66            10           4   7.783388\n",
      "74            11           4   8.791260\n",
      "82            12           4   9.712817\n",
      "90            13           4  10.678184\n"
     ]
    }
   ],
   "source": [
    "print(ica_matrix[ica_matrix['n_clusters']==4])"
   ]
  },
  {
   "cell_type": "code",
   "execution_count": 139,
   "metadata": {
    "scrolled": true
   },
   "outputs": [
    {
     "data": {
      "image/png": "[encoded data removed]",
      "text/plain": [
       "<Figure size 432x288 with 1 Axes>"
      ]
     },
     "metadata": {
      "needs_background": "light"
     },
     "output_type": "display_data"
    }
   ],
   "source": [
    "plot_line(range(2,10), ica_matrix[ica_matrix['n_components']==2]['RMSE'],'Number of Clusters Vs RMSE','ICA RMSE','Number of Clusters')"
   ]
  },
  {
   "cell_type": "code",
   "execution_count": 25,
   "metadata": {},
   "outputs": [
    {
     "name": "stdout",
     "output_type": "stream",
     "text": [
      "[1.117039269011213, 0.5987744840802407, 0.2340784613180868, 0.17020298291919755, 0.12528971888812496, 0.08037645485705242, 0.04542748386121196, 0.016501046413178337]\n"
     ]
    }
   ],
   "source": [
    "ica.set_params(n_components = 2)\n",
    "X_ica = ica.fit_transform(X)\n",
    "\n",
    "ica_rmse = []\n",
    "for k in range(2,10):\n",
    "        kmeans.set_params(n_clusters = k)\n",
    "        kmeans.fit(X_ica)\n",
    "        ica_rmse.append(kmeans.inertia_)\n",
    "\n",
    "print(ica_rmse)"
   ]
  },
  {
   "cell_type": "code",
   "execution_count": 146,
   "metadata": {},
   "outputs": [
    {
     "name": "stdout",
     "output_type": "stream",
     "text": [
      "   Clusters        Normal         DR_dt      pca_rmse  ica_rmse\n",
      "0         2  24034.898764  22722.216730  22084.430103  1.117039\n",
      "1         3  18744.748085  17035.705856  16169.017212  0.598774\n",
      "2         4  13860.570020  11451.203154  10109.574041  0.234078\n",
      "3         5  12813.142300  10166.473826   8620.563685  0.170203\n",
      "4         6  12022.042825   9155.958524   7396.220261  0.125290\n",
      "5         7  11175.079945   8019.099884   5924.021444  0.080376\n",
      "6         8  10570.238049   7008.648650   4453.915399  0.045427\n",
      "7         9   9845.994370   6044.264097   2684.161183  0.016501\n"
     ]
    }
   ],
   "source": [
    "# adding ica rmse in DF with other RMSEs\n",
    "add_column(kmeans_comparision,'ica_rmse', ica_matrix[ica_matrix['n_components']==2]['RMSE'])\n",
    "print(kmeans_comparision)"
   ]
  },
  {
   "cell_type": "markdown",
   "metadata": {},
   "source": [
    "# Dimenssionality Reduction: Randomized Projection"
   ]
  },
  {
   "cell_type": "code",
   "execution_count": 12,
   "metadata": {},
   "outputs": [],
   "source": [
    "# using gaussian random projection to reduce dimmension of dataset and testing with k-means to find optinal n_components\n",
    "from sklearn.random_projection import GaussianRandomProjection\n",
    "\n",
    "transformer = GaussianRandomProjection()\n",
    "kmeans = KMeans()\n",
    "\n",
    "n_comp = []\n",
    "n_clust = []\n",
    "grp_rmse = []\n",
    "\n",
    "for n in range(2,14):\n",
    "    transformer.set_params(n_components = n)\n",
    "    X_grp = transformer.fit_transform(X)\n",
    "    for k in range(2,10):\n",
    "        kmeans.set_params(n_clusters = k)\n",
    "        kmeans.fit(X_grp)\n",
    "        n_comp.append(n)\n",
    "        n_clust.append(k)\n",
    "        grp_rmse.append(kmeans.inertia_)"
   ]
  },
  {
   "cell_type": "code",
   "execution_count": 15,
   "metadata": {},
   "outputs": [],
   "source": [
    "grp_matrix = pd.DataFrame({'n_components':n_comp, 'n_clusters':n_clust, 'RMSE':grp_rmse})"
   ]
  },
  {
   "cell_type": "code",
   "execution_count": 16,
   "metadata": {},
   "outputs": [
    {
     "name": "stdout",
     "output_type": "stream",
     "text": [
      "    n_components  n_clusters          RMSE\n",
      "31             5           9  5.381072e+07\n",
      "15             3           9  5.768651e+07\n",
      "30             5           8  5.825637e+07\n",
      "14             3           8  6.248454e+07\n",
      "29             5           7  6.484042e+07\n",
      "..           ...         ...           ...\n",
      "64            10           2  5.332719e+08\n",
      "1              2           3  5.573258e+08\n",
      "17             4           3  6.247459e+08\n",
      "0              2           2  9.253772e+08\n",
      "16             4           2  9.503781e+08\n",
      "\n",
      "[96 rows x 3 columns]\n"
     ]
    }
   ],
   "source": [
    "print(grp_matrix.sort_values('RMSE'))"
   ]
  },
  {
   "cell_type": "code",
   "execution_count": 18,
   "metadata": {},
   "outputs": [
    {
     "name": "stdout",
     "output_type": "stream",
     "text": [
      "    n_components  n_clusters          RMSE\n",
      "1              2           3  5.573258e+08\n",
      "9              3           3  1.419144e+08\n",
      "17             4           3  6.247459e+08\n",
      "25             5           3  1.650152e+08\n",
      "33             6           3  2.682028e+08\n",
      "41             7           3  2.955438e+08\n",
      "49             8           3  2.850796e+08\n",
      "57             9           3  2.401506e+08\n",
      "65            10           3  3.374863e+08\n",
      "73            11           3  2.337026e+08\n",
      "81            12           3  3.280007e+08\n",
      "89            13           3  3.082981e+08\n"
     ]
    }
   ],
   "source": [
    "# from above matrix it can be seen rmse is minimum for n_components = 2\n",
    "print(grp_matrix[grp_matrix['n_clusters'] == 3])"
   ]
  },
  {
   "cell_type": "code",
   "execution_count": 24,
   "metadata": {},
   "outputs": [
    {
     "data": {
      "image/png": "[encoded data removed]",
      "text/plain": [
       "<Figure size 432x288 with 1 Axes>"
      ]
     },
     "metadata": {
      "needs_background": "light"
     },
     "output_type": "display_data"
    }
   ],
   "source": [
    "plot_line(range(2,10), grp_matrix[grp_matrix['n_components'] == 3]['RMSE'],'Number of Clusters Vs RMSE','GRP RMSE','Number of Clusters')"
   ]
  },
  {
   "cell_type": "code",
   "execution_count": 147,
   "metadata": {},
   "outputs": [
    {
     "name": "stdout",
     "output_type": "stream",
     "text": [
      "   Clusters        Normal         DR_dt      pca_rmse  ica_rmse      grp_rmse\n",
      "0         2  24034.898764  22722.216730  22084.430103  1.117039  2.025747e+08\n",
      "1         3  18744.748085  17035.705856  16169.017212  0.598774  1.086714e+08\n",
      "2         4  13860.570020  11451.203154  10109.574041  0.234078  8.763914e+07\n",
      "3         5  12813.142300  10166.473826   8620.563685  0.170203  7.178534e+07\n",
      "4         6  12022.042825   9155.958524   7396.220261  0.125290  5.666276e+07\n",
      "5         7  11175.079945   8019.099884   5924.021444  0.080376  4.862038e+07\n",
      "6         8  10570.238049   7008.648650   4453.915399  0.045427  4.221055e+07\n",
      "7         9   9845.994370   6044.264097   2684.161183  0.016501  3.741073e+07\n"
     ]
    }
   ],
   "source": [
    "# adding GRP rmse in DF with other RMSEs\n",
    "add_column(kmeans_comparision,'grp_rmse', grp_matrix[grp_matrix['n_components'] == 2]['RMSE'])\n",
    "print(kmeans_comparision)"
   ]
  },
  {
   "cell_type": "markdown",
   "metadata": {},
   "source": [
    "# Task 4: Training Neural Network"
   ]
  },
  {
   "cell_type": "code",
   "execution_count": 17,
   "metadata": {},
   "outputs": [],
   "source": [
    "# creating a neural network running function\n",
    "from sklearn.neural_network import MLPClassifier\n",
    "\n",
    "def run_nn(X_train, X_test, y_train,y_test):\n",
    "    nn_clf = MLPClassifier()\n",
    "    nn_clf.fit(X_train,y_train)\n",
    "    training_accuracy = nn_clf.score(X_train,y_train)\n",
    "    test_accuracy = nn_clf.score(X_test,y_test)\n",
    "    return(training_accuracy,test_accuracy)\n",
    "    "
   ]
  },
  {
   "cell_type": "code",
   "execution_count": 18,
   "metadata": {},
   "outputs": [
    {
     "name": "stdout",
     "output_type": "stream",
     "text": [
      "(241600, 14) (169120, 14) (72480, 14)\n"
     ]
    }
   ],
   "source": [
    "# training and testing accuracy for normal data (w/o any dimensionality reduction)\n",
    "from sklearn.model_selection import train_test_split\n",
    "\n",
    "X_train, X_test, y_train,y_test = train_test_split(X,y,test_size = 0.3)\n",
    "\n",
    "print(X.shape, X_train.shape, X_test.shape)"
   ]
  },
  {
   "cell_type": "code",
   "execution_count": 157,
   "metadata": {},
   "outputs": [
    {
     "name": "stdout",
     "output_type": "stream",
     "text": [
      "(0.9804872280037843, 0.9786699779249448)\n"
     ]
    }
   ],
   "source": [
    "print(run_nn(X_train, X_test, y_train,y_test))"
   ]
  },
  {
   "cell_type": "code",
   "execution_count": 159,
   "metadata": {},
   "outputs": [
    {
     "name": "stdout",
     "output_type": "stream",
     "text": [
      "(169120, 4) (72480, 4)\n"
     ]
    }
   ],
   "source": [
    "# training and testing data set for feature selected through decision tree \n",
    "X_train_dt = X_train[['MWG','NWG','MDIMC','NDIMC']]\n",
    "X_test_dt = X_test[['MWG','NWG','MDIMC','NDIMC']]\n",
    "print(X_train_dt.shape, X_test_dt.shape)"
   ]
  },
  {
   "cell_type": "code",
   "execution_count": 160,
   "metadata": {},
   "outputs": [
    {
     "name": "stdout",
     "output_type": "stream",
     "text": [
      "(169120, 2) (72480, 2)\n"
     ]
    }
   ],
   "source": [
    "# training and testing data for feature selected through PCA\n",
    "X_train_pca = pca.transform(X_train)\n",
    "X_test_pca = pca.transform(X_test)\n",
    "print(X_train_pca.shape, X_test_pca.shape)"
   ]
  },
  {
   "cell_type": "code",
   "execution_count": 170,
   "metadata": {},
   "outputs": [],
   "source": [
    "# training and testing data for feature transformed through ICA\n",
    "ica.set_params(n_components = 2)\n",
    "X_train_ica = ica.fit_transform(X_train)\n",
    "X_test_ica = ica.transform(X_test)"
   ]
  },
  {
   "cell_type": "code",
   "execution_count": 171,
   "metadata": {},
   "outputs": [],
   "source": [
    "# traing and testing data for feature transformed through GRP\n",
    "transformer.set_params(n_components = 2)\n",
    "X_train_grp = transformer.fit_transform(X_train)\n",
    "X_testr_grp = transformer.transform(X_test)"
   ]
  },
  {
   "cell_type": "code",
   "execution_count": 178,
   "metadata": {},
   "outputs": [],
   "source": [
    "# running above different training and testing dataset through NN\n",
    "X_train_lst = [X_train,X_train_dt, X_train_pca, X_train_ica, X_train_grp]\n",
    "X_test_lst = [X_test, X_test_dt, X_test_pca, X_test_ica, X_testr_grp]\n",
    "\n",
    "train_accu = []\n",
    "test_accu = []\n",
    "\n",
    "for i in range(5):\n",
    "    nn_accu = run_nn(X_train_lst[i],X_test_lst[i],y_train,y_test)\n",
    "    train_accu.append(nn_accu[0])\n",
    "    test_accu.append(nn_accu[1])"
   ]
  },
  {
   "cell_type": "code",
   "execution_count": 181,
   "metadata": {},
   "outputs": [
    {
     "name": "stdout",
     "output_type": "stream",
     "text": [
      "                                Method  Train Accuracy  Test Accuracy\n",
      "0                    No Transformation        0.976762       0.975607\n",
      "1     Fearure Selection: Decision Tree        0.886004       0.883568\n",
      "2                                  PCA        0.736714       0.734423\n",
      "3                                  ICA        0.731025       0.726642\n",
      "4  RP - Gaussian Randmized Projections        0.705322       0.702911\n"
     ]
    }
   ],
   "source": [
    "# result comparision for transformed data\n",
    "methodology = ['No Transformation','Fearure Selection: Decision Tree', 'PCA','ICA','RP - Gaussian Randmized Projections']\n",
    "\n",
    "nn_results_comparision = pd.DataFrame({'Method': methodology,'Train Accuracy':train_accu, 'Test Accuracy':test_accu})\n",
    "print(nn_results_comparision)"
   ]
  },
  {
   "cell_type": "markdown",
   "metadata": {},
   "source": [
    "# Task 5: applying neural network on clustering outcome"
   ]
  },
  {
   "cell_type": "code",
   "execution_count": 22,
   "metadata": {},
   "outputs": [
    {
     "name": "stdout",
     "output_type": "stream",
     "text": [
      "[2 2 2 2 2]\n"
     ]
    }
   ],
   "source": [
    "clust.set_params(n_clusters = 4)\n",
    "y_predict = clust.fit_predict(X)\n",
    "print(y_predict[:5])"
   ]
  },
  {
   "cell_type": "code",
   "execution_count": 23,
   "metadata": {},
   "outputs": [
    {
     "name": "stdout",
     "output_type": "stream",
     "text": [
      "(0.7256090350047304, 0.7225855408388521)\n"
     ]
    }
   ],
   "source": [
    "#running NN on clustering output\n",
    "\n",
    "X_train, X_test, y_train,y_test = train_test_split(y_predict,y,test_size = 0.3)\n",
    "\n",
    "print(run_nn(X_train.reshape(-1,1),X_test.reshape(-1,1),y_train,y_test))"
   ]
  },
  {
   "cell_type": "code",
   "execution_count": null,
   "metadata": {},
   "outputs": [],
   "source": []
  },
  {
   "cell_type": "code",
   "execution_count": null,
   "metadata": {},
   "outputs": [],
   "source": []
  },
  {
   "cell_type": "code",
   "execution_count": null,
   "metadata": {},
   "outputs": [],
   "source": []
  },
  {
   "cell_type": "code",
   "execution_count": null,
   "metadata": {},
   "outputs": [],
   "source": []
  }
 ],
 "metadata": {
  "kernelspec": {
   "display_name": "Python 3",
   "language": "python",
   "name": "python3"
  },
  "language_info": {
   "codemirror_mode": {
    "name": "ipython",
    "version": 3
   },
   "file_extension": ".py",
   "mimetype": "text/x-python",
   "name": "python",
   "nbconvert_exporter": "python",
   "pygments_lexer": "ipython3",
   "version": "3.7.4"
  }
 },
 "nbformat": 4,
 "nbformat_minor": 2
}
