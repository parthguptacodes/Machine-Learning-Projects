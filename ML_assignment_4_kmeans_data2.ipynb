{
 "cells": [
  {
   "cell_type": "code",
   "execution_count": 1,
   "metadata": {},
   "outputs": [
    {
     "name": "stdout",
     "output_type": "stream",
     "text": [
      "   age         workclass  fnlwgt  education  education-num  \\\n",
      "0   39         State-gov   77516  Bachelors             13   \n",
      "1   50  Self-emp-not-inc   83311  Bachelors             13   \n",
      "2   38           Private  215646    HS-grad              9   \n",
      "3   53           Private  234721       11th              7   \n",
      "4   28           Private  338409  Bachelors             13   \n",
      "\n",
      "       marital-status         occupation   relationship   race     sex  \\\n",
      "0       Never-married       Adm-clerical  Not-in-family  White    Male   \n",
      "1  Married-civ-spouse    Exec-managerial        Husband  White    Male   \n",
      "2            Divorced  Handlers-cleaners  Not-in-family  White    Male   \n",
      "3  Married-civ-spouse  Handlers-cleaners        Husband  Black    Male   \n",
      "4  Married-civ-spouse     Prof-specialty           Wife  Black  Female   \n",
      "\n",
      "   capital-gain  capital-loss  hours-per-week native-country Income level  \n",
      "0          2174             0              40  United-States        <=50K  \n",
      "1             0             0              13  United-States        <=50K  \n",
      "2             0             0              40  United-States        <=50K  \n",
      "3             0             0              40  United-States        <=50K  \n",
      "4             0             0              40           Cuba        <=50K  \n"
     ]
    }
   ],
   "source": [
    "# importing data\n",
    "import pandas as pd\n",
    "import numpy as np\n",
    "np.random_state = 42\n",
    "data = pd.read_csv('D:/MSBA/10 Applied Machine Learning/assignment/2/adult_income.csv')\n",
    "print(data.head())"
   ]
  },
  {
   "cell_type": "code",
   "execution_count": 17,
   "metadata": {},
   "outputs": [
    {
     "data": {
      "text/html": [
       "<div>\n",
       "<style scoped>\n",
       "    .dataframe tbody tr th:only-of-type {\n",
       "        vertical-align: middle;\n",
       "    }\n",
       "\n",
       "    .dataframe tbody tr th {\n",
       "        vertical-align: top;\n",
       "    }\n",
       "\n",
       "    .dataframe thead th {\n",
       "        text-align: right;\n",
       "    }\n",
       "</style>\n",
       "<table border=\"1\" class=\"dataframe\">\n",
       "  <thead>\n",
       "    <tr style=\"text-align: right;\">\n",
       "      <th></th>\n",
       "      <th>age</th>\n",
       "      <th>workclass</th>\n",
       "      <th>fnlwgt</th>\n",
       "      <th>education</th>\n",
       "      <th>education-num</th>\n",
       "      <th>marital-status</th>\n",
       "      <th>occupation</th>\n",
       "      <th>relationship</th>\n",
       "      <th>race</th>\n",
       "      <th>sex</th>\n",
       "      <th>capital-gain</th>\n",
       "      <th>capital-loss</th>\n",
       "      <th>hours-per-week</th>\n",
       "      <th>native-country</th>\n",
       "      <th>Income level</th>\n",
       "      <th>country</th>\n",
       "    </tr>\n",
       "  </thead>\n",
       "  <tbody>\n",
       "    <tr>\n",
       "      <td>0</td>\n",
       "      <td>39</td>\n",
       "      <td>State-gov</td>\n",
       "      <td>77516</td>\n",
       "      <td>Bachelors</td>\n",
       "      <td>13</td>\n",
       "      <td>Never-married</td>\n",
       "      <td>Adm-clerical</td>\n",
       "      <td>Not-in-family</td>\n",
       "      <td>White</td>\n",
       "      <td>Male</td>\n",
       "      <td>2174</td>\n",
       "      <td>0</td>\n",
       "      <td>40</td>\n",
       "      <td>United-States</td>\n",
       "      <td>&lt;=50K</td>\n",
       "      <td>US</td>\n",
       "    </tr>\n",
       "    <tr>\n",
       "      <td>1</td>\n",
       "      <td>50</td>\n",
       "      <td>Self-emp-not-inc</td>\n",
       "      <td>83311</td>\n",
       "      <td>Bachelors</td>\n",
       "      <td>13</td>\n",
       "      <td>Married-civ-spouse</td>\n",
       "      <td>Exec-managerial</td>\n",
       "      <td>Husband</td>\n",
       "      <td>White</td>\n",
       "      <td>Male</td>\n",
       "      <td>0</td>\n",
       "      <td>0</td>\n",
       "      <td>13</td>\n",
       "      <td>United-States</td>\n",
       "      <td>&lt;=50K</td>\n",
       "      <td>US</td>\n",
       "    </tr>\n",
       "    <tr>\n",
       "      <td>2</td>\n",
       "      <td>38</td>\n",
       "      <td>Private</td>\n",
       "      <td>215646</td>\n",
       "      <td>HS-grad</td>\n",
       "      <td>9</td>\n",
       "      <td>Divorced</td>\n",
       "      <td>Handlers-cleaners</td>\n",
       "      <td>Not-in-family</td>\n",
       "      <td>White</td>\n",
       "      <td>Male</td>\n",
       "      <td>0</td>\n",
       "      <td>0</td>\n",
       "      <td>40</td>\n",
       "      <td>United-States</td>\n",
       "      <td>&lt;=50K</td>\n",
       "      <td>US</td>\n",
       "    </tr>\n",
       "    <tr>\n",
       "      <td>3</td>\n",
       "      <td>53</td>\n",
       "      <td>Private</td>\n",
       "      <td>234721</td>\n",
       "      <td>11th</td>\n",
       "      <td>7</td>\n",
       "      <td>Married-civ-spouse</td>\n",
       "      <td>Handlers-cleaners</td>\n",
       "      <td>Husband</td>\n",
       "      <td>Black</td>\n",
       "      <td>Male</td>\n",
       "      <td>0</td>\n",
       "      <td>0</td>\n",
       "      <td>40</td>\n",
       "      <td>United-States</td>\n",
       "      <td>&lt;=50K</td>\n",
       "      <td>US</td>\n",
       "    </tr>\n",
       "    <tr>\n",
       "      <td>4</td>\n",
       "      <td>28</td>\n",
       "      <td>Private</td>\n",
       "      <td>338409</td>\n",
       "      <td>Bachelors</td>\n",
       "      <td>13</td>\n",
       "      <td>Married-civ-spouse</td>\n",
       "      <td>Prof-specialty</td>\n",
       "      <td>Wife</td>\n",
       "      <td>Black</td>\n",
       "      <td>Female</td>\n",
       "      <td>0</td>\n",
       "      <td>0</td>\n",
       "      <td>40</td>\n",
       "      <td>Cuba</td>\n",
       "      <td>&lt;=50K</td>\n",
       "      <td>Non US</td>\n",
       "    </tr>\n",
       "  </tbody>\n",
       "</table>\n",
       "</div>"
      ],
      "text/plain": [
       "   age         workclass  fnlwgt  education  education-num  \\\n",
       "0   39         State-gov   77516  Bachelors             13   \n",
       "1   50  Self-emp-not-inc   83311  Bachelors             13   \n",
       "2   38           Private  215646    HS-grad              9   \n",
       "3   53           Private  234721       11th              7   \n",
       "4   28           Private  338409  Bachelors             13   \n",
       "\n",
       "       marital-status         occupation   relationship   race     sex  \\\n",
       "0       Never-married       Adm-clerical  Not-in-family  White    Male   \n",
       "1  Married-civ-spouse    Exec-managerial        Husband  White    Male   \n",
       "2            Divorced  Handlers-cleaners  Not-in-family  White    Male   \n",
       "3  Married-civ-spouse  Handlers-cleaners        Husband  Black    Male   \n",
       "4  Married-civ-spouse     Prof-specialty           Wife  Black  Female   \n",
       "\n",
       "   capital-gain  capital-loss  hours-per-week native-country Income level  \\\n",
       "0          2174             0              40  United-States        <=50K   \n",
       "1             0             0              13  United-States        <=50K   \n",
       "2             0             0              40  United-States        <=50K   \n",
       "3             0             0              40  United-States        <=50K   \n",
       "4             0             0              40           Cuba        <=50K   \n",
       "\n",
       "  country  \n",
       "0      US  \n",
       "1      US  \n",
       "2      US  \n",
       "3      US  \n",
       "4  Non US  "
      ]
     },
     "execution_count": 17,
     "metadata": {},
     "output_type": "execute_result"
    }
   ],
   "source": [
    "# changing a few variables\n",
    "data['country'] = ['US' if x == 'United-States' else 'Non US' for x in data['native-country']]\n",
    "data.head()"
   ]
  },
  {
   "cell_type": "code",
   "execution_count": 19,
   "metadata": {},
   "outputs": [
    {
     "data": {
      "text/html": [
       "<div>\n",
       "<style scoped>\n",
       "    .dataframe tbody tr th:only-of-type {\n",
       "        vertical-align: middle;\n",
       "    }\n",
       "\n",
       "    .dataframe tbody tr th {\n",
       "        vertical-align: top;\n",
       "    }\n",
       "\n",
       "    .dataframe thead th {\n",
       "        text-align: right;\n",
       "    }\n",
       "</style>\n",
       "<table border=\"1\" class=\"dataframe\">\n",
       "  <thead>\n",
       "    <tr style=\"text-align: right;\">\n",
       "      <th></th>\n",
       "      <th>age</th>\n",
       "      <th>workclass</th>\n",
       "      <th>fnlwgt</th>\n",
       "      <th>education-num</th>\n",
       "      <th>marital-status</th>\n",
       "      <th>occupation</th>\n",
       "      <th>relationship</th>\n",
       "      <th>race</th>\n",
       "      <th>sex</th>\n",
       "      <th>capital-gain</th>\n",
       "      <th>capital-loss</th>\n",
       "      <th>hours-per-week</th>\n",
       "      <th>Income level</th>\n",
       "      <th>country</th>\n",
       "    </tr>\n",
       "  </thead>\n",
       "  <tbody>\n",
       "    <tr>\n",
       "      <td>0</td>\n",
       "      <td>39</td>\n",
       "      <td>State-gov</td>\n",
       "      <td>77516</td>\n",
       "      <td>13</td>\n",
       "      <td>Never-married</td>\n",
       "      <td>Adm-clerical</td>\n",
       "      <td>Not-in-family</td>\n",
       "      <td>White</td>\n",
       "      <td>Male</td>\n",
       "      <td>2174</td>\n",
       "      <td>0</td>\n",
       "      <td>40</td>\n",
       "      <td>&lt;=50K</td>\n",
       "      <td>US</td>\n",
       "    </tr>\n",
       "    <tr>\n",
       "      <td>1</td>\n",
       "      <td>50</td>\n",
       "      <td>Self-emp-not-inc</td>\n",
       "      <td>83311</td>\n",
       "      <td>13</td>\n",
       "      <td>Married-civ-spouse</td>\n",
       "      <td>Exec-managerial</td>\n",
       "      <td>Husband</td>\n",
       "      <td>White</td>\n",
       "      <td>Male</td>\n",
       "      <td>0</td>\n",
       "      <td>0</td>\n",
       "      <td>13</td>\n",
       "      <td>&lt;=50K</td>\n",
       "      <td>US</td>\n",
       "    </tr>\n",
       "    <tr>\n",
       "      <td>2</td>\n",
       "      <td>38</td>\n",
       "      <td>Private</td>\n",
       "      <td>215646</td>\n",
       "      <td>9</td>\n",
       "      <td>Divorced</td>\n",
       "      <td>Handlers-cleaners</td>\n",
       "      <td>Not-in-family</td>\n",
       "      <td>White</td>\n",
       "      <td>Male</td>\n",
       "      <td>0</td>\n",
       "      <td>0</td>\n",
       "      <td>40</td>\n",
       "      <td>&lt;=50K</td>\n",
       "      <td>US</td>\n",
       "    </tr>\n",
       "    <tr>\n",
       "      <td>3</td>\n",
       "      <td>53</td>\n",
       "      <td>Private</td>\n",
       "      <td>234721</td>\n",
       "      <td>7</td>\n",
       "      <td>Married-civ-spouse</td>\n",
       "      <td>Handlers-cleaners</td>\n",
       "      <td>Husband</td>\n",
       "      <td>Black</td>\n",
       "      <td>Male</td>\n",
       "      <td>0</td>\n",
       "      <td>0</td>\n",
       "      <td>40</td>\n",
       "      <td>&lt;=50K</td>\n",
       "      <td>US</td>\n",
       "    </tr>\n",
       "    <tr>\n",
       "      <td>4</td>\n",
       "      <td>28</td>\n",
       "      <td>Private</td>\n",
       "      <td>338409</td>\n",
       "      <td>13</td>\n",
       "      <td>Married-civ-spouse</td>\n",
       "      <td>Prof-specialty</td>\n",
       "      <td>Wife</td>\n",
       "      <td>Black</td>\n",
       "      <td>Female</td>\n",
       "      <td>0</td>\n",
       "      <td>0</td>\n",
       "      <td>40</td>\n",
       "      <td>&lt;=50K</td>\n",
       "      <td>Non US</td>\n",
       "    </tr>\n",
       "  </tbody>\n",
       "</table>\n",
       "</div>"
      ],
      "text/plain": [
       "   age         workclass  fnlwgt  education-num      marital-status  \\\n",
       "0   39         State-gov   77516             13       Never-married   \n",
       "1   50  Self-emp-not-inc   83311             13  Married-civ-spouse   \n",
       "2   38           Private  215646              9            Divorced   \n",
       "3   53           Private  234721              7  Married-civ-spouse   \n",
       "4   28           Private  338409             13  Married-civ-spouse   \n",
       "\n",
       "          occupation   relationship   race     sex  capital-gain  \\\n",
       "0       Adm-clerical  Not-in-family  White    Male          2174   \n",
       "1    Exec-managerial        Husband  White    Male             0   \n",
       "2  Handlers-cleaners  Not-in-family  White    Male             0   \n",
       "3  Handlers-cleaners        Husband  Black    Male             0   \n",
       "4     Prof-specialty           Wife  Black  Female             0   \n",
       "\n",
       "   capital-loss  hours-per-week Income level country  \n",
       "0             0              40        <=50K      US  \n",
       "1             0              13        <=50K      US  \n",
       "2             0              40        <=50K      US  \n",
       "3             0              40        <=50K      US  \n",
       "4             0              40        <=50K  Non US  "
      ]
     },
     "execution_count": 19,
     "metadata": {},
     "output_type": "execute_result"
    }
   ],
   "source": [
    "# droping unrequired variables\n",
    "data_new = data.drop(['education','native-country'], axis = 1)\n",
    "data_new.head()"
   ]
  },
  {
   "cell_type": "code",
   "execution_count": 21,
   "metadata": {},
   "outputs": [
    {
     "data": {
      "text/html": [
       "<div>\n",
       "<style scoped>\n",
       "    .dataframe tbody tr th:only-of-type {\n",
       "        vertical-align: middle;\n",
       "    }\n",
       "\n",
       "    .dataframe tbody tr th {\n",
       "        vertical-align: top;\n",
       "    }\n",
       "\n",
       "    .dataframe thead th {\n",
       "        text-align: right;\n",
       "    }\n",
       "</style>\n",
       "<table border=\"1\" class=\"dataframe\">\n",
       "  <thead>\n",
       "    <tr style=\"text-align: right;\">\n",
       "      <th></th>\n",
       "      <th>age</th>\n",
       "      <th>fnlwgt</th>\n",
       "      <th>education-num</th>\n",
       "      <th>capital-gain</th>\n",
       "      <th>capital-loss</th>\n",
       "      <th>hours-per-week</th>\n",
       "      <th>workclass_Federal-gov</th>\n",
       "      <th>workclass_Local-gov</th>\n",
       "      <th>workclass_Never-worked</th>\n",
       "      <th>workclass_Private</th>\n",
       "      <th>...</th>\n",
       "      <th>relationship_Own-child</th>\n",
       "      <th>relationship_Unmarried</th>\n",
       "      <th>relationship_Wife</th>\n",
       "      <th>race_Asian-Pac-Islander</th>\n",
       "      <th>race_Black</th>\n",
       "      <th>race_Other</th>\n",
       "      <th>race_White</th>\n",
       "      <th>sex_Male</th>\n",
       "      <th>Income level_ &gt;50K</th>\n",
       "      <th>country_US</th>\n",
       "    </tr>\n",
       "  </thead>\n",
       "  <tbody>\n",
       "    <tr>\n",
       "      <td>0</td>\n",
       "      <td>39</td>\n",
       "      <td>77516</td>\n",
       "      <td>13</td>\n",
       "      <td>2174</td>\n",
       "      <td>0</td>\n",
       "      <td>40</td>\n",
       "      <td>0</td>\n",
       "      <td>0</td>\n",
       "      <td>0</td>\n",
       "      <td>0</td>\n",
       "      <td>...</td>\n",
       "      <td>0</td>\n",
       "      <td>0</td>\n",
       "      <td>0</td>\n",
       "      <td>0</td>\n",
       "      <td>0</td>\n",
       "      <td>0</td>\n",
       "      <td>1</td>\n",
       "      <td>1</td>\n",
       "      <td>0</td>\n",
       "      <td>1</td>\n",
       "    </tr>\n",
       "    <tr>\n",
       "      <td>1</td>\n",
       "      <td>50</td>\n",
       "      <td>83311</td>\n",
       "      <td>13</td>\n",
       "      <td>0</td>\n",
       "      <td>0</td>\n",
       "      <td>13</td>\n",
       "      <td>0</td>\n",
       "      <td>0</td>\n",
       "      <td>0</td>\n",
       "      <td>0</td>\n",
       "      <td>...</td>\n",
       "      <td>0</td>\n",
       "      <td>0</td>\n",
       "      <td>0</td>\n",
       "      <td>0</td>\n",
       "      <td>0</td>\n",
       "      <td>0</td>\n",
       "      <td>1</td>\n",
       "      <td>1</td>\n",
       "      <td>0</td>\n",
       "      <td>1</td>\n",
       "    </tr>\n",
       "    <tr>\n",
       "      <td>2</td>\n",
       "      <td>38</td>\n",
       "      <td>215646</td>\n",
       "      <td>9</td>\n",
       "      <td>0</td>\n",
       "      <td>0</td>\n",
       "      <td>40</td>\n",
       "      <td>0</td>\n",
       "      <td>0</td>\n",
       "      <td>0</td>\n",
       "      <td>1</td>\n",
       "      <td>...</td>\n",
       "      <td>0</td>\n",
       "      <td>0</td>\n",
       "      <td>0</td>\n",
       "      <td>0</td>\n",
       "      <td>0</td>\n",
       "      <td>0</td>\n",
       "      <td>1</td>\n",
       "      <td>1</td>\n",
       "      <td>0</td>\n",
       "      <td>1</td>\n",
       "    </tr>\n",
       "    <tr>\n",
       "      <td>3</td>\n",
       "      <td>53</td>\n",
       "      <td>234721</td>\n",
       "      <td>7</td>\n",
       "      <td>0</td>\n",
       "      <td>0</td>\n",
       "      <td>40</td>\n",
       "      <td>0</td>\n",
       "      <td>0</td>\n",
       "      <td>0</td>\n",
       "      <td>1</td>\n",
       "      <td>...</td>\n",
       "      <td>0</td>\n",
       "      <td>0</td>\n",
       "      <td>0</td>\n",
       "      <td>0</td>\n",
       "      <td>1</td>\n",
       "      <td>0</td>\n",
       "      <td>0</td>\n",
       "      <td>1</td>\n",
       "      <td>0</td>\n",
       "      <td>1</td>\n",
       "    </tr>\n",
       "    <tr>\n",
       "      <td>4</td>\n",
       "      <td>28</td>\n",
       "      <td>338409</td>\n",
       "      <td>13</td>\n",
       "      <td>0</td>\n",
       "      <td>0</td>\n",
       "      <td>40</td>\n",
       "      <td>0</td>\n",
       "      <td>0</td>\n",
       "      <td>0</td>\n",
       "      <td>1</td>\n",
       "      <td>...</td>\n",
       "      <td>0</td>\n",
       "      <td>0</td>\n",
       "      <td>1</td>\n",
       "      <td>0</td>\n",
       "      <td>1</td>\n",
       "      <td>0</td>\n",
       "      <td>0</td>\n",
       "      <td>0</td>\n",
       "      <td>0</td>\n",
       "      <td>0</td>\n",
       "    </tr>\n",
       "  </tbody>\n",
       "</table>\n",
       "<p>5 rows × 46 columns</p>\n",
       "</div>"
      ],
      "text/plain": [
       "   age  fnlwgt  education-num  capital-gain  capital-loss  hours-per-week  \\\n",
       "0   39   77516             13          2174             0              40   \n",
       "1   50   83311             13             0             0              13   \n",
       "2   38  215646              9             0             0              40   \n",
       "3   53  234721              7             0             0              40   \n",
       "4   28  338409             13             0             0              40   \n",
       "\n",
       "   workclass_Federal-gov  workclass_Local-gov  workclass_Never-worked  \\\n",
       "0                      0                    0                       0   \n",
       "1                      0                    0                       0   \n",
       "2                      0                    0                       0   \n",
       "3                      0                    0                       0   \n",
       "4                      0                    0                       0   \n",
       "\n",
       "   workclass_Private  ...  relationship_Own-child  relationship_Unmarried  \\\n",
       "0                  0  ...                       0                       0   \n",
       "1                  0  ...                       0                       0   \n",
       "2                  1  ...                       0                       0   \n",
       "3                  1  ...                       0                       0   \n",
       "4                  1  ...                       0                       0   \n",
       "\n",
       "   relationship_Wife  race_Asian-Pac-Islander  race_Black  race_Other  \\\n",
       "0                  0                        0           0           0   \n",
       "1                  0                        0           0           0   \n",
       "2                  0                        0           0           0   \n",
       "3                  0                        0           1           0   \n",
       "4                  1                        0           1           0   \n",
       "\n",
       "   race_White  sex_Male  Income level_ >50K  country_US  \n",
       "0           1         1                   0           1  \n",
       "1           1         1                   0           1  \n",
       "2           1         1                   0           1  \n",
       "3           0         1                   0           1  \n",
       "4           0         0                   0           0  \n",
       "\n",
       "[5 rows x 46 columns]"
      ]
     },
     "execution_count": 21,
     "metadata": {},
     "output_type": "execute_result"
    }
   ],
   "source": [
    "# one-hot coding categorical data\n",
    "data_new = pd.get_dummies(data_new, drop_first = True)\n",
    "data_new.head()"
   ]
  },
  {
   "cell_type": "code",
   "execution_count": 24,
   "metadata": {},
   "outputs": [
    {
     "name": "stdout",
     "output_type": "stream",
     "text": [
      "(32561, 45)\n"
     ]
    }
   ],
   "source": [
    "# creating X and y varible from data\n",
    "X = data_new.drop('Income level_ >50K', axis = 1)\n",
    "y = data.iloc[:,-2]\n",
    "print(X.shape)"
   ]
  },
  {
   "cell_type": "code",
   "execution_count": 29,
   "metadata": {},
   "outputs": [
    {
     "name": "stdout",
     "output_type": "stream",
     "text": [
      "[[ 0.03067056 -1.06361075  1.13473876  0.1484529  -0.21665953 -0.03542945\n",
      "  -0.17429511 -0.26209736 -0.01466381 -1.5167923  -0.18838933 -0.29093568\n",
      "   4.90769968 -0.02073999 -0.02658695 -0.92284068 -0.11403678  1.43105786\n",
      "  -0.1802846  -0.17735813  2.76348874 -0.01662771 -0.37949517 -0.37774555\n",
      "  -0.17745022 -0.20957797 -0.25595432 -0.33554133 -0.06780164 -0.38166338\n",
      "  -0.14260848 -0.35531609 -0.17127887 -0.22710355  1.70899099 -0.17624972\n",
      "  -0.42934582 -0.34403232 -0.22492681 -0.18155194 -0.32576824 -0.09161163\n",
      "   0.4130197   0.70307135  0.34095391]]\n"
     ]
    }
   ],
   "source": [
    "# scaling features\n",
    "from sklearn.preprocessing import StandardScaler\n",
    "X = StandardScaler().fit_transform(X)\n",
    "print(X[:1])"
   ]
  },
  {
   "cell_type": "code",
   "execution_count": 44,
   "metadata": {},
   "outputs": [
    {
     "data": {
      "text/html": [
       "<div>\n",
       "<style scoped>\n",
       "    .dataframe tbody tr th:only-of-type {\n",
       "        vertical-align: middle;\n",
       "    }\n",
       "\n",
       "    .dataframe tbody tr th {\n",
       "        vertical-align: top;\n",
       "    }\n",
       "\n",
       "    .dataframe thead th {\n",
       "        text-align: right;\n",
       "    }\n",
       "</style>\n",
       "<table border=\"1\" class=\"dataframe\">\n",
       "  <thead>\n",
       "    <tr style=\"text-align: right;\">\n",
       "      <th></th>\n",
       "      <th>age</th>\n",
       "      <th>fnlwgt</th>\n",
       "      <th>education-num</th>\n",
       "      <th>capital-gain</th>\n",
       "      <th>capital-loss</th>\n",
       "      <th>hours-per-week</th>\n",
       "      <th>workclass_Federal-gov</th>\n",
       "      <th>workclass_Local-gov</th>\n",
       "      <th>workclass_Never-worked</th>\n",
       "      <th>workclass_Private</th>\n",
       "      <th>...</th>\n",
       "      <th>relationship_Other-relative</th>\n",
       "      <th>relationship_Own-child</th>\n",
       "      <th>relationship_Unmarried</th>\n",
       "      <th>relationship_Wife</th>\n",
       "      <th>race_Asian-Pac-Islander</th>\n",
       "      <th>race_Black</th>\n",
       "      <th>race_Other</th>\n",
       "      <th>race_White</th>\n",
       "      <th>sex_Male</th>\n",
       "      <th>country_US</th>\n",
       "    </tr>\n",
       "  </thead>\n",
       "  <tbody>\n",
       "    <tr>\n",
       "      <td>0</td>\n",
       "      <td>0.030671</td>\n",
       "      <td>-1.063611</td>\n",
       "      <td>1.134739</td>\n",
       "      <td>0.148453</td>\n",
       "      <td>-0.21666</td>\n",
       "      <td>-0.035429</td>\n",
       "      <td>-0.174295</td>\n",
       "      <td>-0.262097</td>\n",
       "      <td>-0.014664</td>\n",
       "      <td>-1.516792</td>\n",
       "      <td>...</td>\n",
       "      <td>-0.17625</td>\n",
       "      <td>-0.429346</td>\n",
       "      <td>-0.344032</td>\n",
       "      <td>-0.224927</td>\n",
       "      <td>-0.181552</td>\n",
       "      <td>-0.325768</td>\n",
       "      <td>-0.091612</td>\n",
       "      <td>0.413020</td>\n",
       "      <td>0.703071</td>\n",
       "      <td>0.340954</td>\n",
       "    </tr>\n",
       "    <tr>\n",
       "      <td>1</td>\n",
       "      <td>0.837109</td>\n",
       "      <td>-1.008707</td>\n",
       "      <td>1.134739</td>\n",
       "      <td>-0.145920</td>\n",
       "      <td>-0.21666</td>\n",
       "      <td>-2.222153</td>\n",
       "      <td>-0.174295</td>\n",
       "      <td>-0.262097</td>\n",
       "      <td>-0.014664</td>\n",
       "      <td>-1.516792</td>\n",
       "      <td>...</td>\n",
       "      <td>-0.17625</td>\n",
       "      <td>-0.429346</td>\n",
       "      <td>-0.344032</td>\n",
       "      <td>-0.224927</td>\n",
       "      <td>-0.181552</td>\n",
       "      <td>-0.325768</td>\n",
       "      <td>-0.091612</td>\n",
       "      <td>0.413020</td>\n",
       "      <td>0.703071</td>\n",
       "      <td>0.340954</td>\n",
       "    </tr>\n",
       "    <tr>\n",
       "      <td>2</td>\n",
       "      <td>-0.042642</td>\n",
       "      <td>0.245079</td>\n",
       "      <td>-0.420060</td>\n",
       "      <td>-0.145920</td>\n",
       "      <td>-0.21666</td>\n",
       "      <td>-0.035429</td>\n",
       "      <td>-0.174295</td>\n",
       "      <td>-0.262097</td>\n",
       "      <td>-0.014664</td>\n",
       "      <td>0.659286</td>\n",
       "      <td>...</td>\n",
       "      <td>-0.17625</td>\n",
       "      <td>-0.429346</td>\n",
       "      <td>-0.344032</td>\n",
       "      <td>-0.224927</td>\n",
       "      <td>-0.181552</td>\n",
       "      <td>-0.325768</td>\n",
       "      <td>-0.091612</td>\n",
       "      <td>0.413020</td>\n",
       "      <td>0.703071</td>\n",
       "      <td>0.340954</td>\n",
       "    </tr>\n",
       "    <tr>\n",
       "      <td>3</td>\n",
       "      <td>1.057047</td>\n",
       "      <td>0.425801</td>\n",
       "      <td>-1.197459</td>\n",
       "      <td>-0.145920</td>\n",
       "      <td>-0.21666</td>\n",
       "      <td>-0.035429</td>\n",
       "      <td>-0.174295</td>\n",
       "      <td>-0.262097</td>\n",
       "      <td>-0.014664</td>\n",
       "      <td>0.659286</td>\n",
       "      <td>...</td>\n",
       "      <td>-0.17625</td>\n",
       "      <td>-0.429346</td>\n",
       "      <td>-0.344032</td>\n",
       "      <td>-0.224927</td>\n",
       "      <td>-0.181552</td>\n",
       "      <td>3.069667</td>\n",
       "      <td>-0.091612</td>\n",
       "      <td>-2.421192</td>\n",
       "      <td>0.703071</td>\n",
       "      <td>0.340954</td>\n",
       "    </tr>\n",
       "    <tr>\n",
       "      <td>4</td>\n",
       "      <td>-0.775768</td>\n",
       "      <td>1.408176</td>\n",
       "      <td>1.134739</td>\n",
       "      <td>-0.145920</td>\n",
       "      <td>-0.21666</td>\n",
       "      <td>-0.035429</td>\n",
       "      <td>-0.174295</td>\n",
       "      <td>-0.262097</td>\n",
       "      <td>-0.014664</td>\n",
       "      <td>0.659286</td>\n",
       "      <td>...</td>\n",
       "      <td>-0.17625</td>\n",
       "      <td>-0.429346</td>\n",
       "      <td>-0.344032</td>\n",
       "      <td>4.445891</td>\n",
       "      <td>-0.181552</td>\n",
       "      <td>3.069667</td>\n",
       "      <td>-0.091612</td>\n",
       "      <td>-2.421192</td>\n",
       "      <td>-1.422331</td>\n",
       "      <td>-2.932948</td>\n",
       "    </tr>\n",
       "  </tbody>\n",
       "</table>\n",
       "<p>5 rows × 45 columns</p>\n",
       "</div>"
      ],
      "text/plain": [
       "        age    fnlwgt  education-num  capital-gain  capital-loss  \\\n",
       "0  0.030671 -1.063611       1.134739      0.148453      -0.21666   \n",
       "1  0.837109 -1.008707       1.134739     -0.145920      -0.21666   \n",
       "2 -0.042642  0.245079      -0.420060     -0.145920      -0.21666   \n",
       "3  1.057047  0.425801      -1.197459     -0.145920      -0.21666   \n",
       "4 -0.775768  1.408176       1.134739     -0.145920      -0.21666   \n",
       "\n",
       "   hours-per-week  workclass_Federal-gov  workclass_Local-gov  \\\n",
       "0       -0.035429              -0.174295            -0.262097   \n",
       "1       -2.222153              -0.174295            -0.262097   \n",
       "2       -0.035429              -0.174295            -0.262097   \n",
       "3       -0.035429              -0.174295            -0.262097   \n",
       "4       -0.035429              -0.174295            -0.262097   \n",
       "\n",
       "   workclass_Never-worked  workclass_Private  ...  \\\n",
       "0               -0.014664          -1.516792  ...   \n",
       "1               -0.014664          -1.516792  ...   \n",
       "2               -0.014664           0.659286  ...   \n",
       "3               -0.014664           0.659286  ...   \n",
       "4               -0.014664           0.659286  ...   \n",
       "\n",
       "   relationship_Other-relative  relationship_Own-child  \\\n",
       "0                     -0.17625               -0.429346   \n",
       "1                     -0.17625               -0.429346   \n",
       "2                     -0.17625               -0.429346   \n",
       "3                     -0.17625               -0.429346   \n",
       "4                     -0.17625               -0.429346   \n",
       "\n",
       "   relationship_Unmarried  relationship_Wife  race_Asian-Pac-Islander  \\\n",
       "0               -0.344032          -0.224927                -0.181552   \n",
       "1               -0.344032          -0.224927                -0.181552   \n",
       "2               -0.344032          -0.224927                -0.181552   \n",
       "3               -0.344032          -0.224927                -0.181552   \n",
       "4               -0.344032           4.445891                -0.181552   \n",
       "\n",
       "   race_Black  race_Other  race_White  sex_Male  country_US  \n",
       "0   -0.325768   -0.091612    0.413020  0.703071    0.340954  \n",
       "1   -0.325768   -0.091612    0.413020  0.703071    0.340954  \n",
       "2   -0.325768   -0.091612    0.413020  0.703071    0.340954  \n",
       "3    3.069667   -0.091612   -2.421192  0.703071    0.340954  \n",
       "4    3.069667   -0.091612   -2.421192 -1.422331   -2.932948  \n",
       "\n",
       "[5 rows x 45 columns]"
      ]
     },
     "execution_count": 44,
     "metadata": {},
     "output_type": "execute_result"
    }
   ],
   "source": [
    "# adding columns to transformed X\n",
    "X = pd.DataFrame(X)\n",
    "X.columns = data_new.drop('Income level_ >50K', axis = 1).columns\n",
    "X.head()"
   ]
  },
  {
   "cell_type": "markdown",
   "metadata": {},
   "source": [
    "# Task 1: running clustering algorithm in above dataset"
   ]
  },
  {
   "cell_type": "code",
   "execution_count": 51,
   "metadata": {},
   "outputs": [
    {
     "name": "stdout",
     "output_type": "stream",
     "text": [
      "[1174.7633068048783, 1151.9911017397262, 1138.520102000146, 1119.0140230707918, 1105.464971177678, 1091.8193650938597, 1079.874150628683, 1064.6341866899484]\n"
     ]
    }
   ],
   "source": [
    "# clustering dataset using k-means\n",
    "import numpy as np\n",
    "from sklearn.cluster import KMeans\n",
    "\n",
    "np.random.seed(42)\n",
    "\n",
    "clust = KMeans()\n",
    "\n",
    "rmse = []\n",
    "\n",
    "for k in range(2,10):\n",
    "    clust.set_params(n_clusters = k)\n",
    "    clust.fit(X)\n",
    "    rmse.append(np.sqrt(clust.inertia_))\n",
    "\n",
    "print(rmse)"
   ]
  },
  {
   "cell_type": "code",
   "execution_count": 39,
   "metadata": {},
   "outputs": [
    {
     "data": {
      "image/png": "[encoded data removed]",
      "text/plain": [
       "<Figure size 432x288 with 1 Axes>"
      ]
     },
     "metadata": {
      "needs_background": "light"
     },
     "output_type": "display_data"
    }
   ],
   "source": [
    "# plotting elbow curve between number of clusters and rmse\n",
    "import matplotlib.pyplot as plt\n",
    "def plot_line(x,y,title,ylabel,xlabel):\n",
    "    plt.plot(x,y)\n",
    "    plt.title(title)\n",
    "    plt.ylabel(ylabel)\n",
    "    plt.xlabel(xlabel)\n",
    "    plt.show()\n",
    "    \n",
    "plot_line(range(2,7),rmse[:5],'Number of Clusters Vs RMSE','RMSE','Number of Clusters')"
   ]
  },
  {
   "cell_type": "markdown",
   "metadata": {},
   "source": [
    "# Feature Selection Algorithm: Decision Tree"
   ]
  },
  {
   "cell_type": "code",
   "execution_count": 40,
   "metadata": {},
   "outputs": [
    {
     "data": {
      "text/plain": [
       "DecisionTreeClassifier(class_weight=None, criterion='gini', max_depth=None,\n",
       "                       max_features=None, max_leaf_nodes=None,\n",
       "                       min_impurity_decrease=0.0, min_impurity_split=None,\n",
       "                       min_samples_leaf=1, min_samples_split=2,\n",
       "                       min_weight_fraction_leaf=0.0, presort=False,\n",
       "                       random_state=None, splitter='best')"
      ]
     },
     "execution_count": 40,
     "metadata": {},
     "output_type": "execute_result"
    }
   ],
   "source": [
    "# feature selection through decision tree\n",
    "from sklearn.tree import DecisionTreeClassifier\n",
    "\n",
    "dt_clf = DecisionTreeClassifier()\n",
    "dt_clf.fit(X,y)"
   ]
  },
  {
   "cell_type": "code",
   "execution_count": 45,
   "metadata": {},
   "outputs": [
    {
     "name": "stdout",
     "output_type": "stream",
     "text": [
      "                                    name     score\n",
      "15     marital-status_Married-civ-spouse  0.197771\n",
      "1                                 fnlwgt  0.194104\n",
      "2                          education-num  0.123963\n",
      "0                                    age  0.112165\n",
      "3                           capital-gain  0.105644\n",
      "5                         hours-per-week  0.068469\n",
      "4                           capital-loss  0.038315\n",
      "9                      workclass_Private  0.010456\n",
      "23            occupation_Exec-managerial  0.010025\n",
      "31                      occupation_Sales  0.009237\n",
      "11            workclass_Self-emp-not-inc  0.008820\n",
      "44                            country_US  0.008021\n",
      "22               occupation_Craft-repair  0.007543\n",
      "29             occupation_Prof-specialty  0.007456\n",
      "42                            race_White  0.007203\n",
      "38                     relationship_Wife  0.006770\n",
      "26          occupation_Machine-op-inspct  0.006657\n",
      "43                              sex_Male  0.006514\n",
      "33           occupation_Transport-moving  0.005533\n",
      "20               occupation_Adm-clerical  0.005507\n",
      "7                    workclass_Local-gov  0.005158\n",
      "10                workclass_Self-emp-inc  0.004929\n",
      "40                            race_Black  0.004637\n",
      "6                  workclass_Federal-gov  0.004505\n",
      "12                   workclass_State-gov  0.004481\n",
      "32               occupation_Tech-support  0.004219\n",
      "25          occupation_Handlers-cleaners  0.003906\n",
      "30            occupation_Protective-serv  0.003788\n",
      "27              occupation_Other-service  0.003787\n",
      "39               race_Asian-Pac-Islander  0.003090\n",
      "17          marital-status_Never-married  0.002830\n",
      "24            occupation_Farming-fishing  0.002817\n",
      "34            relationship_Not-in-family  0.002703\n",
      "36                relationship_Own-child  0.002187\n",
      "35           relationship_Other-relative  0.001786\n",
      "18              marital-status_Separated  0.001210\n",
      "37                relationship_Unmarried  0.001057\n",
      "41                            race_Other  0.000797\n",
      "19                marital-status_Widowed  0.000788\n",
      "14      marital-status_Married-AF-spouse  0.000655\n",
      "16  marital-status_Married-spouse-absent  0.000495\n",
      "21               occupation_Armed-Forces  0.000000\n",
      "8                 workclass_Never-worked  0.000000\n",
      "13                 workclass_Without-pay  0.000000\n",
      "28            occupation_Priv-house-serv  0.000000\n"
     ]
    }
   ],
   "source": [
    "import pandas as pd\n",
    "feature_imp = pd.DataFrame({'name':X.columns, 'score':dt_clf.feature_importances_})\n",
    "print(feature_imp.sort_values('score', ascending = False))"
   ]
  },
  {
   "cell_type": "code",
   "execution_count": 46,
   "metadata": {},
   "outputs": [
    {
     "data": {
      "text/plain": [
       "(32561, 5)"
      ]
     },
     "execution_count": 46,
     "metadata": {},
     "output_type": "execute_result"
    }
   ],
   "source": [
    "# selecting top features based on above table\n",
    "X_sub = X[['marital-status_Married-civ-spouse','fnlwgt','education-num','age','capital-gain']]\n",
    "X_sub.shape"
   ]
  },
  {
   "cell_type": "code",
   "execution_count": 48,
   "metadata": {},
   "outputs": [
    {
     "name": "stdout",
     "output_type": "stream",
     "text": [
      "[355.5482978740418, 312.88785351617923, 291.34416700453744, 270.5223486046769, 252.63850401153465, 239.43284438308143, 227.5513155881999, 218.4207785530117]\n"
     ]
    }
   ],
   "source": [
    "# making cluster with just above features\n",
    "def clustering(X):\n",
    "    dr_clust = KMeans()\n",
    "    rmse = []\n",
    "    for k in range(2,10):\n",
    "        dr_clust.set_params(n_clusters = k)\n",
    "        dr_clust.fit(X)\n",
    "        rmse.append(np.sqrt(dr_clust.inertia_))\n",
    "    return rmse\n",
    "\n",
    "dr_rmse = clustering(X_sub)\n",
    "print(dr_rmse)"
   ]
  },
  {
   "cell_type": "code",
   "execution_count": 49,
   "metadata": {},
   "outputs": [
    {
     "data": {
      "image/png": "[encoded data removed]",
      "text/plain": [
       "<Figure size 432x288 with 1 Axes>"
      ]
     },
     "metadata": {
      "needs_background": "light"
     },
     "output_type": "display_data"
    }
   ],
   "source": [
    "plot_line(range(2,10), dr_rmse,'Number of Clusters Vs RMSE','RMSE','Number of Clusters')"
   ]
  },
  {
   "cell_type": "code",
   "execution_count": 52,
   "metadata": {},
   "outputs": [
    {
     "name": "stdout",
     "output_type": "stream",
     "text": [
      "   Clusters       Normal       DR_dt\n",
      "0         2  1174.763307  355.548298\n",
      "1         3  1151.991102  312.887854\n",
      "2         4  1138.520102  291.344167\n",
      "3         5  1119.014023  270.522349\n",
      "4         6  1105.464971  252.638504\n",
      "5         7  1091.819365  239.432844\n",
      "6         8  1079.874151  227.551316\n",
      "7         9  1064.634187  218.420779\n"
     ]
    }
   ],
   "source": [
    "kmeans_comparision = pd.DataFrame({'Clusters':range(2,10),'Normal':rmse,'DR_dt':dr_rmse})\n",
    "print(kmeans_comparision)"
   ]
  },
  {
   "cell_type": "code",
   "execution_count": 53,
   "metadata": {},
   "outputs": [],
   "source": [
    "# function for adding column to a dataframe\n",
    "def add_column(df,col_name, col):\n",
    "    df[col_name] = col"
   ]
  },
  {
   "cell_type": "markdown",
   "metadata": {},
   "source": [
    "# Dimensionality Reduction - PCA"
   ]
  },
  {
   "cell_type": "code",
   "execution_count": 54,
   "metadata": {},
   "outputs": [
    {
     "data": {
      "text/plain": [
       "PCA(copy=True, iterated_power='auto', n_components=None, random_state=None,\n",
       "    svd_solver='auto', tol=0.0, whiten=False)"
      ]
     },
     "execution_count": 54,
     "metadata": {},
     "output_type": "execute_result"
    }
   ],
   "source": [
    "# using PCA for dimensionality reduction\n",
    "from sklearn.decomposition import PCA\n",
    "\n",
    "pca = PCA()\n",
    "pca.fit(X)"
   ]
  },
  {
   "cell_type": "code",
   "execution_count": 58,
   "metadata": {},
   "outputs": [
    {
     "name": "stdout",
     "output_type": "stream",
     "text": [
      "[0.0721, 0.0485, 0.0451, 0.0391, 0.0351, 0.0338, 0.0314, 0.0295, 0.0275, 0.0264, 0.0259, 0.0251, 0.025, 0.0243, 0.0242, 0.0236, 0.0235, 0.0233, 0.0232, 0.0227, 0.0225, 0.0224, 0.0222, 0.0221, 0.0219, 0.0217, 0.0215, 0.0214, 0.0209, 0.0201, 0.0199, 0.0195, 0.0179, 0.0166, 0.0153, 0.0147, 0.0132, 0.0106, 0.0095, 0.0077, 0.0044, 0.0037, 0.0008, 0.0002, 0.0]\n"
     ]
    }
   ],
   "source": [
    "print([round(x,4) for x in pca.explained_variance_ratio_])"
   ]
  },
  {
   "cell_type": "code",
   "execution_count": 59,
   "metadata": {},
   "outputs": [
    {
     "data": {
      "text/plain": [
       "array([0.07207545, 0.04854499, 0.04506269, 0.03906946, 0.03508682,\n",
       "       0.03384705, 0.03138388, 0.02948978, 0.02748082, 0.02639797,\n",
       "       0.0258502 , 0.02503648, 0.02500526, 0.02431024, 0.02416223,\n",
       "       0.02358823, 0.02350886, 0.0232493 , 0.02321802, 0.02267428,\n",
       "       0.02242207, 0.02234965, 0.02214652, 0.02208579, 0.02192476,\n",
       "       0.02170496, 0.02142542, 0.02139245])"
      ]
     },
     "execution_count": 59,
     "metadata": {},
     "output_type": "execute_result"
    }
   ],
   "source": [
    "# as can be seen from above ratio top 2 companents explain 90% variance in data\n",
    "pca = PCA(n_components = 28)\n",
    "X_pca_transformed = pca.fit_transform(X)\n",
    "pca.explained_variance_ratio_"
   ]
  },
  {
   "cell_type": "code",
   "execution_count": 60,
   "metadata": {},
   "outputs": [
    {
     "name": "stdout",
     "output_type": "stream",
     "text": [
      "[1046.0261138489234, 1020.4789790255315, 1007.4595549431654, 988.1396081136689, 970.4568930018548, 959.8408015689157, 944.1900585202944, 922.1070530766322]\n"
     ]
    }
   ],
   "source": [
    "# using transformed X_pca for clustering\n",
    "pca_rmse = clustering(X_pca_transformed)\n",
    "print(pca_rmse)"
   ]
  },
  {
   "cell_type": "code",
   "execution_count": 95,
   "metadata": {},
   "outputs": [
    {
     "data": {
      "image/png": "[encoded data removed]",
      "text/plain": [
       "<Figure size 432x288 with 1 Axes>"
      ]
     },
     "metadata": {
      "needs_background": "light"
     },
     "output_type": "display_data"
    }
   ],
   "source": [
    "plot_line(range(2,10), pca_rmse,'Number of Clusters Vs RMSE','PCA RMSE','Number of Clusters')"
   ]
  },
  {
   "cell_type": "code",
   "execution_count": 61,
   "metadata": {},
   "outputs": [
    {
     "name": "stdout",
     "output_type": "stream",
     "text": [
      "   Clusters       Normal       DR_dt     pca_rmse\n",
      "0         2  1174.763307  355.548298  1046.026114\n",
      "1         3  1151.991102  312.887854  1020.478979\n",
      "2         4  1138.520102  291.344167  1007.459555\n",
      "3         5  1119.014023  270.522349   988.139608\n",
      "4         6  1105.464971  252.638504   970.456893\n",
      "5         7  1091.819365  239.432844   959.840802\n",
      "6         8  1079.874151  227.551316   944.190059\n",
      "7         9  1064.634187  218.420779   922.107053\n"
     ]
    }
   ],
   "source": [
    "# adding pca_rmse in DF with other RMSEs\n",
    "add_column(kmeans_comparision,'pca_rmse', pca_rmse)\n",
    "print(kmeans_comparision)"
   ]
  },
  {
   "cell_type": "markdown",
   "metadata": {},
   "source": [
    "# Dimensionality Reduction : ICA"
   ]
  },
  {
   "cell_type": "code",
   "execution_count": 62,
   "metadata": {},
   "outputs": [],
   "source": [
    "# using ICA to find out important dimmensions from the dataset\n",
    "from sklearn.decomposition import FastICA\n",
    "\n",
    "ica = FastICA()\n",
    "kmeans = KMeans()\n",
    "\n",
    "ica_n_comp = []\n",
    "ica_n_clust = []\n",
    "ica_rmse = []\n",
    "\n",
    "for n in range(2,14):\n",
    "    ica.set_params(n_components = n)\n",
    "    X_ica = ica.fit_transform(X)\n",
    "    for k in range(2,10):\n",
    "        kmeans.set_params(n_clusters = k)\n",
    "        kmeans.fit(X_ica)\n",
    "        ica_n_comp.append(n)\n",
    "        ica_n_clust.append(k)\n",
    "        ica_rmse.append(kmeans.inertia_)"
   ]
  },
  {
   "cell_type": "code",
   "execution_count": 63,
   "metadata": {},
   "outputs": [
    {
     "name": "stdout",
     "output_type": "stream",
     "text": [
      "    n_components  n_clusters       RMSE\n",
      "7              2           9   0.249224\n",
      "6              2           8   0.275792\n",
      "5              2           7   0.313101\n",
      "4              2           6   0.359930\n",
      "3              2           5   0.433855\n",
      "..           ...         ...        ...\n",
      "81            12           3  10.284771\n",
      "90            13           4  10.623853\n",
      "80            12           2  11.189851\n",
      "89            13           3  11.335329\n",
      "88            13           2  12.138634\n",
      "\n",
      "[96 rows x 3 columns]\n"
     ]
    }
   ],
   "source": [
    "ica_matrix = pd.DataFrame({'n_components':ica_n_comp, 'n_clusters':ica_n_clust, 'RMSE':ica_rmse})\n",
    "print(ica_matrix.sort_values('RMSE'))"
   ]
  },
  {
   "cell_type": "code",
   "execution_count": 64,
   "metadata": {},
   "outputs": [
    {
     "name": "stdout",
     "output_type": "stream",
     "text": [
      "   n_components  n_clusters      RMSE\n",
      "0             2           2  1.249382\n",
      "1             2           3  0.681819\n",
      "2             2           4  0.553371\n",
      "3             2           5  0.433855\n",
      "4             2           6  0.359930\n",
      "5             2           7  0.313101\n",
      "6             2           8  0.275792\n",
      "7             2           9  0.249224\n"
     ]
    }
   ],
   "source": [
    "print(ica_matrix[ica_matrix['n_components']==2])"
   ]
  },
  {
   "cell_type": "code",
   "execution_count": 65,
   "metadata": {
    "scrolled": true
   },
   "outputs": [
    {
     "data": {
      "image/png": "[encoded data removed]",
      "text/plain": [
       "<Figure size 432x288 with 1 Axes>"
      ]
     },
     "metadata": {
      "needs_background": "light"
     },
     "output_type": "display_data"
    }
   ],
   "source": [
    "plot_line(range(2,10), ica_matrix[ica_matrix['n_components']==2]['RMSE'],'Number of Clusters Vs RMSE','ICA RMSE','Number of Clusters')"
   ]
  },
  {
   "cell_type": "code",
   "execution_count": 66,
   "metadata": {},
   "outputs": [
    {
     "name": "stdout",
     "output_type": "stream",
     "text": [
      "   Clusters       Normal       DR_dt     pca_rmse  ica_rmse\n",
      "0         2  1174.763307  355.548298  1046.026114  1.249382\n",
      "1         3  1151.991102  312.887854  1020.478979  0.681819\n",
      "2         4  1138.520102  291.344167  1007.459555  0.553371\n",
      "3         5  1119.014023  270.522349   988.139608  0.433855\n",
      "4         6  1105.464971  252.638504   970.456893  0.359930\n",
      "5         7  1091.819365  239.432844   959.840802  0.313101\n",
      "6         8  1079.874151  227.551316   944.190059  0.275792\n",
      "7         9  1064.634187  218.420779   922.107053  0.249224\n"
     ]
    }
   ],
   "source": [
    "# adding ica rmse in DF with other RMSEs\n",
    "add_column(kmeans_comparision,'ica_rmse', ica_matrix[ica_matrix['n_components']==2]['RMSE'])\n",
    "print(kmeans_comparision)"
   ]
  },
  {
   "cell_type": "markdown",
   "metadata": {},
   "source": [
    "# Dimenssionality Reduction: Randomized Projection"
   ]
  },
  {
   "cell_type": "code",
   "execution_count": 67,
   "metadata": {},
   "outputs": [],
   "source": [
    "# using gaussian random projection to reduce dimmension of dataset and testing with k-means to find optinal n_components\n",
    "from sklearn.random_projection import GaussianRandomProjection\n",
    "\n",
    "transformer = GaussianRandomProjection()\n",
    "kmeans = KMeans()\n",
    "\n",
    "n_comp = []\n",
    "n_clust = []\n",
    "grp_rmse = []\n",
    "\n",
    "for n in range(2,14):\n",
    "    transformer.set_params(n_components = n)\n",
    "    X_grp = transformer.fit_transform(X)\n",
    "    for k in range(2,10):\n",
    "        kmeans.set_params(n_clusters = k)\n",
    "        kmeans.fit(X_grp)\n",
    "        n_comp.append(n)\n",
    "        n_clust.append(k)\n",
    "        grp_rmse.append(kmeans.inertia_)"
   ]
  },
  {
   "cell_type": "code",
   "execution_count": 68,
   "metadata": {},
   "outputs": [],
   "source": [
    "grp_matrix = pd.DataFrame({'n_components':n_comp, 'n_clusters':n_clust, 'RMSE':grp_rmse})"
   ]
  },
  {
   "cell_type": "code",
   "execution_count": 70,
   "metadata": {},
   "outputs": [
    {
     "name": "stdout",
     "output_type": "stream",
     "text": [
      "    n_components  n_clusters          RMSE\n",
      "7              2           9  2.379504e+05\n",
      "6              2           8  2.720400e+05\n",
      "5              2           7  3.060825e+05\n",
      "4              2           6  3.440967e+05\n",
      "3              2           5  3.868899e+05\n",
      "..           ...         ...           ...\n",
      "89            13           3  1.318428e+06\n",
      "40             7           2  1.319705e+06\n",
      "56             9           2  1.384631e+06\n",
      "88            13           2  1.428037e+06\n",
      "48             8           2  1.433023e+06\n",
      "\n",
      "[96 rows x 3 columns]\n"
     ]
    }
   ],
   "source": [
    "print(grp_matrix.sort_values('RMSE'))"
   ]
  },
  {
   "cell_type": "code",
   "execution_count": 71,
   "metadata": {},
   "outputs": [
    {
     "name": "stdout",
     "output_type": "stream",
     "text": [
      "   n_components  n_clusters           RMSE\n",
      "0             2           2  700651.503778\n",
      "1             2           3  541806.493571\n",
      "2             2           4  447718.404144\n",
      "3             2           5  386889.900157\n",
      "4             2           6  344096.696262\n",
      "5             2           7  306082.527077\n",
      "6             2           8  272040.040080\n",
      "7             2           9  237950.389466\n"
     ]
    }
   ],
   "source": [
    "# from above matrix it can be seen rmse is minimum for n_components = 2\n",
    "print(grp_matrix[grp_matrix['n_components'] == 2])"
   ]
  },
  {
   "cell_type": "code",
   "execution_count": 72,
   "metadata": {},
   "outputs": [
    {
     "data": {
      "image/png": "[encoded data removed]",
      "text/plain": [
       "<Figure size 432x288 with 1 Axes>"
      ]
     },
     "metadata": {
      "needs_background": "light"
     },
     "output_type": "display_data"
    }
   ],
   "source": [
    "plot_line(range(2,10), grp_matrix[grp_matrix['n_components'] == 2]['RMSE'],'Number of Clusters Vs RMSE','GRP RMSE','Number of Clusters')"
   ]
  },
  {
   "cell_type": "code",
   "execution_count": 73,
   "metadata": {},
   "outputs": [
    {
     "name": "stdout",
     "output_type": "stream",
     "text": [
      "   Clusters       Normal       DR_dt     pca_rmse  ica_rmse       grp_rmse\n",
      "0         2  1174.763307  355.548298  1046.026114  1.249382  700651.503778\n",
      "1         3  1151.991102  312.887854  1020.478979  0.681819  541806.493571\n",
      "2         4  1138.520102  291.344167  1007.459555  0.553371  447718.404144\n",
      "3         5  1119.014023  270.522349   988.139608  0.433855  386889.900157\n",
      "4         6  1105.464971  252.638504   970.456893  0.359930  344096.696262\n",
      "5         7  1091.819365  239.432844   959.840802  0.313101  306082.527077\n",
      "6         8  1079.874151  227.551316   944.190059  0.275792  272040.040080\n",
      "7         9  1064.634187  218.420779   922.107053  0.249224  237950.389466\n"
     ]
    }
   ],
   "source": [
    "# adding GRP rmse in DF with other RMSEs\n",
    "add_column(kmeans_comparision,'grp_rmse', grp_matrix[grp_matrix['n_components'] == 2]['RMSE'])\n",
    "print(kmeans_comparision)"
   ]
  },
  {
   "cell_type": "markdown",
   "metadata": {},
   "source": [
    "# Task 4: Training Neural Network"
   ]
  },
  {
   "cell_type": "code",
   "execution_count": 74,
   "metadata": {},
   "outputs": [],
   "source": [
    "# creating a neural network running function\n",
    "from sklearn.neural_network import MLPClassifier\n",
    "\n",
    "def run_nn(X_train, X_test, y_train,y_test):\n",
    "    nn_clf = MLPClassifier()\n",
    "    nn_clf.fit(X_train,y_train)\n",
    "    training_accuracy = nn_clf.score(X_train,y_train)\n",
    "    test_accuracy = nn_clf.score(X_test,y_test)\n",
    "    return(training_accuracy,test_accuracy)\n",
    "    "
   ]
  },
  {
   "cell_type": "code",
   "execution_count": 75,
   "metadata": {},
   "outputs": [
    {
     "name": "stdout",
     "output_type": "stream",
     "text": [
      "(32561, 45) (22792, 45) (9769, 45)\n"
     ]
    }
   ],
   "source": [
    "# training and testing accuracy for normal data (w/o any dimensionality reduction)\n",
    "from sklearn.model_selection import train_test_split\n",
    "\n",
    "X_train, X_test, y_train,y_test = train_test_split(X,y,test_size = 0.3)\n",
    "\n",
    "print(X.shape, X_train.shape, X_test.shape)"
   ]
  },
  {
   "cell_type": "code",
   "execution_count": 76,
   "metadata": {},
   "outputs": [
    {
     "name": "stdout",
     "output_type": "stream",
     "text": [
      "(0.892023517023517, 0.8456341488381616)\n"
     ]
    },
    {
     "name": "stderr",
     "output_type": "stream",
     "text": [
      "C:\\Users\\asus\\Anaconda3\\lib\\site-packages\\sklearn\\neural_network\\multilayer_perceptron.py:566: ConvergenceWarning: Stochastic Optimizer: Maximum iterations (200) reached and the optimization hasn't converged yet.\n",
      "  % self.max_iter, ConvergenceWarning)\n"
     ]
    }
   ],
   "source": [
    "print(run_nn(X_train, X_test, y_train,y_test))"
   ]
  },
  {
   "cell_type": "code",
   "execution_count": 78,
   "metadata": {},
   "outputs": [
    {
     "name": "stdout",
     "output_type": "stream",
     "text": [
      "(22792, 5) (9769, 5)\n"
     ]
    }
   ],
   "source": [
    "# training and testing data set for feature selected through decision tree \n",
    "X_train_dt = X_train[['marital-status_Married-civ-spouse','fnlwgt','education-num','age','capital-gain']]\n",
    "X_test_dt = X_test[['marital-status_Married-civ-spouse','fnlwgt','education-num','age','capital-gain']]\n",
    "print(X_train_dt.shape, X_test_dt.shape)"
   ]
  },
  {
   "cell_type": "code",
   "execution_count": 79,
   "metadata": {},
   "outputs": [
    {
     "name": "stdout",
     "output_type": "stream",
     "text": [
      "(22792, 28) (9769, 28)\n"
     ]
    }
   ],
   "source": [
    "# training and testing data for feature selected through PCA\n",
    "X_train_pca = pca.transform(X_train)\n",
    "X_test_pca = pca.transform(X_test)\n",
    "print(X_train_pca.shape, X_test_pca.shape)"
   ]
  },
  {
   "cell_type": "code",
   "execution_count": 80,
   "metadata": {},
   "outputs": [],
   "source": [
    "# training and testing data for feature transformed through ICA\n",
    "ica.set_params(n_components = 2)\n",
    "X_train_ica = ica.fit_transform(X_train)\n",
    "X_test_ica = ica.transform(X_test)"
   ]
  },
  {
   "cell_type": "code",
   "execution_count": 81,
   "metadata": {},
   "outputs": [],
   "source": [
    "# traing and testing data for feature transformed through GRP\n",
    "transformer.set_params(n_components = 2)\n",
    "X_train_grp = transformer.fit_transform(X_train)\n",
    "X_testr_grp = transformer.transform(X_test)"
   ]
  },
  {
   "cell_type": "code",
   "execution_count": 82,
   "metadata": {},
   "outputs": [
    {
     "name": "stderr",
     "output_type": "stream",
     "text": [
      "C:\\Users\\asus\\Anaconda3\\lib\\site-packages\\sklearn\\neural_network\\multilayer_perceptron.py:566: ConvergenceWarning: Stochastic Optimizer: Maximum iterations (200) reached and the optimization hasn't converged yet.\n",
      "  % self.max_iter, ConvergenceWarning)\n",
      "C:\\Users\\asus\\Anaconda3\\lib\\site-packages\\sklearn\\neural_network\\multilayer_perceptron.py:566: ConvergenceWarning: Stochastic Optimizer: Maximum iterations (200) reached and the optimization hasn't converged yet.\n",
      "  % self.max_iter, ConvergenceWarning)\n"
     ]
    }
   ],
   "source": [
    "# running above different training and testing dataset through NN\n",
    "X_train_lst = [X_train,X_train_dt, X_train_pca, X_train_ica, X_train_grp]\n",
    "X_test_lst = [X_test, X_test_dt, X_test_pca, X_test_ica, X_testr_grp]\n",
    "\n",
    "train_accu = []\n",
    "test_accu = []\n",
    "\n",
    "for i in range(5):\n",
    "    nn_accu = run_nn(X_train_lst[i],X_test_lst[i],y_train,y_test)\n",
    "    train_accu.append(nn_accu[0])\n",
    "    test_accu.append(nn_accu[1])"
   ]
  },
  {
   "cell_type": "code",
   "execution_count": 83,
   "metadata": {},
   "outputs": [
    {
     "name": "stdout",
     "output_type": "stream",
     "text": [
      "                                Method  Train Accuracy  Test Accuracy\n",
      "0                    No Transformation        0.892287       0.845122\n",
      "1     Fearure Selection: Decision Tree        0.845823       0.845327\n",
      "2                                  PCA        0.876887       0.852288\n",
      "3                                  ICA        0.787206       0.788310\n",
      "4  RP - Gaussian Randmized Projections        0.760574       0.765073\n"
     ]
    }
   ],
   "source": [
    "# result comparision for transformed data\n",
    "methodology = ['No Transformation','Fearure Selection: Decision Tree', 'PCA','ICA','RP - Gaussian Randmized Projections']\n",
    "\n",
    "nn_results_comparision = pd.DataFrame({'Method': methodology,'Train Accuracy':train_accu, 'Test Accuracy':test_accu})\n",
    "print(nn_results_comparision)"
   ]
  },
  {
   "cell_type": "markdown",
   "metadata": {},
   "source": [
    "# Task 5: applying neural network on clustering outcome"
   ]
  },
  {
   "cell_type": "code",
   "execution_count": 91,
   "metadata": {},
   "outputs": [
    {
     "name": "stdout",
     "output_type": "stream",
     "text": [
      "[0 1 0 2 2]\n"
     ]
    }
   ],
   "source": [
    "clust.set_params(n_clusters = 3)\n",
    "y_predict = clust.fit_predict(X)\n",
    "print(y_predict[:5])"
   ]
  },
  {
   "cell_type": "code",
   "execution_count": 92,
   "metadata": {},
   "outputs": [
    {
     "name": "stdout",
     "output_type": "stream",
     "text": [
      "(0.7598718848718848, 0.7576005732418876)\n"
     ]
    }
   ],
   "source": [
    "#running NN on clustering output\n",
    "\n",
    "X_train, X_test, y_train,y_test = train_test_split(y_predict,y,test_size = 0.3)\n",
    "\n",
    "print(run_nn(X_train.reshape(-1,1),X_test.reshape(-1,1),y_train,y_test))"
   ]
  },
  {
   "cell_type": "code",
   "execution_count": null,
   "metadata": {},
   "outputs": [],
   "source": []
  },
  {
   "cell_type": "code",
   "execution_count": null,
   "metadata": {},
   "outputs": [],
   "source": []
  },
  {
   "cell_type": "code",
   "execution_count": null,
   "metadata": {},
   "outputs": [],
   "source": []
  },
  {
   "cell_type": "code",
   "execution_count": null,
   "metadata": {},
   "outputs": [],
   "source": []
  }
 ],
 "metadata": {
  "kernelspec": {
   "display_name": "Python 3",
   "language": "python",
   "name": "python3"
  },
  "language_info": {
   "codemirror_mode": {
    "name": "ipython",
    "version": 3
   },
   "file_extension": ".py",
   "mimetype": "text/x-python",
   "name": "python",
   "nbconvert_exporter": "python",
   "pygments_lexer": "ipython3",
   "version": "3.7.4"
  }
 },
 "nbformat": 4,
 "nbformat_minor": 2
}
