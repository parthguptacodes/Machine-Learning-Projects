{
 "cells": [
  {
   "cell_type": "code",
   "execution_count": 93,
   "metadata": {},
   "outputs": [
    {
     "name": "stdout",
     "output_type": "stream",
     "text": [
      "   MWG  NWG  KWG  MDIMC  NDIMC  MDIMA  NDIMB  KWI  VWM  VWN  STRM  STRN  SA  \\\n",
      "0   16   16   16      8      8      8      8    2    1    1     0     0   0   \n",
      "1   16   16   16      8      8      8      8    2    1    1     0     0   0   \n",
      "2   16   16   16      8      8      8      8    2    1    1     0     0   1   \n",
      "3   16   16   16      8      8      8      8    2    1    1     0     0   1   \n",
      "4   16   16   16      8      8      8      8    2    1    1     0     1   0   \n",
      "\n",
      "   SB  Run1 (ms)  Run2 (ms)  Run3 (ms)  Run4 (ms)  \n",
      "0   0     115.26     115.87     118.55     115.80  \n",
      "1   1      78.13      78.25      79.25      79.19  \n",
      "2   0      79.84      80.69      80.76      80.97  \n",
      "3   1      84.32      89.90      86.75      85.58  \n",
      "4   0     115.13     121.98     122.73     114.81  \n"
     ]
    }
   ],
   "source": [
    "# importing data\n",
    "import pandas as pd\n",
    "import numpy as np\n",
    "np.random_state = 42\n",
    "data = pd.read_csv('D:/MSBA/10 Applied Machine Learning/assignment/1/sgemm_product_dataset/sgemm_product.csv')\n",
    "print(data.head())"
   ]
  },
  {
   "cell_type": "code",
   "execution_count": 94,
   "metadata": {},
   "outputs": [
    {
     "name": "stdout",
     "output_type": "stream",
     "text": [
      "   Run1 (ms)  Run2 (ms)  Run3 (ms)  Run4 (ms)  av_run\n",
      "0     115.26     115.87     118.55     115.80  116.37\n",
      "1      78.13      78.25      79.25      79.19   78.70\n",
      "2      79.84      80.69      80.76      80.97   80.56\n",
      "3      84.32      89.90      86.75      85.58   86.64\n",
      "4     115.13     121.98     122.73     114.81  118.66\n"
     ]
    }
   ],
   "source": [
    "# creating target variable (average of 4 runtime)\n",
    "data['av_run'] = data[['Run1 (ms)','Run2 (ms)','Run3 (ms)','Run4 (ms)']].mean(axis = 1).round(2)\n",
    "print(data[['Run1 (ms)', 'Run2 (ms)','Run3 (ms)', 'Run4 (ms)','av_run']].head())"
   ]
  },
  {
   "cell_type": "code",
   "execution_count": 95,
   "metadata": {},
   "outputs": [
    {
     "data": {
      "text/plain": [
       "Index(['MWG', 'NWG', 'KWG', 'MDIMC', 'NDIMC', 'MDIMA', 'NDIMB', 'KWI', 'VWM',\n",
       "       'VWN', 'STRM', 'STRN', 'SA', 'SB', 'av_run'],\n",
       "      dtype='object')"
      ]
     },
     "execution_count": 95,
     "metadata": {},
     "output_type": "execute_result"
    }
   ],
   "source": [
    "# dropping 4 obselete run columns\n",
    "data.drop(columns=['Run1 (ms)', 'Run2 (ms)','Run3 (ms)', 'Run4 (ms)'], inplace = True)\n",
    "data.columns"
   ]
  },
  {
   "cell_type": "code",
   "execution_count": 96,
   "metadata": {},
   "outputs": [
    {
     "name": "stdout",
     "output_type": "stream",
     "text": [
      "   av_run  av_run_binary\n",
      "0  116.37              1\n",
      "1   78.70              1\n",
      "2   80.56              1\n",
      "3   86.64              1\n",
      "4  118.66              1\n"
     ]
    }
   ],
   "source": [
    "# converting av_run into binary variable\n",
    "import numpy as np\n",
    "y_median = np.median(data['av_run'])\n",
    "data['av_run_binary'] = [1 if i > y_median else 0 for i in data['av_run']]\n",
    "print(data[['av_run','av_run_binary']].head())"
   ]
  },
  {
   "cell_type": "code",
   "execution_count": 97,
   "metadata": {},
   "outputs": [
    {
     "name": "stdout",
     "output_type": "stream",
     "text": [
      "(241600, 14)\n"
     ]
    }
   ],
   "source": [
    "# creating X and y varible from data\n",
    "X = data.iloc[:,:-2]\n",
    "y = data.iloc[:,-1]\n",
    "print(X.shape)"
   ]
  },
  {
   "cell_type": "code",
   "execution_count": 98,
   "metadata": {},
   "outputs": [
    {
     "name": "stdout",
     "output_type": "stream",
     "text": [
      "(169120, 14)\n"
     ]
    }
   ],
   "source": [
    "# dividing the data into train and test datsets\n",
    "from sklearn.model_selection import train_test_split\n",
    "X_train, X_test, y_train, y_test = train_test_split(X,y, test_size = 0.3)\n",
    "print(X_train.shape)"
   ]
  },
  {
   "cell_type": "code",
   "execution_count": 30,
   "metadata": {},
   "outputs": [
    {
     "name": "stdout",
     "output_type": "stream",
     "text": [
      "training accuracy:  0.9762831125827814\n",
      "testing accuracy:  0.9747654525386313\n"
     ]
    }
   ],
   "source": [
    "# training newral network on training dataset\n",
    "import numpy as np\n",
    "from sklearn.neural_network import MLPClassifier\n",
    "np.random_state = 42\n",
    "\n",
    "nn_clf = MLPClassifier()\n",
    "nn_clf.fit(X_train,y_train)\n",
    "print(\"training accuracy: \", nn_clf.score(X_train,y_train))\n",
    "print(\"testing accuracy: \", nn_clf.score(X_test,y_test))"
   ]
  },
  {
   "cell_type": "code",
   "execution_count": 16,
   "metadata": {
    "scrolled": false
   },
   "outputs": [
    {
     "data": {
      "text/plain": [
       "{'activation': 'relu',\n",
       " 'alpha': 0.0001,\n",
       " 'batch_size': 'auto',\n",
       " 'beta_1': 0.9,\n",
       " 'beta_2': 0.999,\n",
       " 'early_stopping': False,\n",
       " 'epsilon': 1e-08,\n",
       " 'hidden_layer_sizes': (100,),\n",
       " 'learning_rate': 'constant',\n",
       " 'learning_rate_init': 0.001,\n",
       " 'max_iter': 200,\n",
       " 'momentum': 0.9,\n",
       " 'n_iter_no_change': 10,\n",
       " 'nesterovs_momentum': True,\n",
       " 'power_t': 0.5,\n",
       " 'random_state': None,\n",
       " 'shuffle': True,\n",
       " 'solver': 'adam',\n",
       " 'tol': 0.0001,\n",
       " 'validation_fraction': 0.1,\n",
       " 'verbose': False,\n",
       " 'warm_start': False}"
      ]
     },
     "execution_count": 16,
     "metadata": {},
     "output_type": "execute_result"
    }
   ],
   "source": [
    "nn_clf.get_params()"
   ]
  },
  {
   "cell_type": "markdown",
   "metadata": {},
   "source": [
    "# Neural Net"
   ]
  },
  {
   "cell_type": "code",
   "execution_count": 108,
   "metadata": {},
   "outputs": [
    {
     "name": "stderr",
     "output_type": "stream",
     "text": [
      "C:\\Users\\asus\\Anaconda3\\lib\\site-packages\\sklearn\\model_selection\\_split.py:1978: FutureWarning: The default value of cv will change from 3 to 5 in version 0.22. Specify it explicitly to silence this warning.\n",
      "  warnings.warn(CV_WARNING, FutureWarning)\n",
      "C:\\Users\\asus\\Anaconda3\\lib\\site-packages\\sklearn\\neural_network\\multilayer_perceptron.py:566: ConvergenceWarning: Stochastic Optimizer: Maximum iterations (200) reached and the optimization hasn't converged yet.\n",
      "  % self.max_iter, ConvergenceWarning)\n",
      "C:\\Users\\asus\\Anaconda3\\lib\\site-packages\\sklearn\\neural_network\\multilayer_perceptron.py:566: ConvergenceWarning: Stochastic Optimizer: Maximum iterations (200) reached and the optimization hasn't converged yet.\n",
      "  % self.max_iter, ConvergenceWarning)\n",
      "C:\\Users\\asus\\Anaconda3\\lib\\site-packages\\sklearn\\neural_network\\multilayer_perceptron.py:566: ConvergenceWarning: Stochastic Optimizer: Maximum iterations (200) reached and the optimization hasn't converged yet.\n",
      "  % self.max_iter, ConvergenceWarning)\n",
      "C:\\Users\\asus\\Anaconda3\\lib\\site-packages\\sklearn\\neural_network\\multilayer_perceptron.py:566: ConvergenceWarning: Stochastic Optimizer: Maximum iterations (200) reached and the optimization hasn't converged yet.\n",
      "  % self.max_iter, ConvergenceWarning)\n",
      "C:\\Users\\asus\\Anaconda3\\lib\\site-packages\\sklearn\\neural_network\\multilayer_perceptron.py:566: ConvergenceWarning: Stochastic Optimizer: Maximum iterations (200) reached and the optimization hasn't converged yet.\n",
      "  % self.max_iter, ConvergenceWarning)\n",
      "C:\\Users\\asus\\Anaconda3\\lib\\site-packages\\sklearn\\neural_network\\multilayer_perceptron.py:566: ConvergenceWarning: Stochastic Optimizer: Maximum iterations (200) reached and the optimization hasn't converged yet.\n",
      "  % self.max_iter, ConvergenceWarning)\n",
      "C:\\Users\\asus\\Anaconda3\\lib\\site-packages\\sklearn\\neural_network\\multilayer_perceptron.py:566: ConvergenceWarning: Stochastic Optimizer: Maximum iterations (200) reached and the optimization hasn't converged yet.\n",
      "  % self.max_iter, ConvergenceWarning)\n",
      "C:\\Users\\asus\\Anaconda3\\lib\\site-packages\\sklearn\\neural_network\\multilayer_perceptron.py:566: ConvergenceWarning: Stochastic Optimizer: Maximum iterations (200) reached and the optimization hasn't converged yet.\n",
      "  % self.max_iter, ConvergenceWarning)\n",
      "C:\\Users\\asus\\Anaconda3\\lib\\site-packages\\sklearn\\neural_network\\multilayer_perceptron.py:566: ConvergenceWarning: Stochastic Optimizer: Maximum iterations (200) reached and the optimization hasn't converged yet.\n",
      "  % self.max_iter, ConvergenceWarning)\n",
      "C:\\Users\\asus\\Anaconda3\\lib\\site-packages\\sklearn\\neural_network\\multilayer_perceptron.py:566: ConvergenceWarning: Stochastic Optimizer: Maximum iterations (200) reached and the optimization hasn't converged yet.\n",
      "  % self.max_iter, ConvergenceWarning)\n",
      "C:\\Users\\asus\\Anaconda3\\lib\\site-packages\\sklearn\\neural_network\\multilayer_perceptron.py:566: ConvergenceWarning: Stochastic Optimizer: Maximum iterations (200) reached and the optimization hasn't converged yet.\n",
      "  % self.max_iter, ConvergenceWarning)\n"
     ]
    },
    {
     "data": {
      "text/html": [
       "<div>\n",
       "<style scoped>\n",
       "    .dataframe tbody tr th:only-of-type {\n",
       "        vertical-align: middle;\n",
       "    }\n",
       "\n",
       "    .dataframe tbody tr th {\n",
       "        vertical-align: top;\n",
       "    }\n",
       "\n",
       "    .dataframe thead th {\n",
       "        text-align: right;\n",
       "    }\n",
       "</style>\n",
       "<table border=\"1\" class=\"dataframe\">\n",
       "  <thead>\n",
       "    <tr style=\"text-align: right;\">\n",
       "      <th></th>\n",
       "      <th>mean_fit_time</th>\n",
       "      <th>std_fit_time</th>\n",
       "      <th>mean_score_time</th>\n",
       "      <th>std_score_time</th>\n",
       "      <th>param_activation</th>\n",
       "      <th>param_hidden_layer_sizes</th>\n",
       "      <th>params</th>\n",
       "      <th>split0_test_score</th>\n",
       "      <th>split1_test_score</th>\n",
       "      <th>split2_test_score</th>\n",
       "      <th>mean_test_score</th>\n",
       "      <th>std_test_score</th>\n",
       "      <th>rank_test_score</th>\n",
       "    </tr>\n",
       "  </thead>\n",
       "  <tbody>\n",
       "    <tr>\n",
       "      <td>0</td>\n",
       "      <td>67.864222</td>\n",
       "      <td>0.660787</td>\n",
       "      <td>0.093714</td>\n",
       "      <td>0.012757</td>\n",
       "      <td>logistic</td>\n",
       "      <td>(100,)</td>\n",
       "      <td>{'activation': 'logistic', 'hidden_layer_sizes...</td>\n",
       "      <td>0.980417</td>\n",
       "      <td>0.976816</td>\n",
       "      <td>0.981303</td>\n",
       "      <td>0.979512</td>\n",
       "      <td>0.001940</td>\n",
       "      <td>2</td>\n",
       "    </tr>\n",
       "    <tr>\n",
       "      <td>1</td>\n",
       "      <td>51.613838</td>\n",
       "      <td>0.438643</td>\n",
       "      <td>0.062485</td>\n",
       "      <td>0.012755</td>\n",
       "      <td>logistic</td>\n",
       "      <td>(50,)</td>\n",
       "      <td>{'activation': 'logistic', 'hidden_layer_sizes...</td>\n",
       "      <td>0.976141</td>\n",
       "      <td>0.976496</td>\n",
       "      <td>0.975608</td>\n",
       "      <td>0.976082</td>\n",
       "      <td>0.000365</td>\n",
       "      <td>6</td>\n",
       "    </tr>\n",
       "    <tr>\n",
       "      <td>2</td>\n",
       "      <td>81.682018</td>\n",
       "      <td>13.256110</td>\n",
       "      <td>0.104155</td>\n",
       "      <td>0.014722</td>\n",
       "      <td>logistic</td>\n",
       "      <td>(50, 50)</td>\n",
       "      <td>{'activation': 'logistic', 'hidden_layer_sizes...</td>\n",
       "      <td>0.975538</td>\n",
       "      <td>0.973676</td>\n",
       "      <td>0.977719</td>\n",
       "      <td>0.975645</td>\n",
       "      <td>0.001653</td>\n",
       "      <td>7</td>\n",
       "    </tr>\n",
       "    <tr>\n",
       "      <td>3</td>\n",
       "      <td>55.303235</td>\n",
       "      <td>2.161889</td>\n",
       "      <td>0.072900</td>\n",
       "      <td>0.007364</td>\n",
       "      <td>tanh</td>\n",
       "      <td>(100,)</td>\n",
       "      <td>{'activation': 'tanh', 'hidden_layer_sizes': (...</td>\n",
       "      <td>0.979299</td>\n",
       "      <td>0.976975</td>\n",
       "      <td>0.980522</td>\n",
       "      <td>0.978932</td>\n",
       "      <td>0.001471</td>\n",
       "      <td>3</td>\n",
       "    </tr>\n",
       "    <tr>\n",
       "      <td>4</td>\n",
       "      <td>31.801566</td>\n",
       "      <td>6.100629</td>\n",
       "      <td>0.031244</td>\n",
       "      <td>0.000001</td>\n",
       "      <td>tanh</td>\n",
       "      <td>(50,)</td>\n",
       "      <td>{'activation': 'tanh', 'hidden_layer_sizes': (...</td>\n",
       "      <td>0.969170</td>\n",
       "      <td>0.972097</td>\n",
       "      <td>0.973781</td>\n",
       "      <td>0.971683</td>\n",
       "      <td>0.001905</td>\n",
       "      <td>8</td>\n",
       "    </tr>\n",
       "    <tr>\n",
       "      <td>5</td>\n",
       "      <td>58.165009</td>\n",
       "      <td>14.451319</td>\n",
       "      <td>0.078001</td>\n",
       "      <td>0.012754</td>\n",
       "      <td>tanh</td>\n",
       "      <td>(50, 50)</td>\n",
       "      <td>{'activation': 'tanh', 'hidden_layer_sizes': (...</td>\n",
       "      <td>0.976975</td>\n",
       "      <td>0.979388</td>\n",
       "      <td>0.978642</td>\n",
       "      <td>0.978335</td>\n",
       "      <td>0.001009</td>\n",
       "      <td>4</td>\n",
       "    </tr>\n",
       "    <tr>\n",
       "      <td>6</td>\n",
       "      <td>82.053280</td>\n",
       "      <td>25.646388</td>\n",
       "      <td>0.166628</td>\n",
       "      <td>0.007364</td>\n",
       "      <td>relu</td>\n",
       "      <td>(100,)</td>\n",
       "      <td>{'activation': 'relu', 'hidden_layer_sizes': (...</td>\n",
       "      <td>0.977986</td>\n",
       "      <td>0.975804</td>\n",
       "      <td>0.975928</td>\n",
       "      <td>0.976573</td>\n",
       "      <td>0.001001</td>\n",
       "      <td>5</td>\n",
       "    </tr>\n",
       "    <tr>\n",
       "      <td>7</td>\n",
       "      <td>56.888117</td>\n",
       "      <td>13.855135</td>\n",
       "      <td>0.072888</td>\n",
       "      <td>0.007355</td>\n",
       "      <td>relu</td>\n",
       "      <td>(50,)</td>\n",
       "      <td>{'activation': 'relu', 'hidden_layer_sizes': (...</td>\n",
       "      <td>0.969277</td>\n",
       "      <td>0.969951</td>\n",
       "      <td>0.973728</td>\n",
       "      <td>0.970985</td>\n",
       "      <td>0.001959</td>\n",
       "      <td>9</td>\n",
       "    </tr>\n",
       "    <tr>\n",
       "      <td>8</td>\n",
       "      <td>155.791527</td>\n",
       "      <td>2.159060</td>\n",
       "      <td>0.218797</td>\n",
       "      <td>0.012755</td>\n",
       "      <td>relu</td>\n",
       "      <td>(50, 50)</td>\n",
       "      <td>{'activation': 'relu', 'hidden_layer_sizes': (...</td>\n",
       "      <td>0.981126</td>\n",
       "      <td>0.979033</td>\n",
       "      <td>0.984141</td>\n",
       "      <td>0.981433</td>\n",
       "      <td>0.002097</td>\n",
       "      <td>1</td>\n",
       "    </tr>\n",
       "  </tbody>\n",
       "</table>\n",
       "</div>"
      ],
      "text/plain": [
       "   mean_fit_time  std_fit_time  mean_score_time  std_score_time  \\\n",
       "0      67.864222      0.660787         0.093714        0.012757   \n",
       "1      51.613838      0.438643         0.062485        0.012755   \n",
       "2      81.682018     13.256110         0.104155        0.014722   \n",
       "3      55.303235      2.161889         0.072900        0.007364   \n",
       "4      31.801566      6.100629         0.031244        0.000001   \n",
       "5      58.165009     14.451319         0.078001        0.012754   \n",
       "6      82.053280     25.646388         0.166628        0.007364   \n",
       "7      56.888117     13.855135         0.072888        0.007355   \n",
       "8     155.791527      2.159060         0.218797        0.012755   \n",
       "\n",
       "  param_activation param_hidden_layer_sizes  \\\n",
       "0         logistic                   (100,)   \n",
       "1         logistic                    (50,)   \n",
       "2         logistic                 (50, 50)   \n",
       "3             tanh                   (100,)   \n",
       "4             tanh                    (50,)   \n",
       "5             tanh                 (50, 50)   \n",
       "6             relu                   (100,)   \n",
       "7             relu                    (50,)   \n",
       "8             relu                 (50, 50)   \n",
       "\n",
       "                                              params  split0_test_score  \\\n",
       "0  {'activation': 'logistic', 'hidden_layer_sizes...           0.980417   \n",
       "1  {'activation': 'logistic', 'hidden_layer_sizes...           0.976141   \n",
       "2  {'activation': 'logistic', 'hidden_layer_sizes...           0.975538   \n",
       "3  {'activation': 'tanh', 'hidden_layer_sizes': (...           0.979299   \n",
       "4  {'activation': 'tanh', 'hidden_layer_sizes': (...           0.969170   \n",
       "5  {'activation': 'tanh', 'hidden_layer_sizes': (...           0.976975   \n",
       "6  {'activation': 'relu', 'hidden_layer_sizes': (...           0.977986   \n",
       "7  {'activation': 'relu', 'hidden_layer_sizes': (...           0.969277   \n",
       "8  {'activation': 'relu', 'hidden_layer_sizes': (...           0.981126   \n",
       "\n",
       "   split1_test_score  split2_test_score  mean_test_score  std_test_score  \\\n",
       "0           0.976816           0.981303         0.979512        0.001940   \n",
       "1           0.976496           0.975608         0.976082        0.000365   \n",
       "2           0.973676           0.977719         0.975645        0.001653   \n",
       "3           0.976975           0.980522         0.978932        0.001471   \n",
       "4           0.972097           0.973781         0.971683        0.001905   \n",
       "5           0.979388           0.978642         0.978335        0.001009   \n",
       "6           0.975804           0.975928         0.976573        0.001001   \n",
       "7           0.969951           0.973728         0.970985        0.001959   \n",
       "8           0.979033           0.984141         0.981433        0.002097   \n",
       "\n",
       "   rank_test_score  \n",
       "0                2  \n",
       "1                6  \n",
       "2                7  \n",
       "3                3  \n",
       "4                8  \n",
       "5                4  \n",
       "6                5  \n",
       "7                9  \n",
       "8                1  "
      ]
     },
     "execution_count": 108,
     "metadata": {},
     "output_type": "execute_result"
    }
   ],
   "source": [
    "# experimenting with different parameters of neural net classifier\n",
    "from sklearn.model_selection import GridSearchCV\n",
    "\n",
    "parameters = {'activation':['logistic','tanh','relu'], 'hidden_layer_sizes':[(100,),(50,),(50,50)]}\n",
    "nn_clf1 = MLPClassifier()\n",
    "gs_clf = GridSearchCV(nn_clf1, parameters)\n",
    "gs_clf.fit(X_train,y_train)\n",
    "pd.DataFrame(gs_clf.cv_results_)"
   ]
  },
  {
   "cell_type": "code",
   "execution_count": 109,
   "metadata": {},
   "outputs": [
    {
     "name": "stdout",
     "output_type": "stream",
     "text": [
      "{'activation': 'relu', 'hidden_layer_sizes': (50, 50)}\n",
      "0.9814333017975402\n"
     ]
    }
   ],
   "source": [
    "print(gs_clf.best_params_)\n",
    "print(gs_clf.best_score_)"
   ]
  },
  {
   "cell_type": "code",
   "execution_count": 110,
   "metadata": {},
   "outputs": [],
   "source": [
    "nn_params = pd.DataFrame(gs_clf.cv_results_)\n",
    "nn_params.to_csv('D:/MSBA/10 Applied Machine Learning/assignment/3/nn_params.csv')"
   ]
  },
  {
   "cell_type": "code",
   "execution_count": null,
   "metadata": {},
   "outputs": [],
   "source": []
  },
  {
   "cell_type": "code",
   "execution_count": 111,
   "metadata": {
    "scrolled": true
   },
   "outputs": [
    {
     "data": {
      "text/plain": [
       "0.9852097130242825"
      ]
     },
     "execution_count": 111,
     "metadata": {},
     "output_type": "execute_result"
    }
   ],
   "source": [
    "gs_clf.score(X_test,y_test)"
   ]
  },
  {
   "cell_type": "code",
   "execution_count": 112,
   "metadata": {},
   "outputs": [
    {
     "name": "stdout",
     "output_type": "stream",
     "text": [
      "training accuracy:  0.9847386471144749\n",
      "test accuracy:  0.9816777041942605\n"
     ]
    }
   ],
   "source": [
    "# final neural net classifier based on above results\n",
    "final_nn_clf = MLPClassifier(activation = 'relu', hidden_layer_sizes = (50,50))\n",
    "final_nn_clf.fit(X_train,y_train)\n",
    "print('training accuracy: ',final_nn_clf.score(X_train,y_train))\n",
    "print('test accuracy: ', final_nn_clf.score(X_test,y_test))"
   ]
  },
  {
   "cell_type": "code",
   "execution_count": 34,
   "metadata": {},
   "outputs": [
    {
     "name": "stdout",
     "output_type": "stream",
     "text": [
      "(118384, 14)\n",
      "(50736, 14)\n"
     ]
    }
   ],
   "source": [
    "# creating validation set\n",
    "X_train, X_val, y_train, y_val = train_test_split(X_train, y_train, test_size = 0.3)\n",
    "print(X_train.shape)\n",
    "print(X_val.shape)"
   ]
  },
  {
   "cell_type": "code",
   "execution_count": 114,
   "metadata": {},
   "outputs": [
    {
     "name": "stderr",
     "output_type": "stream",
     "text": [
      "C:\\Users\\asus\\Anaconda3\\lib\\site-packages\\sklearn\\neural_network\\multilayer_perceptron.py:566: ConvergenceWarning: Stochastic Optimizer: Maximum iterations (100) reached and the optimization hasn't converged yet.\n",
      "  % self.max_iter, ConvergenceWarning)\n",
      "C:\\Users\\asus\\Anaconda3\\lib\\site-packages\\sklearn\\neural_network\\multilayer_perceptron.py:566: ConvergenceWarning: Stochastic Optimizer: Maximum iterations (150) reached and the optimization hasn't converged yet.\n",
      "  % self.max_iter, ConvergenceWarning)\n"
     ]
    }
   ],
   "source": [
    "# checking change in preformance of neural nets with change in number of iterations\n",
    "train_score, test_score = [],[]\n",
    "\n",
    "num_iter = [100,125,150,175,200,225,250,275,300]\n",
    "\n",
    "for i in num_iter:\n",
    "    final_nn_clf.set_params(max_iter = i)\n",
    "    final_nn_clf.fit(X_train, y_train)\n",
    "    train_score.append(final_nn_clf.score(X_train,y_train))\n",
    "    test_score.append(final_nn_clf.score(X_val,y_val))"
   ]
  },
  {
   "cell_type": "code",
   "execution_count": 116,
   "metadata": {},
   "outputs": [
    {
     "name": "stdout",
     "output_type": "stream",
     "text": [
      "[0.9830002365184485, 0.982639545884579, 0.9833195364238411, 0.9873935666982024, 0.9814983443708609, 0.986802270577105, 0.9836802270577105, 0.9849988174077579, 0.9864829706717124] [0.9813150425733207, 0.9811967833491012, 0.9829509618416903, 0.9856906338694418, 0.9801127404604226, 0.9847445600756859, 0.9823005361084831, 0.9832071901608326, 0.9846854304635762]\n"
     ]
    }
   ],
   "source": [
    "print(train_score, test_score)"
   ]
  },
  {
   "cell_type": "code",
   "execution_count": 121,
   "metadata": {
    "scrolled": false
   },
   "outputs": [
    {
     "data": {
      "text/plain": [
       "([<matplotlib.axis.XTick at 0x1bbab77f9c8>,\n",
       "  <matplotlib.axis.XTick at 0x1bbab77f188>,\n",
       "  <matplotlib.axis.XTick at 0x1bbabd6d688>,\n",
       "  <matplotlib.axis.XTick at 0x1bbabad9f48>,\n",
       "  <matplotlib.axis.XTick at 0x1bbabadd748>,\n",
       "  <matplotlib.axis.XTick at 0x1bbabae10c8>,\n",
       "  <matplotlib.axis.XTick at 0x1bbabae1b08>,\n",
       "  <matplotlib.axis.XTick at 0x1bbabae7608>,\n",
       "  <matplotlib.axis.XTick at 0x1bbabaeb0c8>],\n",
       " <a list of 9 Text xticklabel objects>)"
      ]
     },
     "execution_count": 121,
     "metadata": {},
     "output_type": "execute_result"
    },
    {
     "data": {
      "image/png": "[encoded data removed]",
      "text/plain": [
       "<Figure size 432x288 with 1 Axes>"
      ]
     },
     "metadata": {
      "needs_background": "light"
     },
     "output_type": "display_data"
    }
   ],
   "source": [
    "import matplotlib.pyplot as plt\n",
    "\n",
    "plt.plot(num_iter, [1-i for i in train_score], label = 'Train Error')\n",
    "plt.plot(num_iter, [1-i for i in test_score], label = 'Validation Error')\n",
    "plt.legend()\n",
    "plt.title('Train and Vaidation error vs number of iteration')\n",
    "plt.xlabel('Number of iterations')\n",
    "plt.ylabel('Error')\n",
    "plt.xticks(num_iter)"
   ]
  },
  {
   "cell_type": "code",
   "execution_count": 120,
   "metadata": {},
   "outputs": [
    {
     "data": {
      "text/plain": [
       "0.9811948123620309"
      ]
     },
     "execution_count": 120,
     "metadata": {},
     "output_type": "execute_result"
    }
   ],
   "source": [
    "final_nn_clf.set_params(max_iter = 175)\n",
    "final_nn_clf.fit(X_train, y_train)\n",
    "final_nn_clf.score(X_test, y_test)"
   ]
  },
  {
   "cell_type": "markdown",
   "metadata": {},
   "source": [
    "# KNN"
   ]
  },
  {
   "cell_type": "code",
   "execution_count": 125,
   "metadata": {},
   "outputs": [
    {
     "name": "stdout",
     "output_type": "stream",
     "text": [
      "0.9432809050772627\n"
     ]
    }
   ],
   "source": [
    "knn_clf = KNeighborsClassifier()\n",
    "knn_clf.fit(X_train,y_train)\n",
    "print(knn_clf.score(X_test,y_test))"
   ]
  },
  {
   "cell_type": "code",
   "execution_count": 127,
   "metadata": {},
   "outputs": [
    {
     "data": {
      "text/plain": [
       "{'algorithm': 'auto',\n",
       " 'leaf_size': 30,\n",
       " 'metric': 'minkowski',\n",
       " 'metric_params': None,\n",
       " 'n_jobs': None,\n",
       " 'n_neighbors': 5,\n",
       " 'p': 2,\n",
       " 'weights': 'uniform'}"
      ]
     },
     "execution_count": 127,
     "metadata": {},
     "output_type": "execute_result"
    }
   ],
   "source": [
    "knn_clf.get_params()"
   ]
  },
  {
   "cell_type": "code",
   "execution_count": 99,
   "metadata": {
    "scrolled": true
   },
   "outputs": [
    {
     "name": "stderr",
     "output_type": "stream",
     "text": [
      "C:\\Users\\asus\\Anaconda3\\lib\\site-packages\\sklearn\\model_selection\\_split.py:1978: FutureWarning: The default value of cv will change from 3 to 5 in version 0.22. Specify it explicitly to silence this warning.\n",
      "  warnings.warn(CV_WARNING, FutureWarning)\n"
     ]
    },
    {
     "name": "stdout",
     "output_type": "stream",
     "text": [
      "{'algorithm': 'auto', 'p': 1}\n"
     ]
    }
   ],
   "source": [
    "from sklearn.neighbors import KNeighborsClassifier\n",
    "\n",
    "knn_params = {'p':[1,2,3],'algorithm':['auto', 'ball_tree','kd_tree']}\n",
    "knn_clf = KNeighborsClassifier()\n",
    "knn_gs = GridSearchCV(knn_clf, param_grid = knn_params)\n",
    "knn_gs.fit(X_train,y_train)\n",
    "print(knn_gs.best_params_)"
   ]
  },
  {
   "cell_type": "code",
   "execution_count": 126,
   "metadata": {},
   "outputs": [
    {
     "data": {
      "text/plain": [
       "0.9287547303689688"
      ]
     },
     "execution_count": 126,
     "metadata": {},
     "output_type": "execute_result"
    }
   ],
   "source": [
    "knn_gs.best_score_"
   ]
  },
  {
   "cell_type": "code",
   "execution_count": 123,
   "metadata": {},
   "outputs": [],
   "source": [
    "knn_params = pd.DataFrame(knn_gs.cv_results_)\n",
    "knn_params.to_csv('D:/MSBA/10 Applied Machine Learning/assignment/3/knn_params.csv')"
   ]
  },
  {
   "cell_type": "code",
   "execution_count": 89,
   "metadata": {},
   "outputs": [
    {
     "name": "stdout",
     "output_type": "stream",
     "text": [
      "[0.9569029598594405, 0.9585923773482903, 0.9483291661035275, 0.9399918907960535, 0.9328878902554399, 0.9274902013785646, 0.9225993377483444, 0.9181646168401135, 0.9149969590485201, 0.9129865522367887] [0.9196034374014507, 0.9258317565436771, 0.9229541154210028, 0.9200173446862189, 0.9157797224850205, 0.912409334594765, 0.9088221381267739, 0.9060627562283191, 0.9053926206244087, 0.9042691579943235]\n"
     ]
    }
   ],
   "source": [
    "# checking change in accuracy of knn with change in k\n",
    "knn_train_score, knn_val_score = [],[]\n",
    "\n",
    "final_knn_clf = KNeighborsClassifier(algorithm = 'auto', p = 1)\n",
    "\n",
    "k = [2,4,6,8,10,12,14,16,18,20]\n",
    "\n",
    "for i in k:\n",
    "    final_knn_clf.set_params(n_neighbors = i)\n",
    "    final_knn_clf.fit(X_train, y_train)\n",
    "    knn_train_score.append(final_knn_clf.score(X_train,y_train))\n",
    "    knn_val_score.append(final_knn_clf.score(X_val,y_val))\n",
    "    \n",
    "print(knn_train_score, knn_val_score)"
   ]
  },
  {
   "cell_type": "code",
   "execution_count": 124,
   "metadata": {
    "scrolled": true
   },
   "outputs": [
    {
     "data": {
      "text/plain": [
       "([<matplotlib.axis.XTick at 0x1bbab7709c8>,\n",
       "  <matplotlib.axis.XTick at 0x1bbabb25c48>,\n",
       "  <matplotlib.axis.XTick at 0x1bbabb25808>,\n",
       "  <matplotlib.axis.XTick at 0x1bbabb55e48>,\n",
       "  <matplotlib.axis.XTick at 0x1bbabb5a608>,\n",
       "  <matplotlib.axis.XTick at 0x1bbabb5af08>,\n",
       "  <matplotlib.axis.XTick at 0x1bbabb5f8c8>,\n",
       "  <matplotlib.axis.XTick at 0x1bbabb63348>,\n",
       "  <matplotlib.axis.XTick at 0x1bbabb63e08>,\n",
       "  <matplotlib.axis.XTick at 0x1bbabb67908>],\n",
       " <a list of 10 Text xticklabel objects>)"
      ]
     },
     "execution_count": 124,
     "metadata": {},
     "output_type": "execute_result"
    },
    {
     "data": {
      "image/png": "[encoded data removed]",
      "text/plain": [
       "<Figure size 432x288 with 1 Axes>"
      ]
     },
     "metadata": {
      "needs_background": "light"
     },
     "output_type": "display_data"
    }
   ],
   "source": [
    "plt.plot(k, [1-i for i in knn_train_score], label = 'Train Error')\n",
    "plt.plot(k, [1-i for i in knn_val_score], label = 'Test Error')\n",
    "plt.legend()\n",
    "plt.title('Train and Validation Error Vs Number of Neighbours')\n",
    "plt.xlabel('No of Neighbours')\n",
    "plt.ylabel('Error')\n",
    "plt.xticks(k)"
   ]
  },
  {
   "cell_type": "code",
   "execution_count": 128,
   "metadata": {},
   "outputs": [
    {
     "data": {
      "text/plain": [
       "0.9456677704194261"
      ]
     },
     "execution_count": 128,
     "metadata": {},
     "output_type": "execute_result"
    }
   ],
   "source": [
    "final_knn_clf.set_params(n_neighbors = 5)\n",
    "final_knn_clf.fit(X_train,y_train)\n",
    "final_knn_clf.score(X_test, y_test)"
   ]
  },
  {
   "cell_type": "code",
   "execution_count": null,
   "metadata": {},
   "outputs": [],
   "source": []
  },
  {
   "cell_type": "code",
   "execution_count": null,
   "metadata": {},
   "outputs": [],
   "source": []
  },
  {
   "cell_type": "code",
   "execution_count": null,
   "metadata": {},
   "outputs": [],
   "source": []
  },
  {
   "cell_type": "code",
   "execution_count": null,
   "metadata": {},
   "outputs": [],
   "source": []
  }
 ],
 "metadata": {
  "kernelspec": {
   "display_name": "Python 3",
   "language": "python",
   "name": "python3"
  },
  "language_info": {
   "codemirror_mode": {
    "name": "ipython",
    "version": 3
   },
   "file_extension": ".py",
   "mimetype": "text/x-python",
   "name": "python",
   "nbconvert_exporter": "python",
   "pygments_lexer": "ipython3",
   "version": "3.7.4"
  }
 },
 "nbformat": 4,
 "nbformat_minor": 2
}
