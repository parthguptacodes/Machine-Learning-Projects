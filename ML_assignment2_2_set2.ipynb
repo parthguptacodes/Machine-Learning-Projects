{
 "cells": [
  {
   "cell_type": "code",
   "execution_count": 1,
   "metadata": {
    "scrolled": false
   },
   "outputs": [
    {
     "name": "stdout",
     "output_type": "stream",
     "text": [
      "   age         workclass  fnlwgt  education  education-num  \\\n",
      "0   39         State-gov   77516  Bachelors             13   \n",
      "1   50  Self-emp-not-inc   83311  Bachelors             13   \n",
      "2   38           Private  215646    HS-grad              9   \n",
      "3   53           Private  234721       11th              7   \n",
      "4   28           Private  338409  Bachelors             13   \n",
      "\n",
      "       marital-status         occupation   relationship   race     sex  \\\n",
      "0       Never-married       Adm-clerical  Not-in-family  White    Male   \n",
      "1  Married-civ-spouse    Exec-managerial        Husband  White    Male   \n",
      "2            Divorced  Handlers-cleaners  Not-in-family  White    Male   \n",
      "3  Married-civ-spouse  Handlers-cleaners        Husband  Black    Male   \n",
      "4  Married-civ-spouse     Prof-specialty           Wife  Black  Female   \n",
      "\n",
      "   capital-gain  capital-loss  hours-per-week native-country Income level  \n",
      "0          2174             0              40  United-States        <=50K  \n",
      "1             0             0              13  United-States        <=50K  \n",
      "2             0             0              40  United-States        <=50K  \n",
      "3             0             0              40  United-States        <=50K  \n",
      "4             0             0              40           Cuba        <=50K  \n"
     ]
    }
   ],
   "source": [
    "# importing diabeties data\n",
    "import pandas as pd\n",
    "data = pd.read_csv('D:/MSBA/10 Applied Machine Learning/assignment/2/adult_income.csv')\n",
    "print(data.head())"
   ]
  },
  {
   "cell_type": "code",
   "execution_count": 2,
   "metadata": {},
   "outputs": [
    {
     "data": {
      "text/plain": [
       "(32561, 15)"
      ]
     },
     "execution_count": 2,
     "metadata": {},
     "output_type": "execute_result"
    }
   ],
   "source": [
    "data.shape"
   ]
  },
  {
   "cell_type": "code",
   "execution_count": 3,
   "metadata": {},
   "outputs": [
    {
     "data": {
      "text/plain": [
       "Index(['age', 'fnlwgt', 'education-num', 'capital-gain', 'capital-loss',\n",
       "       'hours-per-week'],\n",
       "      dtype='object')"
      ]
     },
     "execution_count": 3,
     "metadata": {},
     "output_type": "execute_result"
    }
   ],
   "source": [
    "data.select_dtypes('int64').columns"
   ]
  },
  {
   "cell_type": "code",
   "execution_count": 4,
   "metadata": {},
   "outputs": [
    {
     "name": "stdout",
     "output_type": "stream",
     "text": [
      "(32561, 101)\n"
     ]
    }
   ],
   "source": [
    "new_data = pd.get_dummies(data)\n",
    "new_data = new_data.drop(columns = ['workclass_?','education_10th','marital-status_Divorced','occupation_?','relationship_Husband','race_Amer-Indian-Eskimo','sex_Female','native-country_?','Income level_ <=50K'])\n",
    "print(new_data.shape)"
   ]
  },
  {
   "cell_type": "code",
   "execution_count": null,
   "metadata": {},
   "outputs": [],
   "source": []
  },
  {
   "cell_type": "code",
   "execution_count": 5,
   "metadata": {},
   "outputs": [
    {
     "name": "stdout",
     "output_type": "stream",
     "text": [
      "(32561, 100) (32561,)\n"
     ]
    }
   ],
   "source": [
    "# deviding data into features and outcome\n",
    "X = new_data.iloc[:,:-1]\n",
    "y = new_data.iloc[:,-1]\n",
    "print(X.shape, y.shape)"
   ]
  },
  {
   "cell_type": "code",
   "execution_count": null,
   "metadata": {},
   "outputs": [],
   "source": []
  },
  {
   "cell_type": "code",
   "execution_count": 6,
   "metadata": {},
   "outputs": [
    {
     "name": "stdout",
     "output_type": "stream",
     "text": [
      "(22792, 100) (9769, 100)\n"
     ]
    }
   ],
   "source": [
    "# dividing dataset into traing and testing dataset\n",
    "from sklearn.model_selection import train_test_split\n",
    "X_train, X_test, y_train, y_test = train_test_split(X,y, test_size = 0.3)\n",
    "print(X_train.shape, X_test.shape)"
   ]
  },
  {
   "cell_type": "code",
   "execution_count": 7,
   "metadata": {},
   "outputs": [
    {
     "name": "stdout",
     "output_type": "stream",
     "text": [
      "Train accuracy of DT:  [0.8269129732376286, 0.8427408741694137, 0.8485762425025785, 0.8547735948682919, 0.8564298715210382, 0.8596656319487248, 0.8653584853200144, 0.8703712350818618, 0.875570418405976, 0.8816799961381567, 0.8879651074955903, 0.8951825298471053, 0.9032007035157934]\n",
      "Validation accuracy of DT:  [0.8264744078273789, 0.8422254874791191, 0.8479292433585058, 0.8529308214590887, 0.8531503698913804, 0.8526677405448682, 0.854598373401692, 0.8551249201327144, 0.8545106541034464, 0.8526677597899971, 0.8506934019999537, 0.8480608992863907, 0.8443753800912989]\n"
     ]
    }
   ],
   "source": [
    "# fitting decision tree model to predict outcome\n",
    "from sklearn.tree import DecisionTreeClassifier\n",
    "from sklearn.model_selection import cross_validate\n",
    "\n",
    "dt_train_accu, dt_val_accu = [],[]\n",
    "\n",
    "for i in range(2,15):\n",
    "    dt_clf = DecisionTreeClassifier(random_state = 42, max_depth = i)\n",
    "    cv_results = cross_validate(dt_clf, X_train,y_train,scoring = 'accuracy', return_train_score = True, cv = 5)\n",
    "    #print(cv_results)\n",
    "    dt_train_accu.append(cv_results['train_score'].mean())\n",
    "    dt_val_accu.append(cv_results['test_score'].mean())\n",
    "    \n",
    "    \n",
    "print(\"Train accuracy of DT: \", dt_train_accu)\n",
    "print(\"Validation accuracy of DT: \",dt_val_accu)"
   ]
  },
  {
   "cell_type": "code",
   "execution_count": 9,
   "metadata": {},
   "outputs": [
    {
     "data": {
      "image/png": "[encoded data removed]",
      "text/plain": [
       "<Figure size 432x288 with 1 Axes>"
      ]
     },
     "metadata": {
      "needs_background": "light"
     },
     "output_type": "display_data"
    }
   ],
   "source": [
    "# plotting train and validation error with max_depth to finalize hyperparameter\n",
    "import matplotlib.pyplot as plt\n",
    "plt.plot(range(2,15), [1-i for i in dt_train_accu], label = 'Train Error')\n",
    "plt.plot(range(2,15),[1-i for i in dt_val_accu], label = 'Validation Error')\n",
    "plt.legend()\n",
    "plt.xlabel('Max Depth')\n",
    "plt.ylabel('Error')\n",
    "plt.title('Variation of training and validation error with max depth')\n",
    "plt.show()"
   ]
  },
  {
   "cell_type": "code",
   "execution_count": 10,
   "metadata": {},
   "outputs": [
    {
     "name": "stdout",
     "output_type": "stream",
     "text": [
      "test accuracy: 0.8505476507319071\n"
     ]
    }
   ],
   "source": [
    "# creating final tree with max_depth of 5 after analyzing above chart\n",
    "dt_clf_final = DecisionTreeClassifier(random_state = 42, max_depth = 5)\n",
    "dt_clf_final.fit(X_train,y_train)\n",
    "\n",
    "# predicting the accuracy of model with test data set\n",
    "print('test accuracy:', dt_clf_final.score(X_test,y_test))"
   ]
  },
  {
   "cell_type": "code",
   "execution_count": 11,
   "metadata": {
    "scrolled": false
   },
   "outputs": [
    {
     "name": "stdout",
     "output_type": "stream",
     "text": [
      "                               Column  Importance\n",
      "30  marital-status_Married-civ-spouse    0.460458\n",
      "2                       education-num    0.231698\n",
      "3                        capital-gain    0.211376\n",
      "4                        capital-loss    0.070832\n",
      "5                      hours-per-week    0.019297\n"
     ]
    }
   ],
   "source": [
    "# understanding the importance of different features for classification\n",
    "importance = dt_clf_final.feature_importances_\n",
    "\n",
    "col_imp = pd.DataFrame({'Column':X_train.columns, 'Importance':importance})\n",
    "print(col_imp.sort_values('Importance', ascending = False).head())   "
   ]
  },
  {
   "cell_type": "code",
   "execution_count": null,
   "metadata": {},
   "outputs": [],
   "source": []
  },
  {
   "cell_type": "code",
   "execution_count": 20,
   "metadata": {},
   "outputs": [
    {
     "name": "stdout",
     "output_type": "stream",
     "text": [
      "Best Parameter:  {'base_estimator__max_depth': 2, 'n_estimators': 50} Best Score:  0.864031239031239\n"
     ]
    }
   ],
   "source": [
    "# using GridSearchCV to estimate number of estimators and max_depth of decision tree\n",
    "from sklearn.model_selection import GridSearchCV\n",
    "from sklearn.ensemble import AdaBoostClassifier\n",
    "from sklearn.tree import DecisionTreeClassifier\n",
    "\n",
    "ada_clf = AdaBoostClassifier(base_estimator = DecisionTreeClassifier(), random_state = 42)\n",
    "\n",
    "param_grid = {'base_estimator__max_depth': [2,4,6,8,10], 'n_estimators': [10,20,30,40,50]}\n",
    "\n",
    "gscv_clf = GridSearchCV(estimator = ada_clf, param_grid = param_grid,scoring ='accuracy',cv = 3,return_train_score = True)\n",
    "\n",
    "gscv_clf.fit(X_train,y_train)\n",
    "\n",
    "print('Best Parameter: ',gscv_clf.best_params_, 'Best Score: ',gscv_clf.best_score_)"
   ]
  },
  {
   "cell_type": "code",
   "execution_count": 18,
   "metadata": {},
   "outputs": [
    {
     "name": "stdout",
     "output_type": "stream",
     "text": [
      "Training Set Score: [0.8606968014960156, 0.873727641894169, 0.8818445346441733, 0.8916505867465362, 0.9068533125646127, 0.9220779017897719, 0.9390794317373768, 0.9677738389571436]\n",
      "Validation Set Score: [0.8577132610394725, 0.863592682485775, 0.8610916028570917, 0.8557388089850285, 0.847665989524573, 0.8402948955031119, 0.8316952348006293, 0.8244121950069903]\n"
     ]
    }
   ],
   "source": [
    "# estimating income class using AdaBoostClassifier\n",
    "#from sklearn.ensemble import AdaBoostClassifier\n",
    "from sklearn.model_selection import cross_validate\n",
    "abc_clf = AdaBoostClassifier(random_state = 42)\n",
    "abc_train_accu, abc_val_accu = [],[]\n",
    "\n",
    "for i in range(2,10):\n",
    "    abc_clf.set_params(base_estimator = DecisionTreeClassifier(max_depth = i), n_estimators = 20)\n",
    "    cv_results = cross_validate(abc_clf, X_train,y_train,scoring = 'accuracy', return_train_score = True, cv = 3)\n",
    "    #print(cv_results)\n",
    "    abc_train_accu.append(cv_results['train_score'].mean())\n",
    "    abc_val_accu.append(cv_results['test_score'].mean())\n",
    "    \n",
    "print(\"Training Set Score:\", abc_train_accu)\n",
    "print('Validation Set Score:', abc_val_accu)"
   ]
  },
  {
   "cell_type": "code",
   "execution_count": 19,
   "metadata": {},
   "outputs": [
    {
     "data": {
      "image/png": "[encoded data removed]",
      "text/plain": [
       "<Figure size 432x288 with 1 Axes>"
      ]
     },
     "metadata": {
      "needs_background": "light"
     },
     "output_type": "display_data"
    }
   ],
   "source": [
    "# plotting train and validation error with max_depth to finalize hyperparameter\n",
    "import matplotlib.pyplot as plt\n",
    "plt.plot(range(2,10), [1-i for i in abc_train_accu], label = 'Train Error')\n",
    "plt.plot(range(2,10),[1-i for i in abc_val_accu], label = 'Validation Error')\n",
    "plt.legend()\n",
    "plt.xlabel('Max Depth')\n",
    "plt.ylabel('Error')\n",
    "plt.title('Variation of training and validation error with max depth')\n",
    "plt.show()"
   ]
  },
  {
   "cell_type": "code",
   "execution_count": 15,
   "metadata": {},
   "outputs": [
    {
     "name": "stdout",
     "output_type": "stream",
     "text": [
      "test accuracy: 0.8650834271675709\n"
     ]
    }
   ],
   "source": [
    "# creating final boosting model with max_depth of 3 after analyzing above chart\n",
    "abc_clf_final = AdaBoostClassifier(random_state = 42, base_estimator = DecisionTreeClassifier(max_depth = 3), n_estimators = 20)\n",
    "abc_clf_final.fit(X_train,y_train)\n",
    "\n",
    "# predicting the accuracy of model with test data set\n",
    "print('test accuracy:', abc_clf_final.score(X_test,y_test))"
   ]
  },
  {
   "cell_type": "code",
   "execution_count": 17,
   "metadata": {},
   "outputs": [
    {
     "name": "stdout",
     "output_type": "stream",
     "text": [
      "           Column  Importance\n",
      "0             age    0.166085\n",
      "3    capital-gain    0.148757\n",
      "4    capital-loss    0.097323\n",
      "2   education-num    0.071711\n",
      "5  hours-per-week    0.068025\n"
     ]
    }
   ],
   "source": [
    "# understanding the importance of different features for classification for AdaBoostClassifier\n",
    "importance = abc_clf_final.feature_importances_\n",
    "\n",
    "col_imp = pd.DataFrame({'Column':X_train.columns, 'Importance':importance})\n",
    "print(col_imp.sort_values('Importance', ascending = False).head())  "
   ]
  },
  {
   "cell_type": "code",
   "execution_count": 8,
   "metadata": {},
   "outputs": [
    {
     "name": "stdout",
     "output_type": "stream",
     "text": [
      "                      age\n",
      "Income level_ >50K       \n",
      "0                   24720\n",
      "1                    7841\n",
      "                     age\n",
      "Income level_ >50K      \n",
      "0                   7628\n",
      "1                   2372\n"
     ]
    }
   ],
   "source": [
    "# sampling the data for SVMs as they take long time to train\n",
    "# Checking distrubution of av_run_binary before sampling\n",
    "print(new_data[['Income level_ >50K','age']].groupby('Income level_ >50K').count())\n",
    "# sampling 10K observations from pool of 140K observartions\n",
    "data_sub = new_data.sample(n = 10000, random_state = 42)\n",
    "print(data_sub[['Income level_ >50K','age']].groupby('Income level_ >50K').count())"
   ]
  },
  {
   "cell_type": "code",
   "execution_count": 12,
   "metadata": {},
   "outputs": [
    {
     "name": "stderr",
     "output_type": "stream",
     "text": [
      "C:\\Users\\asus\\Anaconda3\\lib\\site-packages\\sklearn\\svm\\base.py:193: FutureWarning: The default value of gamma will change from 'auto' to 'scale' in version 0.22 to account better for unscaled features. Set gamma explicitly to 'auto' or 'scale' to avoid this warning.\n",
      "  \"avoid this warning.\", FutureWarning)\n",
      "C:\\Users\\asus\\Anaconda3\\lib\\site-packages\\sklearn\\svm\\base.py:193: FutureWarning: The default value of gamma will change from 'auto' to 'scale' in version 0.22 to account better for unscaled features. Set gamma explicitly to 'auto' or 'scale' to avoid this warning.\n",
      "  \"avoid this warning.\", FutureWarning)\n"
     ]
    },
    {
     "name": "stdout",
     "output_type": "stream",
     "text": [
      "Training Set Score: [0.8824285714285715, 0.8204285714285714, 0.7617142857142857]\n",
      "Validation Set Score: [0.8236666666666667, 0.8316666666666667, 0.7653333333333333]\n"
     ]
    }
   ],
   "source": [
    "# estimating income class using SVC, with just relevent factors from above learnings\n",
    "from sklearn.svm import SVC\n",
    "from sklearn.model_selection import train_test_split\n",
    "svc_clf = SVC(random_state = 42)\n",
    "svc_train_accu, svc_val_accu = [],[]\n",
    "\n",
    "imp_cols = ['marital-status_Married-civ-spouse','education-num','capital-gain','capital-loss','age','hours-per-week',\n",
    "            'relationship_Wife','marital-status_Married-AF-spouse','native-country_Iran','relationship_Other-relative']\n",
    "\n",
    "# creating training and validation datasets from X_train\n",
    "X_train_imp, X_test_imp, y_train_imp, y_test_imp = train_test_split(data_sub[imp_cols], data_sub.iloc[:,-1], test_size = 0.3)\n",
    "\n",
    "for ker in ['rbf', 'linear', 'sigmoid']:\n",
    "    svc_clf.set_params(kernel = ker)\n",
    "    svc_clf.fit(X_train_imp, y_train_imp)\n",
    "    svc_train_accu.append(svc_clf.score(X_train_imp,y_train_imp))\n",
    "    svc_val_accu.append(svc_clf.score(X_test_imp,y_test_imp))\n",
    "\n",
    "\n",
    "print(\"Training Set Score:\", svc_train_accu)\n",
    "print('Validation Set Score:', svc_val_accu)"
   ]
  },
  {
   "cell_type": "code",
   "execution_count": 9,
   "metadata": {},
   "outputs": [
    {
     "name": "stderr",
     "output_type": "stream",
     "text": [
      "C:\\Users\\asus\\Anaconda3\\lib\\site-packages\\sklearn\\svm\\base.py:193: FutureWarning: The default value of gamma will change from 'auto' to 'scale' in version 0.22 to account better for unscaled features. Set gamma explicitly to 'auto' or 'scale' to avoid this warning.\n",
      "  \"avoid this warning.\", FutureWarning)\n"
     ]
    },
    {
     "name": "stdout",
     "output_type": "stream",
     "text": [
      "test accuracy: 0.8450199611014434\n"
     ]
    }
   ],
   "source": [
    "# creating final SVC model with 'rbf' kernel\n",
    "from sklearn.svm import SVC\n",
    "imp_cols = ['marital-status_Married-civ-spouse','education-num','capital-gain','capital-loss','age','hours-per-week',\n",
    "            'relationship_Wife','marital-status_Married-AF-spouse','native-country_Iran','relationship_Other-relative']\n",
    "svc_clf_final = SVC(random_state = 42, kernel = 'rbf')\n",
    "svc_clf_final.fit(data_sub[imp_cols], data_sub.iloc[:,-1])\n",
    "\n",
    "# predicting the accuracy of model with test data set\n",
    "print('test accuracy:', svc_clf_final.score(X_test[imp_cols],y_test))"
   ]
  },
  {
   "cell_type": "code",
   "execution_count": null,
   "metadata": {},
   "outputs": [],
   "source": []
  },
  {
   "cell_type": "code",
   "execution_count": null,
   "metadata": {},
   "outputs": [],
   "source": []
  }
 ],
 "metadata": {
  "kernelspec": {
   "display_name": "Python 3",
   "language": "python",
   "name": "python3"
  },
  "language_info": {
   "codemirror_mode": {
    "name": "ipython",
    "version": 3
   },
   "file_extension": ".py",
   "mimetype": "text/x-python",
   "name": "python",
   "nbconvert_exporter": "python",
   "pygments_lexer": "ipython3",
   "version": "3.7.4"
  }
 },
 "nbformat": 4,
 "nbformat_minor": 2
}
