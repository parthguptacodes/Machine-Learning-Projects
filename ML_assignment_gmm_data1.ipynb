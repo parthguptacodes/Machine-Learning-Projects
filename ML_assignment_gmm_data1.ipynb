{
 "cells": [
  {
   "cell_type": "code",
   "execution_count": 1,
   "metadata": {},
   "outputs": [
    {
     "name": "stdout",
     "output_type": "stream",
     "text": [
      "   MWG  NWG  KWG  MDIMC  NDIMC  MDIMA  NDIMB  KWI  VWM  VWN  STRM  STRN  SA  \\\n",
      "0   16   16   16      8      8      8      8    2    1    1     0     0   0   \n",
      "1   16   16   16      8      8      8      8    2    1    1     0     0   0   \n",
      "2   16   16   16      8      8      8      8    2    1    1     0     0   1   \n",
      "3   16   16   16      8      8      8      8    2    1    1     0     0   1   \n",
      "4   16   16   16      8      8      8      8    2    1    1     0     1   0   \n",
      "\n",
      "   SB  Run1 (ms)  Run2 (ms)  Run3 (ms)  Run4 (ms)  \n",
      "0   0     115.26     115.87     118.55     115.80  \n",
      "1   1      78.13      78.25      79.25      79.19  \n",
      "2   0      79.84      80.69      80.76      80.97  \n",
      "3   1      84.32      89.90      86.75      85.58  \n",
      "4   0     115.13     121.98     122.73     114.81  \n"
     ]
    }
   ],
   "source": [
    "# importing data\n",
    "import pandas as pd\n",
    "import numpy as np\n",
    "np.random_state = 42\n",
    "data = pd.read_csv('D:/MSBA/10 Applied Machine Learning/assignment/1/sgemm_product_dataset/sgemm_product.csv')\n",
    "print(data.head())"
   ]
  },
  {
   "cell_type": "code",
   "execution_count": 2,
   "metadata": {},
   "outputs": [
    {
     "name": "stdout",
     "output_type": "stream",
     "text": [
      "   Run1 (ms)  Run2 (ms)  Run3 (ms)  Run4 (ms)  av_run\n",
      "0     115.26     115.87     118.55     115.80  116.37\n",
      "1      78.13      78.25      79.25      79.19   78.70\n",
      "2      79.84      80.69      80.76      80.97   80.56\n",
      "3      84.32      89.90      86.75      85.58   86.64\n",
      "4     115.13     121.98     122.73     114.81  118.66\n"
     ]
    }
   ],
   "source": [
    "# creating target variable (average of 4 runtime)\n",
    "data['av_run'] = data[['Run1 (ms)','Run2 (ms)','Run3 (ms)','Run4 (ms)']].mean(axis = 1).round(2)\n",
    "print(data[['Run1 (ms)', 'Run2 (ms)','Run3 (ms)', 'Run4 (ms)','av_run']].head())"
   ]
  },
  {
   "cell_type": "code",
   "execution_count": 3,
   "metadata": {},
   "outputs": [
    {
     "data": {
      "text/plain": [
       "Index(['MWG', 'NWG', 'KWG', 'MDIMC', 'NDIMC', 'MDIMA', 'NDIMB', 'KWI', 'VWM',\n",
       "       'VWN', 'STRM', 'STRN', 'SA', 'SB', 'av_run'],\n",
       "      dtype='object')"
      ]
     },
     "execution_count": 3,
     "metadata": {},
     "output_type": "execute_result"
    }
   ],
   "source": [
    "# dropping 4 obselete run columns\n",
    "data.drop(columns=['Run1 (ms)', 'Run2 (ms)','Run3 (ms)', 'Run4 (ms)'], inplace = True)\n",
    "data.columns"
   ]
  },
  {
   "cell_type": "code",
   "execution_count": 4,
   "metadata": {},
   "outputs": [
    {
     "name": "stdout",
     "output_type": "stream",
     "text": [
      "   av_run  av_run_binary\n",
      "0  116.37              1\n",
      "1   78.70              1\n",
      "2   80.56              1\n",
      "3   86.64              1\n",
      "4  118.66              1\n"
     ]
    }
   ],
   "source": [
    "# converting av_run into binary variable\n",
    "import numpy as np\n",
    "y_median = np.median(data['av_run'])\n",
    "data['av_run_binary'] = [1 if i > y_median else 0 for i in data['av_run']]\n",
    "print(data[['av_run','av_run_binary']].head())"
   ]
  },
  {
   "cell_type": "code",
   "execution_count": null,
   "metadata": {},
   "outputs": [],
   "source": []
  },
  {
   "cell_type": "code",
   "execution_count": 5,
   "metadata": {},
   "outputs": [
    {
     "name": "stdout",
     "output_type": "stream",
     "text": [
      "(241600, 14)\n"
     ]
    }
   ],
   "source": [
    "# creating X and y varible from data\n",
    "X = data.iloc[:,:-2]\n",
    "y = data.iloc[:,-1]\n",
    "print(X.shape)"
   ]
  },
  {
   "cell_type": "markdown",
   "metadata": {},
   "source": [
    "# Task 1: running clustering algorithm in above dataset"
   ]
  },
  {
   "cell_type": "code",
   "execution_count": 6,
   "metadata": {},
   "outputs": [
    {
     "name": "stdout",
     "output_type": "stream",
     "text": [
      "[15851713.194510542, 14574301.007316358, 13664865.636716658, 12765371.338029355, 12889251.053440083, 11640380.80875997, 11000123.848363558, 11046740.815719668]\n"
     ]
    }
   ],
   "source": [
    "# clustering dataset using k-means\n",
    "import numpy as np\n",
    "from sklearn.mixture import GaussianMixture\n",
    "\n",
    "np.random.seed(42)\n",
    "\n",
    "clust = GaussianMixture()\n",
    "\n",
    "aic = []\n",
    "\n",
    "for k in range(2,10):\n",
    "    clust.set_params(n_components = k)\n",
    "    clust.fit(X)\n",
    "    aic.append(clust.aic(X))\n",
    "\n",
    "print(aic)"
   ]
  },
  {
   "cell_type": "code",
   "execution_count": 11,
   "metadata": {
    "scrolled": true
   },
   "outputs": [
    {
     "data": {
      "image/png": "[encoded data removed]",
      "text/plain": [
       "<Figure size 432x288 with 1 Axes>"
      ]
     },
     "metadata": {
      "needs_background": "light"
     },
     "output_type": "display_data"
    }
   ],
   "source": [
    "# plotting elbow curve between number of clusters and rmse\n",
    "import matplotlib.pyplot as plt\n",
    "def plot_line(x,y,title,ylabel,xlabel):\n",
    "    plt.plot(x,y)\n",
    "    plt.title(title)\n",
    "    plt.ylabel(ylabel)\n",
    "    plt.xlabel(xlabel)\n",
    "    plt.show()\n",
    "    \n",
    "plot_line(range(2,10),aic,'Number of Clusters Vs AIC','AIC','Number of Clusters')"
   ]
  },
  {
   "cell_type": "markdown",
   "metadata": {},
   "source": [
    "# Feature Selection Algorithm: Decision Tree"
   ]
  },
  {
   "cell_type": "code",
   "execution_count": 61,
   "metadata": {},
   "outputs": [
    {
     "data": {
      "text/plain": [
       "DecisionTreeClassifier(class_weight=None, criterion='gini', max_depth=None,\n",
       "                       max_features=None, max_leaf_nodes=None,\n",
       "                       min_impurity_decrease=0.0, min_impurity_split=None,\n",
       "                       min_samples_leaf=1, min_samples_split=2,\n",
       "                       min_weight_fraction_leaf=0.0, presort=False,\n",
       "                       random_state=None, splitter='best')"
      ]
     },
     "execution_count": 61,
     "metadata": {},
     "output_type": "execute_result"
    }
   ],
   "source": [
    "# feature selection through decision tree\n",
    "from sklearn.tree import DecisionTreeClassifier\n",
    "\n",
    "dt_clf = DecisionTreeClassifier()\n",
    "dt_clf.fit(X,y)"
   ]
  },
  {
   "cell_type": "code",
   "execution_count": 62,
   "metadata": {},
   "outputs": [
    {
     "name": "stdout",
     "output_type": "stream",
     "text": [
      "     name     score\n",
      "0     MWG  0.270352\n",
      "1     NWG  0.170793\n",
      "4   NDIMC  0.151463\n",
      "3   MDIMC  0.151380\n",
      "12     SA  0.053769\n",
      "10   STRM  0.043231\n",
      "8     VWM  0.037922\n",
      "13     SB  0.030403\n",
      "9     VWN  0.026270\n",
      "2     KWG  0.022784\n",
      "6   NDIMB  0.011721\n",
      "5   MDIMA  0.011331\n",
      "11   STRN  0.009589\n",
      "7     KWI  0.008992\n"
     ]
    }
   ],
   "source": [
    "import pandas as pd\n",
    "feature_imp = pd.DataFrame({'name':X.columns, 'score':dt_clf.feature_importances_})\n",
    "print(feature_imp.sort_values('score', ascending = False))"
   ]
  },
  {
   "cell_type": "code",
   "execution_count": 14,
   "metadata": {},
   "outputs": [
    {
     "data": {
      "text/plain": [
       "(241600, 4)"
      ]
     },
     "execution_count": 14,
     "metadata": {},
     "output_type": "execute_result"
    }
   ],
   "source": [
    "# selecting top features based on above table\n",
    "X_sub = X[['MWG','NWG','MDIMC','NDIMC']]\n",
    "X_sub.shape"
   ]
  },
  {
   "cell_type": "code",
   "execution_count": 16,
   "metadata": {},
   "outputs": [
    {
     "name": "stdout",
     "output_type": "stream",
     "text": [
      "[6212012.647022227, 4961580.586297929, 4080880.0577838696, 3201288.501254404, 2790692.1272740597, 2112977.3416448315, 1551979.7368850834, 1083021.4572051824]\n"
     ]
    }
   ],
   "source": [
    "# making cluster with just above features\n",
    "def clustering(X):\n",
    "    dr_clust = GaussianMixture()\n",
    "    aic = []\n",
    "    for k in range(2,10):\n",
    "        dr_clust.set_params(n_components = k)\n",
    "        dr_clust.fit(X)\n",
    "        aic.append(dr_clust.aic(X))\n",
    "    return aic\n",
    "\n",
    "dr_rmse = clustering(X_sub)\n",
    "print(dr_rmse)"
   ]
  },
  {
   "cell_type": "code",
   "execution_count": 17,
   "metadata": {},
   "outputs": [
    {
     "data": {
      "image/png": "[encoded data removed]",
      "text/plain": [
       "<Figure size 432x288 with 1 Axes>"
      ]
     },
     "metadata": {
      "needs_background": "light"
     },
     "output_type": "display_data"
    }
   ],
   "source": [
    "plot_line(range(2,10), dr_rmse,'Number of Clusters Vs AIC','AIC','Number of Clusters')"
   ]
  },
  {
   "cell_type": "code",
   "execution_count": 18,
   "metadata": {},
   "outputs": [
    {
     "name": "stdout",
     "output_type": "stream",
     "text": [
      "   Clusters        Normal         DR_dt\n",
      "0         2  1.585171e+07  6.212013e+06\n",
      "1         3  1.457430e+07  4.961581e+06\n",
      "2         4  1.366487e+07  4.080880e+06\n",
      "3         5  1.276537e+07  3.201289e+06\n",
      "4         6  1.288925e+07  2.790692e+06\n",
      "5         7  1.164038e+07  2.112977e+06\n",
      "6         8  1.100012e+07  1.551980e+06\n",
      "7         9  1.104674e+07  1.083021e+06\n"
     ]
    }
   ],
   "source": [
    "kmeans_comparision = pd.DataFrame({'Clusters':range(2,10),'Normal':aic,'DR_dt':dr_rmse})\n",
    "print(kmeans_comparision)"
   ]
  },
  {
   "cell_type": "code",
   "execution_count": 19,
   "metadata": {},
   "outputs": [],
   "source": [
    "# function for adding column to a dataframe\n",
    "def add_column(df,col_name, col):\n",
    "    df[col_name] = col"
   ]
  },
  {
   "cell_type": "markdown",
   "metadata": {},
   "source": [
    "# Dimensionality Reduction - PCA"
   ]
  },
  {
   "cell_type": "code",
   "execution_count": 20,
   "metadata": {},
   "outputs": [
    {
     "data": {
      "text/plain": [
       "PCA(copy=True, iterated_power='auto', n_components=None, random_state=None,\n",
       "    svd_solver='auto', tol=0.0, whiten=False)"
      ]
     },
     "execution_count": 20,
     "metadata": {},
     "output_type": "execute_result"
    }
   ],
   "source": [
    "# using PCA for dimensionality reduction\n",
    "from sklearn.decomposition import PCA\n",
    "\n",
    "pca = PCA()\n",
    "pca.fit(X)"
   ]
  },
  {
   "cell_type": "code",
   "execution_count": 21,
   "metadata": {},
   "outputs": [
    {
     "data": {
      "text/plain": [
       "array([4.53639997e-01, 4.52928645e-01, 2.52855826e-02, 2.10774165e-02,\n",
       "       1.72858772e-02, 1.71234688e-02, 8.64408260e-03, 2.25738761e-03,\n",
       "       7.53872687e-04, 7.52849140e-04, 6.27052115e-05, 6.27052115e-05,\n",
       "       6.27052115e-05, 6.27052115e-05])"
      ]
     },
     "execution_count": 21,
     "metadata": {},
     "output_type": "execute_result"
    }
   ],
   "source": [
    "print([round(x,2) for x in pca.explained_variance_ratio_])"
   ]
  },
  {
   "cell_type": "code",
   "execution_count": 22,
   "metadata": {},
   "outputs": [
    {
     "data": {
      "text/plain": [
       "array([0.45364   , 0.45292865])"
      ]
     },
     "execution_count": 22,
     "metadata": {},
     "output_type": "execute_result"
    }
   ],
   "source": [
    "# as can be seen from above ratio top 2 companents explain 90% variance in data\n",
    "pca = PCA(n_components = 2)\n",
    "X_pca_transformed = pca.fit_transform(X)\n",
    "pca.explained_variance_ratio_"
   ]
  },
  {
   "cell_type": "code",
   "execution_count": 23,
   "metadata": {},
   "outputs": [
    {
     "name": "stdout",
     "output_type": "stream",
     "text": [
      "[4169555.9385316526, 3684762.59311448, 3342088.8298783167, 3043206.5440544873, 2919463.0383552304, 2692094.6986783496, 2460434.216434866, 2320636.0023745853]\n"
     ]
    }
   ],
   "source": [
    "# using transformed X_pca for clustering\n",
    "pca_rmse = clustering(X_pca_transformed)\n",
    "print(pca_rmse)"
   ]
  },
  {
   "cell_type": "code",
   "execution_count": 24,
   "metadata": {},
   "outputs": [
    {
     "data": {
      "image/png": "[encoded data removed]",
      "text/plain": [
       "<Figure size 432x288 with 1 Axes>"
      ]
     },
     "metadata": {
      "needs_background": "light"
     },
     "output_type": "display_data"
    }
   ],
   "source": [
    "plot_line(range(2,10), pca_rmse,'Number of Clusters Vs AIC','PCA AIC','Number of Clusters')"
   ]
  },
  {
   "cell_type": "code",
   "execution_count": 25,
   "metadata": {},
   "outputs": [
    {
     "name": "stdout",
     "output_type": "stream",
     "text": [
      "   Clusters        Normal         DR_dt       pca_AIC\n",
      "0         2  1.585171e+07  6.212013e+06  4.169556e+06\n",
      "1         3  1.457430e+07  4.961581e+06  3.684763e+06\n",
      "2         4  1.366487e+07  4.080880e+06  3.342089e+06\n",
      "3         5  1.276537e+07  3.201289e+06  3.043207e+06\n",
      "4         6  1.288925e+07  2.790692e+06  2.919463e+06\n",
      "5         7  1.164038e+07  2.112977e+06  2.692095e+06\n",
      "6         8  1.100012e+07  1.551980e+06  2.460434e+06\n",
      "7         9  1.104674e+07  1.083021e+06  2.320636e+06\n"
     ]
    }
   ],
   "source": [
    "# adding pca_rmse in DF with other RMSEs\n",
    "add_column(kmeans_comparision,'pca_AIC', pca_rmse)\n",
    "print(kmeans_comparision)"
   ]
  },
  {
   "cell_type": "markdown",
   "metadata": {},
   "source": [
    "# Dimensionality Reduction : ICA"
   ]
  },
  {
   "cell_type": "code",
   "execution_count": 7,
   "metadata": {},
   "outputs": [],
   "source": [
    "# using ICA to find out important dimmensions from the dataset\n",
    "from sklearn.decomposition import FastICA\n",
    "\n",
    "ica = FastICA()\n",
    "kmeans = GaussianMixture()\n",
    "\n",
    "ica_n_comp = []\n",
    "ica_n_clust = []\n",
    "ica_aic = []\n",
    "\n",
    "for n in range(2,14):\n",
    "    ica.set_params(n_components = n)\n",
    "    X_ica = ica.fit_transform(X)\n",
    "    for k in range(2,10):\n",
    "        kmeans.set_params(n_components = k)\n",
    "        kmeans.fit(X_ica)\n",
    "        ica_n_comp.append(n)\n",
    "        ica_n_clust.append(k)\n",
    "        ica_aic.append(kmeans.aic(X_ica))"
   ]
  },
  {
   "cell_type": "code",
   "execution_count": 8,
   "metadata": {},
   "outputs": [
    {
     "name": "stdout",
     "output_type": "stream",
     "text": [
      "    n_components  n_clusters           AIC\n",
      "94            13           8 -3.072039e+07\n",
      "95            13           9 -3.070181e+07\n",
      "93            13           7 -3.067973e+07\n",
      "92            13           6 -3.051625e+07\n",
      "91            13           5 -3.049119e+07\n",
      "..           ...         ...           ...\n",
      "5              2           7 -4.796070e+06\n",
      "6              2           8 -4.795872e+06\n",
      "7              2           9 -4.795837e+06\n",
      "1              2           3 -4.739595e+06\n",
      "0              2           2 -4.701978e+06\n",
      "\n",
      "[96 rows x 3 columns]\n"
     ]
    }
   ],
   "source": [
    "ica_matrix = pd.DataFrame({'n_components':ica_n_comp, 'n_clusters':ica_n_clust, 'AIC':ica_aic})\n",
    "print(ica_matrix.sort_values('AIC'))"
   ]
  },
  {
   "cell_type": "code",
   "execution_count": 9,
   "metadata": {},
   "outputs": [
    {
     "name": "stdout",
     "output_type": "stream",
     "text": [
      "    n_components  n_clusters           AIC\n",
      "1              2           3 -4.739595e+06\n",
      "9              3           3 -7.005897e+06\n",
      "17             4           3 -9.315132e+06\n",
      "25             5           3 -1.167135e+07\n",
      "33             6           3 -1.399542e+07\n",
      "41             7           3 -1.634293e+07\n",
      "49             8           3 -1.859609e+07\n",
      "57             9           3 -2.102571e+07\n",
      "65            10           3 -2.337034e+07\n",
      "73            11           3 -2.563005e+07\n",
      "81            12           3 -2.792143e+07\n",
      "89            13           3 -3.013889e+07\n"
     ]
    }
   ],
   "source": [
    "print(ica_matrix[ica_matrix['n_clusters']==3])"
   ]
  },
  {
   "cell_type": "code",
   "execution_count": 56,
   "metadata": {
    "scrolled": false
   },
   "outputs": [
    {
     "data": {
      "image/png": "[encoded data removed]",
      "text/plain": [
       "<Figure size 432x288 with 1 Axes>"
      ]
     },
     "metadata": {
      "needs_background": "light"
     },
     "output_type": "display_data"
    }
   ],
   "source": [
    "plot_line(range(2,10), ica_matrix[ica_matrix['n_components']==13]['AIC'],'Number of Clusters Vs AIC','ICA AIC','Number of Clusters')"
   ]
  },
  {
   "cell_type": "code",
   "execution_count": 46,
   "metadata": {},
   "outputs": [
    {
     "data": {
      "text/plain": [
       "88   -3.016418e+07\n",
       "89   -3.023220e+07\n",
       "90   -3.048234e+07\n",
       "91   -3.047334e+07\n",
       "92   -3.055860e+07\n",
       "93   -3.066914e+07\n",
       "94   -3.068144e+07\n",
       "95   -3.077590e+07\n",
       "Name: AIC, dtype: float64"
      ]
     },
     "execution_count": 46,
     "metadata": {},
     "output_type": "execute_result"
    }
   ],
   "source": [
    "ica_matrix[ica_matrix['n_components']==13]['AIC']"
   ]
  },
  {
   "cell_type": "code",
   "execution_count": 47,
   "metadata": {},
   "outputs": [
    {
     "name": "stdout",
     "output_type": "stream",
     "text": [
      "   Clusters        Normal         DR_dt       pca_AIC  ica_AIC\n",
      "0         2  1.585171e+07  6.212013e+06  4.169556e+06      NaN\n",
      "1         3  1.457430e+07  4.961581e+06  3.684763e+06      NaN\n",
      "2         4  1.366487e+07  4.080880e+06  3.342089e+06      NaN\n",
      "3         5  1.276537e+07  3.201289e+06  3.043207e+06      NaN\n",
      "4         6  1.288925e+07  2.790692e+06  2.919463e+06      NaN\n",
      "5         7  1.164038e+07  2.112977e+06  2.692095e+06      NaN\n",
      "6         8  1.100012e+07  1.551980e+06  2.460434e+06      NaN\n",
      "7         9  1.104674e+07  1.083021e+06  2.320636e+06      NaN\n"
     ]
    }
   ],
   "source": [
    "# adding ica rmse in DF with other RMSEs\n",
    "kmeans_comparision['ica_AIC'] = ica_matrix[ica_matrix['n_components']==13]['AIC'] \n",
    "print(kmeans_comparision)"
   ]
  },
  {
   "cell_type": "markdown",
   "metadata": {},
   "source": [
    "# Dimenssionality Reduction: Randomized Projection"
   ]
  },
  {
   "cell_type": "code",
   "execution_count": 10,
   "metadata": {},
   "outputs": [],
   "source": [
    "# using gaussian random projection to reduce dimmension of dataset and testing with k-means to find optinal n_components\n",
    "from sklearn.random_projection import GaussianRandomProjection\n",
    "\n",
    "transformer = GaussianRandomProjection()\n",
    "kmeans = GaussianMixture()\n",
    "\n",
    "n_comp = []\n",
    "n_clust = []\n",
    "grp_aic = []\n",
    "\n",
    "for n in range(2,14):\n",
    "    transformer.set_params(n_components = n)\n",
    "    X_grp = transformer.fit_transform(X)\n",
    "    for k in range(2,10):\n",
    "        kmeans.set_params(n_components = k)\n",
    "        kmeans.fit(X_grp)\n",
    "        n_comp.append(n)\n",
    "        n_clust.append(k)\n",
    "        grp_aic.append(kmeans.aic(X_grp))"
   ]
  },
  {
   "cell_type": "code",
   "execution_count": 11,
   "metadata": {},
   "outputs": [],
   "source": [
    "grp_matrix = pd.DataFrame({'n_components':n_comp, 'n_clusters':n_clust, 'AIC':grp_aic})"
   ]
  },
  {
   "cell_type": "code",
   "execution_count": 12,
   "metadata": {},
   "outputs": [
    {
     "name": "stdout",
     "output_type": "stream",
     "text": [
      "    n_components  n_clusters           AIC\n",
      "7              2           9  4.420548e+06\n",
      "6              2           8  4.422058e+06\n",
      "3              2           5  4.423922e+06\n",
      "5              2           7  4.425806e+06\n",
      "4              2           6  4.426441e+06\n",
      "..           ...         ...           ...\n",
      "81            12           3  1.368309e+07\n",
      "65            10           3  1.384181e+07\n",
      "88            13           2  1.388169e+07\n",
      "80            12           2  1.419101e+07\n",
      "64            10           2  1.432050e+07\n",
      "\n",
      "[96 rows x 3 columns]\n"
     ]
    }
   ],
   "source": [
    "print(grp_matrix.sort_values('AIC'))"
   ]
  },
  {
   "cell_type": "code",
   "execution_count": 13,
   "metadata": {},
   "outputs": [
    {
     "name": "stdout",
     "output_type": "stream",
     "text": [
      "    n_components  n_clusters           AIC\n",
      "2              2           4  4.434280e+06\n",
      "10             3           4  6.260392e+06\n",
      "18             4           4  7.454681e+06\n",
      "26             5           4  9.382262e+06\n",
      "34             6           4  9.709010e+06\n",
      "42             7           4  1.102211e+07\n",
      "50             8           4  1.188682e+07\n",
      "58             9           4  1.267842e+07\n",
      "66            10           4  1.341028e+07\n",
      "74            11           4  1.255386e+07\n",
      "82            12           4  1.320385e+07\n",
      "90            13           4  1.277611e+07\n"
     ]
    }
   ],
   "source": [
    "# from above matrix it can be seen rmse is minimum for n_components = 2\n",
    "print(grp_matrix[grp_matrix['n_clusters'] == 4])"
   ]
  },
  {
   "cell_type": "code",
   "execution_count": 52,
   "metadata": {},
   "outputs": [
    {
     "data": {
      "image/png": "[encoded data removed]",
      "text/plain": [
       "<Figure size 432x288 with 1 Axes>"
      ]
     },
     "metadata": {
      "needs_background": "light"
     },
     "output_type": "display_data"
    }
   ],
   "source": [
    "plot_line(range(2,10), grp_matrix[grp_matrix['n_components'] == 2]['AIC'],'Number of Clusters Vs AIC','GRP AIC','Number of Clusters')"
   ]
  },
  {
   "cell_type": "code",
   "execution_count": 57,
   "metadata": {},
   "outputs": [
    {
     "name": "stdout",
     "output_type": "stream",
     "text": [
      "   Clusters        Normal         DR_dt       pca_AIC  ica_AIC      grp_rmse\n",
      "0         2  1.585171e+07  6.212013e+06  4.169556e+06      NaN  5.348678e+06\n",
      "1         3  1.457430e+07  4.961581e+06  3.684763e+06      NaN  5.206392e+06\n",
      "2         4  1.366487e+07  4.080880e+06  3.342089e+06      NaN  5.063137e+06\n",
      "3         5  1.276537e+07  3.201289e+06  3.043207e+06      NaN  5.024640e+06\n",
      "4         6  1.288925e+07  2.790692e+06  2.919463e+06      NaN  4.917949e+06\n",
      "5         7  1.164038e+07  2.112977e+06  2.692095e+06      NaN  4.908052e+06\n",
      "6         8  1.100012e+07  1.551980e+06  2.460434e+06      NaN  4.883094e+06\n",
      "7         9  1.104674e+07  1.083021e+06  2.320636e+06      NaN  4.825461e+06\n"
     ]
    }
   ],
   "source": [
    "# adding GRP rmse in DF with other RMSEs\n",
    "add_column(kmeans_comparision,'grp_rmse', grp_matrix[grp_matrix['n_components'] == 2]['AIC'])\n",
    "print(kmeans_comparision)"
   ]
  },
  {
   "cell_type": "markdown",
   "metadata": {},
   "source": [
    "# Task 4: Training Neural Network"
   ]
  },
  {
   "cell_type": "code",
   "execution_count": 58,
   "metadata": {},
   "outputs": [],
   "source": [
    "# creating a neural network running function\n",
    "from sklearn.neural_network import MLPClassifier\n",
    "\n",
    "def run_nn(X_train, X_test, y_train,y_test):\n",
    "    nn_clf = MLPClassifier()\n",
    "    nn_clf.fit(X_train,y_train)\n",
    "    training_accuracy = nn_clf.score(X_train,y_train)\n",
    "    test_accuracy = nn_clf.score(X_test,y_test)\n",
    "    return(training_accuracy,test_accuracy)\n",
    "    "
   ]
  },
  {
   "cell_type": "code",
   "execution_count": 59,
   "metadata": {},
   "outputs": [
    {
     "name": "stdout",
     "output_type": "stream",
     "text": [
      "(241600, 14) (169120, 14) (72480, 14)\n"
     ]
    }
   ],
   "source": [
    "# training and testing accuracy for normal data (w/o any dimensionality reduction)\n",
    "from sklearn.model_selection import train_test_split\n",
    "\n",
    "X_train, X_test, y_train,y_test = train_test_split(X,y,test_size = 0.3)\n",
    "\n",
    "print(X.shape, X_train.shape, X_test.shape)"
   ]
  },
  {
   "cell_type": "code",
   "execution_count": 60,
   "metadata": {},
   "outputs": [
    {
     "name": "stdout",
     "output_type": "stream",
     "text": [
      "(0.9792100283822138, 0.9782146799116997)\n"
     ]
    }
   ],
   "source": [
    "print(run_nn(X_train, X_test, y_train,y_test))"
   ]
  },
  {
   "cell_type": "code",
   "execution_count": 61,
   "metadata": {},
   "outputs": [
    {
     "name": "stdout",
     "output_type": "stream",
     "text": [
      "(169120, 4) (72480, 4)\n"
     ]
    }
   ],
   "source": [
    "# training and testing data set for feature selected through decision tree \n",
    "X_train_dt = X_train[['MWG','NWG','MDIMC','NDIMC']]\n",
    "X_test_dt = X_test[['MWG','NWG','MDIMC','NDIMC']]\n",
    "print(X_train_dt.shape, X_test_dt.shape)"
   ]
  },
  {
   "cell_type": "code",
   "execution_count": 62,
   "metadata": {},
   "outputs": [
    {
     "name": "stdout",
     "output_type": "stream",
     "text": [
      "(169120, 2) (72480, 2)\n"
     ]
    }
   ],
   "source": [
    "# training and testing data for feature selected through PCA\n",
    "X_train_pca = pca.transform(X_train)\n",
    "X_test_pca = pca.transform(X_test)\n",
    "print(X_train_pca.shape, X_test_pca.shape)"
   ]
  },
  {
   "cell_type": "code",
   "execution_count": 63,
   "metadata": {},
   "outputs": [],
   "source": [
    "# training and testing data for feature transformed through ICA\n",
    "ica.set_params(n_components = 3)\n",
    "X_train_ica = ica.fit_transform(X_train)\n",
    "X_test_ica = ica.transform(X_test)"
   ]
  },
  {
   "cell_type": "code",
   "execution_count": 64,
   "metadata": {},
   "outputs": [],
   "source": [
    "# traing and testing data for feature transformed through GRP\n",
    "transformer.set_params(n_components = 4)\n",
    "X_train_grp = transformer.fit_transform(X_train)\n",
    "X_testr_grp = transformer.transform(X_test)"
   ]
  },
  {
   "cell_type": "code",
   "execution_count": 65,
   "metadata": {},
   "outputs": [],
   "source": [
    "# running above different training and testing dataset through NN\n",
    "X_train_lst = [X_train,X_train_dt, X_train_pca, X_train_ica, X_train_grp]\n",
    "X_test_lst = [X_test, X_test_dt, X_test_pca, X_test_ica, X_testr_grp]\n",
    "\n",
    "train_accu = []\n",
    "test_accu = []\n",
    "\n",
    "for i in range(5):\n",
    "    nn_accu = run_nn(X_train_lst[i],X_test_lst[i],y_train,y_test)\n",
    "    train_accu.append(nn_accu[0])\n",
    "    test_accu.append(nn_accu[1])"
   ]
  },
  {
   "cell_type": "code",
   "execution_count": 66,
   "metadata": {},
   "outputs": [
    {
     "name": "stdout",
     "output_type": "stream",
     "text": [
      "                                Method  Train Accuracy  Test Accuracy\n",
      "0                    No Transformation        0.980954       0.979539\n",
      "1     Fearure Selection: Decision Tree        0.885732       0.884975\n",
      "2                                  PCA        0.739776       0.742619\n",
      "3                                  ICA        0.751236       0.754098\n",
      "4  RP - Gaussian Randmized Projections        0.837737       0.839087\n"
     ]
    }
   ],
   "source": [
    "# result comparision for transformed data\n",
    "methodology = ['No Transformation','Fearure Selection: Decision Tree', 'PCA','ICA','RP - Gaussian Randmized Projections']\n",
    "\n",
    "nn_results_comparision = pd.DataFrame({'Method': methodology,'Train Accuracy':train_accu, 'Test Accuracy':test_accu})\n",
    "print(nn_results_comparision)"
   ]
  },
  {
   "cell_type": "markdown",
   "metadata": {},
   "source": [
    "# Task 5: applying neural network on clustering outcome"
   ]
  },
  {
   "cell_type": "code",
   "execution_count": 67,
   "metadata": {},
   "outputs": [
    {
     "name": "stdout",
     "output_type": "stream",
     "text": [
      "[4 4 4 4 4]\n"
     ]
    }
   ],
   "source": [
    "clust.set_params(n_components = 5)\n",
    "y_predict = clust.fit_predict(X)\n",
    "print(y_predict[:5])"
   ]
  },
  {
   "cell_type": "code",
   "execution_count": 68,
   "metadata": {},
   "outputs": [
    {
     "name": "stdout",
     "output_type": "stream",
     "text": [
      "(0.6979600283822138, 0.6995998896247241)\n"
     ]
    }
   ],
   "source": [
    "#running NN on clustering output\n",
    "\n",
    "X_train, X_test, y_train,y_test = train_test_split(y_predict,y,test_size = 0.3)\n",
    "\n",
    "print(run_nn(X_train.reshape(-1,1),X_test.reshape(-1,1),y_train,y_test))"
   ]
  },
  {
   "cell_type": "code",
   "execution_count": null,
   "metadata": {},
   "outputs": [],
   "source": []
  },
  {
   "cell_type": "code",
   "execution_count": null,
   "metadata": {},
   "outputs": [],
   "source": []
  },
  {
   "cell_type": "code",
   "execution_count": null,
   "metadata": {},
   "outputs": [],
   "source": []
  },
  {
   "cell_type": "code",
   "execution_count": null,
   "metadata": {},
   "outputs": [],
   "source": []
  }
 ],
 "metadata": {
  "kernelspec": {
   "display_name": "Python 3",
   "language": "python",
   "name": "python3"
  },
  "language_info": {
   "codemirror_mode": {
    "name": "ipython",
    "version": 3
   },
   "file_extension": ".py",
   "mimetype": "text/x-python",
   "name": "python",
   "nbconvert_exporter": "python",
   "pygments_lexer": "ipython3",
   "version": "3.7.4"
  }
 },
 "nbformat": 4,
 "nbformat_minor": 2
}
